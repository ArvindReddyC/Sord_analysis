{
  "cells": [
    {
      "cell_type": "markdown",
      "metadata": {
        "id": "view-in-github",
        "colab_type": "text"
      },
      "source": [
        "<a href=\"https://colab.research.google.com/github/ArvindReddyC/Sord_analysis/blob/main/prediction_SORD.ipynb\" target=\"_parent\"><img src=\"https://colab.research.google.com/assets/colab-badge.svg\" alt=\"Open In Colab\"/></a>"
      ]
    },
    {
      "cell_type": "code",
      "execution_count": 1,
      "outputs": [],
      "source": [
        "import pandas as pd\n",
        "from scipy import stats\n",
        "import numpy as np\n",
        "import warnings\n",
        "warnings.filterwarnings(\"ignore\")\n",
        "from tensorflow import keras\n",
        "from tensorflow import keras\n",
        "from scipy import stats\n",
        "from tqdm import tqdm\n",
        "from iterto"
      ],
      "metadata": {
        "pycharm": {
          "name": "#%%\n"
        },
        "id": "-VaH6cGnVyME"
      }
    },
    {
      "cell_type": "code",
      "source": [
        ""
      ],
      "metadata": {
        "id": "O2ZXJxmqP7_i"
      },
      "execution_count": null,
      "outputs": []
    },
    {
      "cell_type": "code",
      "source": [
        "!touch test.py"
      ],
      "metadata": {
        "id": "C5-223ll_Fmi"
      },
      "execution_count": null,
      "outputs": []
    },
    {
      "cell_type": "markdown",
      "source": [
        "# Function Required."
      ],
      "metadata": {
        "id": "_HjQUrMUP5tG"
      }
    },
    {
      "cell_type": "code",
      "execution_count": 11,
      "outputs": [],
      "source": [
        "def encapsule(df):\n",
        "    display(df.head(5))\n",
        "    print( f'shape of df = {df.shape}' )\n",
        "    return df"
      ],
      "metadata": {
        "pycharm": {
          "name": "#%%\n"
        },
        "id": "86ED1woPVyMG"
      }
    },
    {
      "cell_type": "code",
      "execution_count": 12,
      "outputs": [],
      "source": [
        "def tran(x):\n",
        "    y = x[1:-1]\n",
        "    return y.split(',')\n",
        "\n",
        "def data_wrangle( df ):\n",
        "    sample = df[['timestamp','raw_sensor_data']];\n",
        "    sample['parameters'] = sample.raw_sensor_data.apply(tran);\n",
        "    main = pd.DataFrame( sample.parameters.to_list() , columns = ['v1','v2','v3','v4','v5','v6','v7','v8','v9','v10','v11'] );\n",
        "    main['timestamp'] = sample['timestamp'];\n",
        "    main.drop( 'v1' , axis = 1 , inplace = True );\n",
        "    main.set_index('timestamp' , inplace=True);\n",
        "    return main;\n",
        "\n",
        "def data_wrangle_json( df ):\n",
        "    main = pd.DataFrame( df.raw_sensor_data.to_list() , columns = ['v1','v2','v3','v4','v5','v6','v7','v8','v9','v10','v11'] );\n",
        "    main['timestamp'] = df['timestamp'];\n",
        "    main.drop( 'v1' , axis = 1 , inplace = True );\n",
        "    main.set_index('timestamp' , inplace=True);\n",
        "    return main;"
      ],
      "metadata": {
        "pycharm": {
          "name": "#%%\n"
        },
        "id": "X72KHeJxVyMH"
      }
    },
    {
      "cell_type": "code",
      "execution_count": 13,
      "outputs": [],
      "source": [
        "def create_segments_and_labels(df, time_steps, step):\n",
        "\n",
        "    # x, y, z acceleration as features\n",
        "    N_FEATURES = 10\n",
        "    # Number of steps to advance in each iteration (for me, it should always\n",
        "    # be equal to the time_steps in order to have no overlap between segments)\n",
        "    # step = time_steps\n",
        "    segments = []\n",
        "    labels = []\n",
        "    for i in range(0, len(df) - time_steps, step):\n",
        "        xs = df['v3'].values[i: i + time_steps]\n",
        "        ys = df['v4'].values[i: i + time_steps]\n",
        "        zs = df['v5'].values[i: i + time_steps]\n",
        "        angle = df['v2'].values[i: i + time_steps]\n",
        "        u5 = df['v6'].values[i: i + time_steps]\n",
        "        u6= df['v7'].values[i: i + time_steps]\n",
        "        u7= df['v8'].values[i: i + time_steps]\n",
        "        u8= df['v9'].values[i: i + time_steps]\n",
        "        u9= df['v10'].values[i: i + time_steps]\n",
        "        u10= df['v11'].values[i: i + time_steps]\n",
        "        # Retrieve the most often used label in this segment\n",
        "        segments.append([xs, ys, zs,angle,u5,u6,u7,u8,u9,u10 ])\n",
        "\n",
        "    # Bring the segments into a better shape\n",
        "    reshaped_segments = np.asarray(segments, dtype= np.float32).reshape(-1, time_steps, N_FEATURES)\n",
        "    reshaped = reshaped_segments.reshape(-1,350)\n",
        "    return reshaped"
      ],
      "metadata": {
        "pycharm": {
          "name": "#%%\n"
        },
        "id": "-_OPRU1AVyMI"
      }
    },
    {
      "cell_type": "markdown",
      "source": [
        "# Predicting from CSV File "
      ],
      "metadata": {
        "id": "v3Fz4jc2P_ET"
      }
    },
    {
      "cell_type": "code",
      "execution_count": 5,
      "outputs": [
        {
          "output_type": "display_data",
          "data": {
            "text/html": [
              "\n",
              "  <div id=\"df-dc75f69b-8b14-4603-81ae-a850030abf0d\">\n",
              "    <div class=\"colab-df-container\">\n",
              "      <div>\n",
              "<style scoped>\n",
              "    .dataframe tbody tr th:only-of-type {\n",
              "        vertical-align: middle;\n",
              "    }\n",
              "\n",
              "    .dataframe tbody tr th {\n",
              "        vertical-align: top;\n",
              "    }\n",
              "\n",
              "    .dataframe thead th {\n",
              "        text-align: right;\n",
              "    }\n",
              "</style>\n",
              "<table border=\"1\" class=\"dataframe\">\n",
              "  <thead>\n",
              "    <tr style=\"text-align: right;\">\n",
              "      <th></th>\n",
              "      <th>id</th>\n",
              "      <th>user_id</th>\n",
              "      <th>email_id</th>\n",
              "      <th>raw_sensor_data</th>\n",
              "      <th>predicted_activity</th>\n",
              "      <th>actual_activity</th>\n",
              "      <th>timestamp</th>\n",
              "      <th>createdAt</th>\n",
              "      <th>updatedAt</th>\n",
              "    </tr>\n",
              "  </thead>\n",
              "  <tbody>\n",
              "    <tr>\n",
              "      <th>0</th>\n",
              "      <td>458813</td>\n",
              "      <td>61f87f357d6217b5ed17047d</td>\n",
              "      <td>imove.mrt@gmail.com</td>\n",
              "      <td>[1.626615,8.192087525665539,-0.99,0.8,-9.53,-0...</td>\n",
              "      <td>IN_PROGRESS</td>\n",
              "      <td>NaN</td>\n",
              "      <td>2022-02-13T14:32:00.378Z</td>\n",
              "      <td>2022-02-14T01:32:45.325Z</td>\n",
              "      <td>2022-02-14T01:32:45.325Z</td>\n",
              "    </tr>\n",
              "    <tr>\n",
              "      <th>1</th>\n",
              "      <td>458814</td>\n",
              "      <td>61f87f357d6217b5ed17047d</td>\n",
              "      <td>imove.mrt@gmail.com</td>\n",
              "      <td>[2.114199,8.192087525665539,-0.99,0.81,-9.6,-0...</td>\n",
              "      <td>IN_PROGRESS</td>\n",
              "      <td>NaN</td>\n",
              "      <td>2022-02-13T14:32:00.866Z</td>\n",
              "      <td>2022-02-14T01:32:45.332Z</td>\n",
              "      <td>2022-02-14T01:32:45.332Z</td>\n",
              "    </tr>\n",
              "    <tr>\n",
              "      <th>2</th>\n",
              "      <td>458815</td>\n",
              "      <td>61f87f357d6217b5ed17047d</td>\n",
              "      <td>imove.mrt@gmail.com</td>\n",
              "      <td>[2.598735,8.192087525665539,-1.01,0.84,-9.58,-...</td>\n",
              "      <td>IN_PROGRESS</td>\n",
              "      <td>NaN</td>\n",
              "      <td>2022-02-13T14:32:01.350Z</td>\n",
              "      <td>2022-02-14T01:32:45.340Z</td>\n",
              "      <td>2022-02-14T01:32:45.340Z</td>\n",
              "    </tr>\n",
              "    <tr>\n",
              "      <th>3</th>\n",
              "      <td>458816</td>\n",
              "      <td>61f87f357d6217b5ed17047d</td>\n",
              "      <td>imove.mrt@gmail.com</td>\n",
              "      <td>[3.08846,8.192087525665539,-0.99,0.78,-9.57,0....</td>\n",
              "      <td>IN_PROGRESS</td>\n",
              "      <td>NaN</td>\n",
              "      <td>2022-02-13T14:32:01.840Z</td>\n",
              "      <td>2022-02-14T01:32:45.348Z</td>\n",
              "      <td>2022-02-14T01:32:45.348Z</td>\n",
              "    </tr>\n",
              "    <tr>\n",
              "      <th>4</th>\n",
              "      <td>458817</td>\n",
              "      <td>61f87f357d6217b5ed17047d</td>\n",
              "      <td>imove.mrt@gmail.com</td>\n",
              "      <td>[3.573518,8.192087525665539,-0.99,0.82,-9.55,0...</td>\n",
              "      <td>IN_PROGRESS</td>\n",
              "      <td>NaN</td>\n",
              "      <td>2022-02-13T14:32:02.324Z</td>\n",
              "      <td>2022-02-14T01:32:45.363Z</td>\n",
              "      <td>2022-02-14T01:32:45.363Z</td>\n",
              "    </tr>\n",
              "  </tbody>\n",
              "</table>\n",
              "</div>\n",
              "      <button class=\"colab-df-convert\" onclick=\"convertToInteractive('df-dc75f69b-8b14-4603-81ae-a850030abf0d')\"\n",
              "              title=\"Convert this dataframe to an interactive table.\"\n",
              "              style=\"display:none;\">\n",
              "        \n",
              "  <svg xmlns=\"http://www.w3.org/2000/svg\" height=\"24px\"viewBox=\"0 0 24 24\"\n",
              "       width=\"24px\">\n",
              "    <path d=\"M0 0h24v24H0V0z\" fill=\"none\"/>\n",
              "    <path d=\"M18.56 5.44l.94 2.06.94-2.06 2.06-.94-2.06-.94-.94-2.06-.94 2.06-2.06.94zm-11 1L8.5 8.5l.94-2.06 2.06-.94-2.06-.94L8.5 2.5l-.94 2.06-2.06.94zm10 10l.94 2.06.94-2.06 2.06-.94-2.06-.94-.94-2.06-.94 2.06-2.06.94z\"/><path d=\"M17.41 7.96l-1.37-1.37c-.4-.4-.92-.59-1.43-.59-.52 0-1.04.2-1.43.59L10.3 9.45l-7.72 7.72c-.78.78-.78 2.05 0 2.83L4 21.41c.39.39.9.59 1.41.59.51 0 1.02-.2 1.41-.59l7.78-7.78 2.81-2.81c.8-.78.8-2.07 0-2.86zM5.41 20L4 18.59l7.72-7.72 1.47 1.35L5.41 20z\"/>\n",
              "  </svg>\n",
              "      </button>\n",
              "      \n",
              "  <style>\n",
              "    .colab-df-container {\n",
              "      display:flex;\n",
              "      flex-wrap:wrap;\n",
              "      gap: 12px;\n",
              "    }\n",
              "\n",
              "    .colab-df-convert {\n",
              "      background-color: #E8F0FE;\n",
              "      border: none;\n",
              "      border-radius: 50%;\n",
              "      cursor: pointer;\n",
              "      display: none;\n",
              "      fill: #1967D2;\n",
              "      height: 32px;\n",
              "      padding: 0 0 0 0;\n",
              "      width: 32px;\n",
              "    }\n",
              "\n",
              "    .colab-df-convert:hover {\n",
              "      background-color: #E2EBFA;\n",
              "      box-shadow: 0px 1px 2px rgba(60, 64, 67, 0.3), 0px 1px 3px 1px rgba(60, 64, 67, 0.15);\n",
              "      fill: #174EA6;\n",
              "    }\n",
              "\n",
              "    [theme=dark] .colab-df-convert {\n",
              "      background-color: #3B4455;\n",
              "      fill: #D2E3FC;\n",
              "    }\n",
              "\n",
              "    [theme=dark] .colab-df-convert:hover {\n",
              "      background-color: #434B5C;\n",
              "      box-shadow: 0px 1px 3px 1px rgba(0, 0, 0, 0.15);\n",
              "      filter: drop-shadow(0px 1px 2px rgba(0, 0, 0, 0.3));\n",
              "      fill: #FFFFFF;\n",
              "    }\n",
              "  </style>\n",
              "\n",
              "      <script>\n",
              "        const buttonEl =\n",
              "          document.querySelector('#df-dc75f69b-8b14-4603-81ae-a850030abf0d button.colab-df-convert');\n",
              "        buttonEl.style.display =\n",
              "          google.colab.kernel.accessAllowed ? 'block' : 'none';\n",
              "\n",
              "        async function convertToInteractive(key) {\n",
              "          const element = document.querySelector('#df-dc75f69b-8b14-4603-81ae-a850030abf0d');\n",
              "          const dataTable =\n",
              "            await google.colab.kernel.invokeFunction('convertToInteractive',\n",
              "                                                     [key], {});\n",
              "          if (!dataTable) return;\n",
              "\n",
              "          const docLinkHtml = 'Like what you see? Visit the ' +\n",
              "            '<a target=\"_blank\" href=https://colab.research.google.com/notebooks/data_table.ipynb>data table notebook</a>'\n",
              "            + ' to learn more about interactive tables.';\n",
              "          element.innerHTML = '';\n",
              "          dataTable['output_type'] = 'display_data';\n",
              "          await google.colab.output.renderOutput(dataTable, element);\n",
              "          const docLink = document.createElement('div');\n",
              "          docLink.innerHTML = docLinkHtml;\n",
              "          element.appendChild(docLink);\n",
              "        }\n",
              "      </script>\n",
              "    </div>\n",
              "  </div>\n",
              "  "
            ],
            "text/plain": [
              "       id  ...                 updatedAt\n",
              "0  458813  ...  2022-02-14T01:32:45.325Z\n",
              "1  458814  ...  2022-02-14T01:32:45.332Z\n",
              "2  458815  ...  2022-02-14T01:32:45.340Z\n",
              "3  458816  ...  2022-02-14T01:32:45.348Z\n",
              "4  458817  ...  2022-02-14T01:32:45.363Z\n",
              "\n",
              "[5 rows x 9 columns]"
            ]
          },
          "metadata": {}
        },
        {
          "output_type": "stream",
          "name": "stdout",
          "text": [
            "shape of df = (8240, 9)\n"
          ]
        }
      ],
      "source": [
        "sample = encapsule(pd.read_csv('new_test_data.csv'))\n"
      ],
      "metadata": {
        "pycharm": {
          "name": "#%%\n"
        },
        "colab": {
          "base_uri": "https://localhost:8080/",
          "height": 374
        },
        "id": "9wjiAwLlVyMI",
        "outputId": "94df30a0-a0dd-404b-ce2a-3d9195c427b5"
      }
    },
    {
      "cell_type": "code",
      "execution_count": 6,
      "outputs": [
        {
          "output_type": "display_data",
          "data": {
            "text/html": [
              "\n",
              "  <div id=\"df-e3d5c84e-ec17-4b96-95f7-3309b5fe4b5f\">\n",
              "    <div class=\"colab-df-container\">\n",
              "      <div>\n",
              "<style scoped>\n",
              "    .dataframe tbody tr th:only-of-type {\n",
              "        vertical-align: middle;\n",
              "    }\n",
              "\n",
              "    .dataframe tbody tr th {\n",
              "        vertical-align: top;\n",
              "    }\n",
              "\n",
              "    .dataframe thead th {\n",
              "        text-align: right;\n",
              "    }\n",
              "</style>\n",
              "<table border=\"1\" class=\"dataframe\">\n",
              "  <thead>\n",
              "    <tr style=\"text-align: right;\">\n",
              "      <th></th>\n",
              "      <th>v2</th>\n",
              "      <th>v3</th>\n",
              "      <th>v4</th>\n",
              "      <th>v5</th>\n",
              "      <th>v6</th>\n",
              "      <th>v7</th>\n",
              "      <th>v8</th>\n",
              "      <th>v9</th>\n",
              "      <th>v10</th>\n",
              "      <th>v11</th>\n",
              "    </tr>\n",
              "    <tr>\n",
              "      <th>timestamp</th>\n",
              "      <th></th>\n",
              "      <th></th>\n",
              "      <th></th>\n",
              "      <th></th>\n",
              "      <th></th>\n",
              "      <th></th>\n",
              "      <th></th>\n",
              "      <th></th>\n",
              "      <th></th>\n",
              "      <th></th>\n",
              "    </tr>\n",
              "  </thead>\n",
              "  <tbody>\n",
              "    <tr>\n",
              "      <th>2022-02-13T14:32:00.378Z</th>\n",
              "      <td>8.192087525665539</td>\n",
              "      <td>-0.99</td>\n",
              "      <td>0.8</td>\n",
              "      <td>-9.53</td>\n",
              "      <td>-0.0625</td>\n",
              "      <td>0.0625</td>\n",
              "      <td>0</td>\n",
              "      <td>16.1875</td>\n",
              "      <td>-19.375</td>\n",
              "      <td>-61.875</td>\n",
              "    </tr>\n",
              "    <tr>\n",
              "      <th>2022-02-13T14:32:00.866Z</th>\n",
              "      <td>8.192087525665539</td>\n",
              "      <td>-0.99</td>\n",
              "      <td>0.81</td>\n",
              "      <td>-9.6</td>\n",
              "      <td>-0.0625</td>\n",
              "      <td>0</td>\n",
              "      <td>-0.0625</td>\n",
              "      <td>15.75</td>\n",
              "      <td>-18.6875</td>\n",
              "      <td>-62.75</td>\n",
              "    </tr>\n",
              "    <tr>\n",
              "      <th>2022-02-13T14:32:01.350Z</th>\n",
              "      <td>8.192087525665539</td>\n",
              "      <td>-1.01</td>\n",
              "      <td>0.84</td>\n",
              "      <td>-9.58</td>\n",
              "      <td>-0.1875</td>\n",
              "      <td>-0.125</td>\n",
              "      <td>-0.25</td>\n",
              "      <td>16.5</td>\n",
              "      <td>-19.375</td>\n",
              "      <td>-62.25</td>\n",
              "    </tr>\n",
              "    <tr>\n",
              "      <th>2022-02-13T14:32:01.840Z</th>\n",
              "      <td>8.192087525665539</td>\n",
              "      <td>-0.99</td>\n",
              "      <td>0.78</td>\n",
              "      <td>-9.57</td>\n",
              "      <td>0.3125</td>\n",
              "      <td>-0.0625</td>\n",
              "      <td>-0.0625</td>\n",
              "      <td>16.1875</td>\n",
              "      <td>-19.0625</td>\n",
              "      <td>-62.75</td>\n",
              "    </tr>\n",
              "    <tr>\n",
              "      <th>2022-02-13T14:32:02.324Z</th>\n",
              "      <td>8.192087525665539</td>\n",
              "      <td>-0.99</td>\n",
              "      <td>0.82</td>\n",
              "      <td>-9.55</td>\n",
              "      <td>0.0625</td>\n",
              "      <td>0.0625</td>\n",
              "      <td>0</td>\n",
              "      <td>16.5</td>\n",
              "      <td>-19.0625</td>\n",
              "      <td>-61.875</td>\n",
              "    </tr>\n",
              "  </tbody>\n",
              "</table>\n",
              "</div>\n",
              "      <button class=\"colab-df-convert\" onclick=\"convertToInteractive('df-e3d5c84e-ec17-4b96-95f7-3309b5fe4b5f')\"\n",
              "              title=\"Convert this dataframe to an interactive table.\"\n",
              "              style=\"display:none;\">\n",
              "        \n",
              "  <svg xmlns=\"http://www.w3.org/2000/svg\" height=\"24px\"viewBox=\"0 0 24 24\"\n",
              "       width=\"24px\">\n",
              "    <path d=\"M0 0h24v24H0V0z\" fill=\"none\"/>\n",
              "    <path d=\"M18.56 5.44l.94 2.06.94-2.06 2.06-.94-2.06-.94-.94-2.06-.94 2.06-2.06.94zm-11 1L8.5 8.5l.94-2.06 2.06-.94-2.06-.94L8.5 2.5l-.94 2.06-2.06.94zm10 10l.94 2.06.94-2.06 2.06-.94-2.06-.94-.94-2.06-.94 2.06-2.06.94z\"/><path d=\"M17.41 7.96l-1.37-1.37c-.4-.4-.92-.59-1.43-.59-.52 0-1.04.2-1.43.59L10.3 9.45l-7.72 7.72c-.78.78-.78 2.05 0 2.83L4 21.41c.39.39.9.59 1.41.59.51 0 1.02-.2 1.41-.59l7.78-7.78 2.81-2.81c.8-.78.8-2.07 0-2.86zM5.41 20L4 18.59l7.72-7.72 1.47 1.35L5.41 20z\"/>\n",
              "  </svg>\n",
              "      </button>\n",
              "      \n",
              "  <style>\n",
              "    .colab-df-container {\n",
              "      display:flex;\n",
              "      flex-wrap:wrap;\n",
              "      gap: 12px;\n",
              "    }\n",
              "\n",
              "    .colab-df-convert {\n",
              "      background-color: #E8F0FE;\n",
              "      border: none;\n",
              "      border-radius: 50%;\n",
              "      cursor: pointer;\n",
              "      display: none;\n",
              "      fill: #1967D2;\n",
              "      height: 32px;\n",
              "      padding: 0 0 0 0;\n",
              "      width: 32px;\n",
              "    }\n",
              "\n",
              "    .colab-df-convert:hover {\n",
              "      background-color: #E2EBFA;\n",
              "      box-shadow: 0px 1px 2px rgba(60, 64, 67, 0.3), 0px 1px 3px 1px rgba(60, 64, 67, 0.15);\n",
              "      fill: #174EA6;\n",
              "    }\n",
              "\n",
              "    [theme=dark] .colab-df-convert {\n",
              "      background-color: #3B4455;\n",
              "      fill: #D2E3FC;\n",
              "    }\n",
              "\n",
              "    [theme=dark] .colab-df-convert:hover {\n",
              "      background-color: #434B5C;\n",
              "      box-shadow: 0px 1px 3px 1px rgba(0, 0, 0, 0.15);\n",
              "      filter: drop-shadow(0px 1px 2px rgba(0, 0, 0, 0.3));\n",
              "      fill: #FFFFFF;\n",
              "    }\n",
              "  </style>\n",
              "\n",
              "      <script>\n",
              "        const buttonEl =\n",
              "          document.querySelector('#df-e3d5c84e-ec17-4b96-95f7-3309b5fe4b5f button.colab-df-convert');\n",
              "        buttonEl.style.display =\n",
              "          google.colab.kernel.accessAllowed ? 'block' : 'none';\n",
              "\n",
              "        async function convertToInteractive(key) {\n",
              "          const element = document.querySelector('#df-e3d5c84e-ec17-4b96-95f7-3309b5fe4b5f');\n",
              "          const dataTable =\n",
              "            await google.colab.kernel.invokeFunction('convertToInteractive',\n",
              "                                                     [key], {});\n",
              "          if (!dataTable) return;\n",
              "\n",
              "          const docLinkHtml = 'Like what you see? Visit the ' +\n",
              "            '<a target=\"_blank\" href=https://colab.research.google.com/notebooks/data_table.ipynb>data table notebook</a>'\n",
              "            + ' to learn more about interactive tables.';\n",
              "          element.innerHTML = '';\n",
              "          dataTable['output_type'] = 'display_data';\n",
              "          await google.colab.output.renderOutput(dataTable, element);\n",
              "          const docLink = document.createElement('div');\n",
              "          docLink.innerHTML = docLinkHtml;\n",
              "          element.appendChild(docLink);\n",
              "        }\n",
              "      </script>\n",
              "    </div>\n",
              "  </div>\n",
              "  "
            ],
            "text/plain": [
              "                                         v2     v3  ...       v10      v11\n",
              "timestamp                                           ...                   \n",
              "2022-02-13T14:32:00.378Z  8.192087525665539  -0.99  ...   -19.375  -61.875\n",
              "2022-02-13T14:32:00.866Z  8.192087525665539  -0.99  ...  -18.6875   -62.75\n",
              "2022-02-13T14:32:01.350Z  8.192087525665539  -1.01  ...   -19.375   -62.25\n",
              "2022-02-13T14:32:01.840Z  8.192087525665539  -0.99  ...  -19.0625   -62.75\n",
              "2022-02-13T14:32:02.324Z  8.192087525665539  -0.99  ...  -19.0625  -61.875\n",
              "\n",
              "[5 rows x 10 columns]"
            ]
          },
          "metadata": {}
        },
        {
          "output_type": "stream",
          "name": "stdout",
          "text": [
            "shape of df = (8240, 10)\n"
          ]
        }
      ],
      "source": [
        "main = encapsule(data_wrangle(sample));\n"
      ],
      "metadata": {
        "pycharm": {
          "name": "#%%\n"
        },
        "colab": {
          "base_uri": "https://localhost:8080/",
          "height": 255
        },
        "id": "bunsDwulVyMJ",
        "outputId": "a122ae1a-1668-4d06-df13-ca60ffd80c46"
      }
    },
    {
      "cell_type": "code",
      "source": [
        "def main():\n",
        "  # some_list = []\n",
        "  # for each in data:\n",
        "  #   some_list.append(each[\"data\"][0])\n",
        "  # sample = pd.DataFrame.from_dict(some_list)\n",
        "  # main = data_wrangle_json(sample)\n",
        "  sample = pd.read_csv('new_test_data.csv')\n",
        "  main = data_wrangle(sample);\n",
        "  reshaped = create_segments_and_labels(main,35,1)\n",
        "  model = keras.models.load_model('/content/saved_model/my_model_2')\n",
        "  currently_activity = ''\n",
        "  number_of_windoews = len(sample) - 35\n",
        "  from_ = sample.loc[0,'timestamp']\n",
        "  Clsses = ['sit', 'std', 'wlk']\n",
        "  final_list = []\n",
        "  for each in tqdm(range(number_of_windoews)):\n",
        "    y_hat =  model.predict(reshaped[each].reshape(-1,350))\n",
        "    y_hat  = np.argmax(y_hat)\n",
        "    y_hat = Clsses[y_hat]\n",
        "    if((y_hat != currently_activity) & (y_hat != '') ):\n",
        "      final_list.append( { 'start_time': from_ , 'end_time':sample.loc[each,'timestamp'] , 'activity': y_hat  } )\n",
        "      currently_activity = y_hat\n",
        "      from_ = sample.loc[each,'timestamp']\n",
        "  return final_list\n"
      ],
      "metadata": {
        "id": "9LsRUscbPYdn"
      },
      "execution_count": 15,
      "outputs": []
    },
    {
      "cell_type": "code",
      "source": [
        "!tar -xvzf model_2.tar.gz"
      ],
      "metadata": {
        "id": "hvFflP2oQH0Q",
        "outputId": "2b84dfdd-5c58-4c85-ecda-cd24f9454f32",
        "colab": {
          "base_uri": "https://localhost:8080/"
        }
      },
      "execution_count": 14,
      "outputs": [
        {
          "output_type": "stream",
          "name": "stdout",
          "text": [
            "saved_model/my_model_2/\n",
            "saved_model/my_model_2/saved_model.pb\n",
            "saved_model/my_model_2/keras_metadata.pb\n",
            "saved_model/my_model_2/assets/\n",
            "saved_model/my_model_2/variables/\n",
            "saved_model/my_model_2/variables/variables.index\n",
            "saved_model/my_model_2/variables/variables.data-00000-of-00001\n"
          ]
        }
      ]
    },
    {
      "cell_type": "code",
      "source": [
        "main()"
      ],
      "metadata": {
        "id": "DIPgFcNxPhgE",
        "outputId": "71c2e4d0-278f-47fb-b1a0-1e6059cb6882",
        "colab": {
          "base_uri": "https://localhost:8080/"
        }
      },
      "execution_count": 16,
      "outputs": [
        {
          "output_type": "stream",
          "name": "stderr",
          "text": [
            "100%|██████████| 8205/8205 [07:54<00:00, 17.29it/s]\n"
          ]
        },
        {
          "output_type": "execute_result",
          "data": {
            "text/plain": [
              "[{'activity': 'std',\n",
              "  'end_time': '2022-02-13T14:32:00.378Z',\n",
              "  'start_time': '2022-02-13T14:32:00.378Z'},\n",
              " {'activity': 'wlk',\n",
              "  'end_time': '2022-02-13T14:36:48.248Z',\n",
              "  'start_time': '2022-02-13T14:32:00.378Z'},\n",
              " {'activity': 'std',\n",
              "  'end_time': '2022-02-13T14:37:02.286Z',\n",
              "  'start_time': '2022-02-13T14:36:48.248Z'},\n",
              " {'activity': 'wlk',\n",
              "  'end_time': '2022-02-13T14:37:02.776Z',\n",
              "  'start_time': '2022-02-13T14:37:02.286Z'},\n",
              " {'activity': 'sit',\n",
              "  'end_time': '2022-02-13T14:37:04.722Z',\n",
              "  'start_time': '2022-02-13T14:37:02.776Z'},\n",
              " {'activity': 'wlk',\n",
              "  'end_time': '2022-02-13T14:39:21.273Z',\n",
              "  'start_time': '2022-02-13T14:37:04.722Z'},\n",
              " {'activity': 'sit',\n",
              "  'end_time': '2022-02-13T14:39:21.764Z',\n",
              "  'start_time': '2022-02-13T14:39:21.273Z'},\n",
              " {'activity': 'wlk',\n",
              "  'end_time': '2022-02-13T14:39:22.243Z',\n",
              "  'start_time': '2022-02-13T14:39:21.764Z'},\n",
              " {'activity': 'sit',\n",
              "  'end_time': '2022-02-13T14:39:36.973Z',\n",
              "  'start_time': '2022-02-13T14:39:22.243Z'},\n",
              " {'activity': 'wlk',\n",
              "  'end_time': '2022-02-13T14:39:37.460Z',\n",
              "  'start_time': '2022-02-13T14:39:36.973Z'},\n",
              " {'activity': 'sit',\n",
              "  'end_time': '2022-02-13T14:39:37.946Z',\n",
              "  'start_time': '2022-02-13T14:39:37.460Z'},\n",
              " {'activity': 'std',\n",
              "  'end_time': '2022-02-13T14:40:06.751Z',\n",
              "  'start_time': '2022-02-13T14:39:37.946Z'},\n",
              " {'activity': 'sit',\n",
              "  'end_time': '2022-02-13T14:40:08.225Z',\n",
              "  'start_time': '2022-02-13T14:40:06.751Z'},\n",
              " {'activity': 'std',\n",
              "  'end_time': '2022-02-13T14:40:09.196Z',\n",
              "  'start_time': '2022-02-13T14:40:08.225Z'},\n",
              " {'activity': 'sit',\n",
              "  'end_time': '2022-02-13T14:40:09.685Z',\n",
              "  'start_time': '2022-02-13T14:40:09.196Z'},\n",
              " {'activity': 'std',\n",
              "  'end_time': '2022-02-13T14:40:10.172Z',\n",
              "  'start_time': '2022-02-13T14:40:09.685Z'},\n",
              " {'activity': 'wlk',\n",
              "  'end_time': '2022-02-13T14:40:10.658Z',\n",
              "  'start_time': '2022-02-13T14:40:10.172Z'},\n",
              " {'activity': 'std',\n",
              "  'end_time': '2022-02-13T14:40:11.146Z',\n",
              "  'start_time': '2022-02-13T14:40:10.658Z'},\n",
              " {'activity': 'wlk',\n",
              "  'end_time': '2022-02-13T14:40:14.558Z',\n",
              "  'start_time': '2022-02-13T14:40:11.146Z'},\n",
              " {'activity': 'std',\n",
              "  'end_time': '2022-02-13T14:40:15.048Z',\n",
              "  'start_time': '2022-02-13T14:40:14.558Z'},\n",
              " {'activity': 'sit',\n",
              "  'end_time': '2022-02-13T14:40:16.022Z',\n",
              "  'start_time': '2022-02-13T14:40:15.048Z'},\n",
              " {'activity': 'std',\n",
              "  'end_time': '2022-02-13T14:40:16.508Z',\n",
              "  'start_time': '2022-02-13T14:40:16.022Z'},\n",
              " {'activity': 'sit',\n",
              "  'end_time': '2022-02-13T14:40:18.509Z',\n",
              "  'start_time': '2022-02-13T14:40:16.508Z'},\n",
              " {'activity': 'std',\n",
              "  'end_time': '2022-02-13T14:41:41.629Z',\n",
              "  'start_time': '2022-02-13T14:40:18.509Z'},\n",
              " {'activity': 'wlk',\n",
              "  'end_time': '2022-02-13T14:41:46.013Z',\n",
              "  'start_time': '2022-02-13T14:41:41.629Z'},\n",
              " {'activity': 'std',\n",
              "  'end_time': '2022-02-13T14:41:46.502Z',\n",
              "  'start_time': '2022-02-13T14:41:46.013Z'},\n",
              " {'activity': 'wlk',\n",
              "  'end_time': '2022-02-13T14:41:47.479Z',\n",
              "  'start_time': '2022-02-13T14:41:46.502Z'},\n",
              " {'activity': 'std',\n",
              "  'end_time': '2022-02-13T14:41:47.966Z',\n",
              "  'start_time': '2022-02-13T14:41:47.479Z'},\n",
              " {'activity': 'wlk',\n",
              "  'end_time': '2022-02-13T14:46:46.225Z',\n",
              "  'start_time': '2022-02-13T14:41:47.966Z'},\n",
              " {'activity': 'std',\n",
              "  'end_time': '2022-02-13T14:46:46.712Z',\n",
              "  'start_time': '2022-02-13T14:46:46.225Z'},\n",
              " {'activity': 'wlk',\n",
              "  'end_time': '2022-02-13T14:46:47.246Z',\n",
              "  'start_time': '2022-02-13T14:46:46.712Z'},\n",
              " {'activity': 'std',\n",
              "  'end_time': '2022-02-13T14:46:58.607Z',\n",
              "  'start_time': '2022-02-13T14:46:47.246Z'},\n",
              " {'activity': 'wlk',\n",
              "  'end_time': '2022-02-13T14:58:13.940Z',\n",
              "  'start_time': '2022-02-13T14:46:58.607Z'},\n",
              " {'activity': 'std',\n",
              "  'end_time': '2022-02-13T14:58:16.386Z',\n",
              "  'start_time': '2022-02-13T14:58:13.940Z'},\n",
              " {'activity': 'wlk',\n",
              "  'end_time': '2022-02-13T14:58:16.874Z',\n",
              "  'start_time': '2022-02-13T14:58:16.386Z'},\n",
              " {'activity': 'std',\n",
              "  'end_time': '2022-02-13T15:07:54.953Z',\n",
              "  'start_time': '2022-02-13T14:58:16.874Z'},\n",
              " {'activity': 'wlk',\n",
              "  'end_time': '2022-02-13T15:07:55.439Z',\n",
              "  'start_time': '2022-02-13T15:07:54.953Z'},\n",
              " {'activity': 'std',\n",
              "  'end_time': '2022-02-13T15:07:56.416Z',\n",
              "  'start_time': '2022-02-13T15:07:55.439Z'}]"
            ]
          },
          "metadata": {},
          "execution_count": 16
        }
      ]
    },
    {
      "cell_type": "markdown",
      "source": [
        "## Testing"
      ],
      "metadata": {
        "id": "OSvMFIBwRSTM"
      }
    },
    {
      "cell_type": "code",
      "source": [
        "print('='*50 , 'From the Rule based' ,'='*50  )\n",
        "print(repr(sample.predicted_activity.value_counts()))\n",
        "print('='*50 , 'From the Model' ,'='*50  )\n",
        "print(repr(Counter(preds)))"
      ],
      "metadata": {
        "id": "zaYrXa8sRU9g"
      },
      "execution_count": null,
      "outputs": []
    },
    {
      "cell_type": "markdown",
      "source": [
        "## Acquiring index where there is change in activity"
      ],
      "metadata": {
        "id": "CgLCKfsbRd6Q"
      }
    },
    {
      "cell_type": "code",
      "source": [
        "sample.loc[np.where(np.roll(preds,1)!=preds)[0]]['timestamp']"
      ],
      "metadata": {
        "id": "ru_zkLLZRjEr"
      },
      "execution_count": null,
      "outputs": []
    },
    {
      "cell_type": "markdown",
      "source": [
        "# Predicting all instances at once "
      ],
      "metadata": {
        "id": "JV-AtzPAQ0NX"
      }
    },
    {
      "cell_type": "code",
      "source": [
        "sample = pd.read_csv('new_test_data.csv')\n",
        "main = data_wrangle(sample);\n",
        "reshaped = create_segments_and_labels(main,35,1)\n",
        "model = keras.models.load_model('/content/saved_model/my_model_2')\n",
        "preds =  model.predict(reshaped)\n",
        "# indices = np.argmax(preds)\n",
        "# classes = []\n",
        "# Clsses = ['sit', 'std', 'wlk']\n",
        "# for each in indices:\n",
        "#  classes.append(Clsses[each])"
      ],
      "metadata": {
        "id": "fzk5kBVtQxFm"
      },
      "execution_count": 21,
      "outputs": []
    },
    {
      "cell_type": "code",
      "source": [
        "list_of_indeces = []\n",
        "for each in preds:\n",
        "  list_of_indeces.append(np.argmax(each))\n"
      ],
      "metadata": {
        "id": "S3JlRoNUS12V"
      },
      "execution_count": 24,
      "outputs": []
    },
    {
      "cell_type": "code",
      "source": [
        "Clsses = ['sit', 'std', 'wlk']\n",
        "classes = []\n",
        "for each in list_of_indeces:\n",
        " classes.append(Clsses[each])"
      ],
      "metadata": {
        "id": "E6-3UFz-TP7e"
      },
      "execution_count": 25,
      "outputs": []
    },
    {
      "cell_type": "code",
      "source": [
        "from collections import Counter\n",
        "Counter(classes)"
      ],
      "metadata": {
        "id": "747c92D_TX0h",
        "outputId": "6202352a-fec8-40db-e5f2-b37091546411",
        "colab": {
          "base_uri": "https://localhost:8080/"
        }
      },
      "execution_count": 31,
      "outputs": [
        {
          "output_type": "execute_result",
          "data": {
            "text/plain": [
              "Counter({'sit': 508, 'std': 6422, 'wlk': 1275})"
            ]
          },
          "metadata": {},
          "execution_count": 31
        }
      ]
    },
    {
      "cell_type": "markdown",
      "source": [
        "# This is for Json data "
      ],
      "metadata": {
        "id": "gZ6NFmvMP0Na"
      }
    },
    {
      "cell_type": "code",
      "source": [
        "import numpy as np\n",
        "import pandas as pd\n",
        "json = [{\n",
        "  \"data\": [\n",
        "    {\n",
        "      \"raw_sensor_data\": list(np.random.randint(10 , size = 11)),\n",
        "      \"timestamp\": \"2022-02-10 01:01:00\"    },\n",
        "      {\n",
        "      \"raw_sensor_data\": list(np.random.randint(10 , size = 11)),\n",
        "      \"timestamp\": \"2022-02-10 01:02:00\"    },\n",
        "      {\n",
        "      \"raw_sensor_data\": list(np.random.randint(10 , size = 11)),\n",
        "      \"timestamp\": \"2022-02-10 01:03:00\"    },\n",
        "      {\n",
        "      \"raw_sensor_data\": list(np.random.randint(10 , size = 11)),\n",
        "      \"timestamp\": \"2022-02-10 01:04:00\"    }\n",
        "  ],\n",
        "  \"mode\": \"DEVICE\",\n",
        "  \"location\": {\n",
        "    \"latitude\": 0,\n",
        "    \"longitude\": 0  },\n",
        "  \"deviceStatus\": \"CONNECTED\",\n",
        "  \"actualActivity\": \"SITTING\"}]\n",
        "\n",
        "\n",
        "json[0]['data']\n",
        "sample = pd.DataFrame.from_dict(json[0]['data'])\n",
        "sample"
      ],
      "metadata": {
        "colab": {
          "base_uri": "https://localhost:8080/",
          "height": 175
        },
        "id": "5bg7p34TPtVf",
        "outputId": "d0ec09fe-d4eb-4e4d-c6fc-af80645fb893"
      },
      "execution_count": null,
      "outputs": [
        {
          "output_type": "execute_result",
          "data": {
            "text/html": [
              "\n",
              "  <div id=\"df-bacc3ee7-d9f0-452b-b68c-806c8e46e717\">\n",
              "    <div class=\"colab-df-container\">\n",
              "      <div>\n",
              "<style scoped>\n",
              "    .dataframe tbody tr th:only-of-type {\n",
              "        vertical-align: middle;\n",
              "    }\n",
              "\n",
              "    .dataframe tbody tr th {\n",
              "        vertical-align: top;\n",
              "    }\n",
              "\n",
              "    .dataframe thead th {\n",
              "        text-align: right;\n",
              "    }\n",
              "</style>\n",
              "<table border=\"1\" class=\"dataframe\">\n",
              "  <thead>\n",
              "    <tr style=\"text-align: right;\">\n",
              "      <th></th>\n",
              "      <th>raw_sensor_data</th>\n",
              "      <th>timestamp</th>\n",
              "    </tr>\n",
              "  </thead>\n",
              "  <tbody>\n",
              "    <tr>\n",
              "      <th>0</th>\n",
              "      <td>[4, 8, 4, 0, 6, 0, 7, 1, 4, 9, 9]</td>\n",
              "      <td>2022-02-10 01:01:00</td>\n",
              "    </tr>\n",
              "    <tr>\n",
              "      <th>1</th>\n",
              "      <td>[1, 9, 5, 2, 3, 0, 6, 0, 9, 4, 5]</td>\n",
              "      <td>2022-02-10 01:02:00</td>\n",
              "    </tr>\n",
              "    <tr>\n",
              "      <th>2</th>\n",
              "      <td>[9, 0, 2, 9, 5, 7, 2, 1, 0, 5, 6]</td>\n",
              "      <td>2022-02-10 01:03:00</td>\n",
              "    </tr>\n",
              "    <tr>\n",
              "      <th>3</th>\n",
              "      <td>[3, 5, 8, 4, 4, 1, 7, 1, 7, 1, 1]</td>\n",
              "      <td>2022-02-10 01:04:00</td>\n",
              "    </tr>\n",
              "  </tbody>\n",
              "</table>\n",
              "</div>\n",
              "      <button class=\"colab-df-convert\" onclick=\"convertToInteractive('df-bacc3ee7-d9f0-452b-b68c-806c8e46e717')\"\n",
              "              title=\"Convert this dataframe to an interactive table.\"\n",
              "              style=\"display:none;\">\n",
              "        \n",
              "  <svg xmlns=\"http://www.w3.org/2000/svg\" height=\"24px\"viewBox=\"0 0 24 24\"\n",
              "       width=\"24px\">\n",
              "    <path d=\"M0 0h24v24H0V0z\" fill=\"none\"/>\n",
              "    <path d=\"M18.56 5.44l.94 2.06.94-2.06 2.06-.94-2.06-.94-.94-2.06-.94 2.06-2.06.94zm-11 1L8.5 8.5l.94-2.06 2.06-.94-2.06-.94L8.5 2.5l-.94 2.06-2.06.94zm10 10l.94 2.06.94-2.06 2.06-.94-2.06-.94-.94-2.06-.94 2.06-2.06.94z\"/><path d=\"M17.41 7.96l-1.37-1.37c-.4-.4-.92-.59-1.43-.59-.52 0-1.04.2-1.43.59L10.3 9.45l-7.72 7.72c-.78.78-.78 2.05 0 2.83L4 21.41c.39.39.9.59 1.41.59.51 0 1.02-.2 1.41-.59l7.78-7.78 2.81-2.81c.8-.78.8-2.07 0-2.86zM5.41 20L4 18.59l7.72-7.72 1.47 1.35L5.41 20z\"/>\n",
              "  </svg>\n",
              "      </button>\n",
              "      \n",
              "  <style>\n",
              "    .colab-df-container {\n",
              "      display:flex;\n",
              "      flex-wrap:wrap;\n",
              "      gap: 12px;\n",
              "    }\n",
              "\n",
              "    .colab-df-convert {\n",
              "      background-color: #E8F0FE;\n",
              "      border: none;\n",
              "      border-radius: 50%;\n",
              "      cursor: pointer;\n",
              "      display: none;\n",
              "      fill: #1967D2;\n",
              "      height: 32px;\n",
              "      padding: 0 0 0 0;\n",
              "      width: 32px;\n",
              "    }\n",
              "\n",
              "    .colab-df-convert:hover {\n",
              "      background-color: #E2EBFA;\n",
              "      box-shadow: 0px 1px 2px rgba(60, 64, 67, 0.3), 0px 1px 3px 1px rgba(60, 64, 67, 0.15);\n",
              "      fill: #174EA6;\n",
              "    }\n",
              "\n",
              "    [theme=dark] .colab-df-convert {\n",
              "      background-color: #3B4455;\n",
              "      fill: #D2E3FC;\n",
              "    }\n",
              "\n",
              "    [theme=dark] .colab-df-convert:hover {\n",
              "      background-color: #434B5C;\n",
              "      box-shadow: 0px 1px 3px 1px rgba(0, 0, 0, 0.15);\n",
              "      filter: drop-shadow(0px 1px 2px rgba(0, 0, 0, 0.3));\n",
              "      fill: #FFFFFF;\n",
              "    }\n",
              "  </style>\n",
              "\n",
              "      <script>\n",
              "        const buttonEl =\n",
              "          document.querySelector('#df-bacc3ee7-d9f0-452b-b68c-806c8e46e717 button.colab-df-convert');\n",
              "        buttonEl.style.display =\n",
              "          google.colab.kernel.accessAllowed ? 'block' : 'none';\n",
              "\n",
              "        async function convertToInteractive(key) {\n",
              "          const element = document.querySelector('#df-bacc3ee7-d9f0-452b-b68c-806c8e46e717');\n",
              "          const dataTable =\n",
              "            await google.colab.kernel.invokeFunction('convertToInteractive',\n",
              "                                                     [key], {});\n",
              "          if (!dataTable) return;\n",
              "\n",
              "          const docLinkHtml = 'Like what you see? Visit the ' +\n",
              "            '<a target=\"_blank\" href=https://colab.research.google.com/notebooks/data_table.ipynb>data table notebook</a>'\n",
              "            + ' to learn more about interactive tables.';\n",
              "          element.innerHTML = '';\n",
              "          dataTable['output_type'] = 'display_data';\n",
              "          await google.colab.output.renderOutput(dataTable, element);\n",
              "          const docLink = document.createElement('div');\n",
              "          docLink.innerHTML = docLinkHtml;\n",
              "          element.appendChild(docLink);\n",
              "        }\n",
              "      </script>\n",
              "    </div>\n",
              "  </div>\n",
              "  "
            ],
            "text/plain": [
              "                     raw_sensor_data            timestamp\n",
              "0  [4, 8, 4, 0, 6, 0, 7, 1, 4, 9, 9]  2022-02-10 01:01:00\n",
              "1  [1, 9, 5, 2, 3, 0, 6, 0, 9, 4, 5]  2022-02-10 01:02:00\n",
              "2  [9, 0, 2, 9, 5, 7, 2, 1, 0, 5, 6]  2022-02-10 01:03:00\n",
              "3  [3, 5, 8, 4, 4, 1, 7, 1, 7, 1, 1]  2022-02-10 01:04:00"
            ]
          },
          "metadata": {},
          "execution_count": 6
        }
      ]
    },
    {
      "cell_type": "code",
      "source": [
        "def main(data):\n",
        "  some_list = []\n",
        "  for each in data:\n",
        "    some_list.append(each[\"data\"][0])\n",
        "  sample = pd.DataFrame.from_dict(some_list)\n",
        "  main = data_wrangle_json(sample)\n",
        "  # sample = pd.read_csv('sord.csv')\n",
        "  # main = data_wrangle(sample);\n",
        "  reshaped = create_segments_and_labels(main,35,1)\n",
        "  model = keras.models.load_model('/content/saved_model/my_model_2')\n",
        "  currently_activity = ''\n",
        "  number_of_windoews = len(sample) - 35\n",
        "  from_ = sample.loc[0,'timestamp']\n",
        "  Clsses = ['sit', 'std', 'wlk']\n",
        "  final_list = []\n",
        "  for each in tqdm(range(number_of_windoews)):\n",
        "    y_hat =  model.predict(reshaped[each].reshape(-1,350))\n",
        "    y_hat  = np.argmax(y_hat)\n",
        "    y_hat = Clsses[y_hat]\n",
        "    if((y_hat != currently_activity) & (y_hat != '') ):\n",
        "      final_list.append( { 'start_time': from_ , 'end_time':sample.loc[each,'timestamp'] , 'activity': y_hat  } )\n",
        "      currently_activity = y_hat\n",
        "      from_ = sample.loc[each,'timestamp']\n",
        "  return final_list"
      ],
      "metadata": {
        "colab": {
          "base_uri": "https://localhost:8080/"
        },
        "id": "7Clg4W53XCEx",
        "outputId": "61948bad-177b-4da0-cb4d-19fad3a3626d"
      },
      "execution_count": null,
      "outputs": [
        {
          "output_type": "stream",
          "name": "stdout",
          "text": [
            "saved_model/my_model_2/\n",
            "saved_model/my_model_2/saved_model.pb\n",
            "saved_model/my_model_2/keras_metadata.pb\n",
            "saved_model/my_model_2/assets/\n",
            "saved_model/my_model_2/variables/\n",
            "saved_model/my_model_2/variables/variables.index\n",
            "saved_model/my_model_2/variables/variables.data-00000-of-00001\n"
          ]
        }
      ]
    },
    {
      "cell_type": "code",
      "source": [
        "repr(final_list)"
      ],
      "metadata": {
        "colab": {
          "base_uri": "https://localhost:8080/",
          "height": 162
        },
        "id": "58a22hTlw58A",
        "outputId": "73b80e9a-92be-48d6-b87c-1abebdafc14d"
      },
      "execution_count": null,
      "outputs": [
        {
          "output_type": "execute_result",
          "data": {
            "application/vnd.google.colaboratory.intrinsic+json": {
              "type": "string"
            },
            "text/plain": [
              "\"[{'start_time': '2022-02-02T16:13:39.218Z', 'end_time': '2022-02-02T16:13:39.218Z', 'activity': 'std'}, {'start_time': '2022-02-02T16:13:39.218Z', 'end_time': '2022-02-02T16:23:55.463Z', 'activity': 'wlk'}, {'start_time': '2022-02-02T16:23:55.463Z', 'end_time': '2022-02-02T16:23:56.437Z', 'activity': 'std'}, {'start_time': '2022-02-02T16:23:56.437Z', 'end_time': '2022-02-02T16:23:57.412Z', 'activity': 'wlk'}, {'start_time': '2022-02-02T16:23:57.412Z', 'end_time': '2022-02-02T16:23:57.900Z', 'activity': 'std'}, {'start_time': '2022-02-02T16:23:57.900Z', 'end_time': '2022-02-02T16:37:40.067Z', 'activity': 'wlk'}, {'start_time': '2022-02-02T16:37:40.067Z', 'end_time': '2022-02-02T16:37:41.042Z', 'activity': 'std'}, {'start_time': '2022-02-02T16:37:41.042Z', 'end_time': '2022-02-02T16:37:41.530Z', 'activity': 'wlk'}, {'start_time': '2022-02-02T16:37:41.530Z', 'end_time': '2022-02-02T16:37:42.991Z', 'activity': 'std'}, {'start_time': '2022-02-02T16:37:42.991Z', 'end_time': '2022-02-02T16:37:44.942Z', 'activity': 'wlk'}, {'start_time': '2022-02-02T16:37:44.942Z', 'end_time': '2022-02-02T16:37:45.430Z', 'activity': 'std'}, {'start_time': '2022-02-02T16:37:45.430Z', 'end_time': '2022-02-02T16:37:46.892Z', 'activity': 'wlk'}, {'start_time': '2022-02-02T16:37:46.892Z', 'end_time': '2022-02-02T16:37:47.379Z', 'activity': 'std'}, {'start_time': '2022-02-02T16:37:47.379Z', 'end_time': '2022-02-02T16:37:49.865Z', 'activity': 'wlk'}, {'start_time': '2022-02-02T16:37:49.865Z', 'end_time': '2022-02-02T16:37:52.839Z', 'activity': 'std'}, {'start_time': '2022-02-02T16:37:52.839Z', 'end_time': '2022-02-02T16:39:07.330Z', 'activity': 'wlk'}, {'start_time': '2022-02-02T16:39:07.330Z', 'end_time': '2022-02-02T16:39:13.180Z', 'activity': 'std'}, {'start_time': '2022-02-02T16:39:13.180Z', 'end_time': '2022-02-02T16:39:13.667Z', 'activity': 'wlk'}, {'start_time': '2022-02-02T16:39:13.667Z', 'end_time': '2022-02-02T16:39:18.055Z', 'activity': 'std'}, {'start_time': '2022-02-02T16:39:18.055Z', 'end_time': '2022-02-02T16:39:18.542Z', 'activity': 'wlk'}, {'start_time': '2022-02-02T16:39:18.542Z', 'end_time': '2022-02-02T16:39:22.977Z', 'activity': 'std'}, {'start_time': '2022-02-02T16:39:22.977Z', 'end_time': '2022-02-02T16:39:23.953Z', 'activity': 'wlk'}, {'start_time': '2022-02-02T16:39:23.953Z', 'end_time': '2022-02-02T16:39:24.441Z', 'activity': 'std'}, {'start_time': '2022-02-02T16:39:24.441Z', 'end_time': '2022-02-02T16:39:24.976Z', 'activity': 'wlk'}, {'start_time': '2022-02-02T16:39:24.976Z', 'end_time': '2022-02-02T16:39:25.464Z', 'activity': 'std'}, {'start_time': '2022-02-02T16:39:25.464Z', 'end_time': '2022-02-02T16:52:44.530Z', 'activity': 'wlk'}, {'start_time': '2022-02-02T16:52:44.530Z', 'end_time': '2022-02-02T16:52:45.018Z', 'activity': 'std'}, {'start_time': '2022-02-02T16:52:45.018Z', 'end_time': '2022-02-02T16:52:45.503Z', 'activity': 'wlk'}, {'start_time': '2022-02-02T16:52:45.503Z', 'end_time': '2022-02-02T16:53:15.821Z', 'activity': 'std'}, {'start_time': '2022-02-02T16:53:15.821Z', 'end_time': '2022-02-02T16:55:40.368Z', 'activity': 'wlk'}, {'start_time': '2022-02-02T16:55:40.368Z', 'end_time': '2022-02-02T16:55:41.829Z', 'activity': 'std'}, {'start_time': '2022-02-02T16:55:41.829Z', 'end_time': '2022-02-02T16:55:42.805Z', 'activity': 'wlk'}, {'start_time': '2022-02-02T16:55:42.805Z', 'end_time': '2022-02-02T16:55:43.292Z', 'activity': 'std'}, {'start_time': '2022-02-02T16:55:43.292Z', 'end_time': '2022-02-02T16:55:46.221Z', 'activity': 'wlk'}, {'start_time': '2022-02-02T16:55:46.221Z', 'end_time': '2022-02-02T16:55:46.709Z', 'activity': 'std'}, {'start_time': '2022-02-02T16:55:46.709Z', 'end_time': '2022-02-02T16:55:48.656Z', 'activity': 'wlk'}, {'start_time': '2022-02-02T16:55:48.656Z', 'end_time': '2022-02-02T16:55:49.143Z', 'activity': 'std'}, {'start_time': '2022-02-02T16:55:49.143Z', 'end_time': '2022-02-02T16:55:50.608Z', 'activity': 'wlk'}, {'start_time': '2022-02-02T16:55:50.608Z', 'end_time': '2022-02-02T16:55:51.580Z', 'activity': 'std'}, {'start_time': '2022-02-02T16:55:51.580Z', 'end_time': '2022-02-02T16:59:09.411Z', 'activity': 'wlk'}, {'start_time': '2022-02-02T16:59:09.411Z', 'end_time': '2022-02-02T17:06:22.941Z', 'activity': 'std'}]\""
            ]
          },
          "metadata": {},
          "execution_count": 115
        }
      ]
    },
    {
      "cell_type": "code",
      "source": [
        ""
      ],
      "metadata": {
        "colab": {
          "base_uri": "https://localhost:8080/"
        },
        "id": "A4HVyXHvb0Gk",
        "outputId": "0f5fb42d-d1e4-4e00-cfaf-a401c055a90b"
      },
      "execution_count": null,
      "outputs": [
        {
          "output_type": "stream",
          "name": "stdout",
          "text": [
            "================================================== From the Rule based ==================================================\n",
            "sit    4357\n",
            "std     513\n",
            "wlk     130\n",
            "Name: predicted_activity, dtype: int64\n",
            "================================================== From the Model ==================================================\n",
            "Counter({'std': 4726, 'wlk': 239})\n"
          ]
        }
      ]
    },
    {
      "cell_type": "code",
      "source": [
        "dummy_data = [{\n",
        "  \"data\": [\n",
        "    {\n",
        "      \"raw_sensor_data\": list(np.random.randint(10 , size = 11)),\n",
        "      \"timestamp\": \"2022-02-10\"    }\n",
        "  ],\n",
        "  \"mode\": \"MANUAL\",\n",
        "  \"location\": {\n",
        "    \"latitude\": 0,\n",
        "    \"longitude\": 0  },\n",
        "  \"deviceStatus\": \"CONNECTED\",\n",
        "  \"actualActivity\": \"SITTING\"} , {\n",
        "  \"data\": [\n",
        "    {\n",
        "      \"raw_sensor_data\": list(np.random.randint(10 , size = 11)),\n",
        "      \"timestamp\": \"2022-02-10\"    }\n",
        "  ],\n",
        "  \"mode\": \"MANUAL\",\n",
        "  \"location\": {\n",
        "    \"latitude\": 0,\n",
        "    \"longitude\": 0  },\n",
        "  \"deviceStatus\": \"CONNECTED\",\n",
        "  \"actualActivity\": \"SITTING\"}] "
      ],
      "metadata": {
        "id": "Ly4FJ2v_AB_6"
      },
      "execution_count": null,
      "outputs": []
    },
    {
      "cell_type": "code",
      "source": [
        "data_wrangle_json(pd.DataFrame.from_dict(some_list))"
      ],
      "metadata": {
        "id": "JFyLyUqgBbe_",
        "outputId": "95ec9e59-086e-4b49-f717-05d68ad3b4b3",
        "colab": {
          "base_uri": "https://localhost:8080/",
          "height": 143
        }
      },
      "execution_count": null,
      "outputs": [
        {
          "output_type": "execute_result",
          "data": {
            "text/html": [
              "\n",
              "  <div id=\"df-53b73330-3eb6-416c-aaa6-bea3bd295fe7\">\n",
              "    <div class=\"colab-df-container\">\n",
              "      <div>\n",
              "<style scoped>\n",
              "    .dataframe tbody tr th:only-of-type {\n",
              "        vertical-align: middle;\n",
              "    }\n",
              "\n",
              "    .dataframe tbody tr th {\n",
              "        vertical-align: top;\n",
              "    }\n",
              "\n",
              "    .dataframe thead th {\n",
              "        text-align: right;\n",
              "    }\n",
              "</style>\n",
              "<table border=\"1\" class=\"dataframe\">\n",
              "  <thead>\n",
              "    <tr style=\"text-align: right;\">\n",
              "      <th></th>\n",
              "      <th>v2</th>\n",
              "      <th>v3</th>\n",
              "      <th>v4</th>\n",
              "      <th>v5</th>\n",
              "      <th>v6</th>\n",
              "      <th>v7</th>\n",
              "      <th>v8</th>\n",
              "      <th>v9</th>\n",
              "      <th>v10</th>\n",
              "      <th>v11</th>\n",
              "    </tr>\n",
              "    <tr>\n",
              "      <th>timestamp</th>\n",
              "      <th></th>\n",
              "      <th></th>\n",
              "      <th></th>\n",
              "      <th></th>\n",
              "      <th></th>\n",
              "      <th></th>\n",
              "      <th></th>\n",
              "      <th></th>\n",
              "      <th></th>\n",
              "      <th></th>\n",
              "    </tr>\n",
              "  </thead>\n",
              "  <tbody>\n",
              "    <tr>\n",
              "      <th>2022-02-10</th>\n",
              "      <td>0</td>\n",
              "      <td>0</td>\n",
              "      <td>3</td>\n",
              "      <td>8</td>\n",
              "      <td>7</td>\n",
              "      <td>9</td>\n",
              "      <td>4</td>\n",
              "      <td>6</td>\n",
              "      <td>1</td>\n",
              "      <td>5</td>\n",
              "    </tr>\n",
              "    <tr>\n",
              "      <th>2022-02-10</th>\n",
              "      <td>2</td>\n",
              "      <td>8</td>\n",
              "      <td>8</td>\n",
              "      <td>5</td>\n",
              "      <td>8</td>\n",
              "      <td>9</td>\n",
              "      <td>9</td>\n",
              "      <td>2</td>\n",
              "      <td>9</td>\n",
              "      <td>1</td>\n",
              "    </tr>\n",
              "  </tbody>\n",
              "</table>\n",
              "</div>\n",
              "      <button class=\"colab-df-convert\" onclick=\"convertToInteractive('df-53b73330-3eb6-416c-aaa6-bea3bd295fe7')\"\n",
              "              title=\"Convert this dataframe to an interactive table.\"\n",
              "              style=\"display:none;\">\n",
              "        \n",
              "  <svg xmlns=\"http://www.w3.org/2000/svg\" height=\"24px\"viewBox=\"0 0 24 24\"\n",
              "       width=\"24px\">\n",
              "    <path d=\"M0 0h24v24H0V0z\" fill=\"none\"/>\n",
              "    <path d=\"M18.56 5.44l.94 2.06.94-2.06 2.06-.94-2.06-.94-.94-2.06-.94 2.06-2.06.94zm-11 1L8.5 8.5l.94-2.06 2.06-.94-2.06-.94L8.5 2.5l-.94 2.06-2.06.94zm10 10l.94 2.06.94-2.06 2.06-.94-2.06-.94-.94-2.06-.94 2.06-2.06.94z\"/><path d=\"M17.41 7.96l-1.37-1.37c-.4-.4-.92-.59-1.43-.59-.52 0-1.04.2-1.43.59L10.3 9.45l-7.72 7.72c-.78.78-.78 2.05 0 2.83L4 21.41c.39.39.9.59 1.41.59.51 0 1.02-.2 1.41-.59l7.78-7.78 2.81-2.81c.8-.78.8-2.07 0-2.86zM5.41 20L4 18.59l7.72-7.72 1.47 1.35L5.41 20z\"/>\n",
              "  </svg>\n",
              "      </button>\n",
              "      \n",
              "  <style>\n",
              "    .colab-df-container {\n",
              "      display:flex;\n",
              "      flex-wrap:wrap;\n",
              "      gap: 12px;\n",
              "    }\n",
              "\n",
              "    .colab-df-convert {\n",
              "      background-color: #E8F0FE;\n",
              "      border: none;\n",
              "      border-radius: 50%;\n",
              "      cursor: pointer;\n",
              "      display: none;\n",
              "      fill: #1967D2;\n",
              "      height: 32px;\n",
              "      padding: 0 0 0 0;\n",
              "      width: 32px;\n",
              "    }\n",
              "\n",
              "    .colab-df-convert:hover {\n",
              "      background-color: #E2EBFA;\n",
              "      box-shadow: 0px 1px 2px rgba(60, 64, 67, 0.3), 0px 1px 3px 1px rgba(60, 64, 67, 0.15);\n",
              "      fill: #174EA6;\n",
              "    }\n",
              "\n",
              "    [theme=dark] .colab-df-convert {\n",
              "      background-color: #3B4455;\n",
              "      fill: #D2E3FC;\n",
              "    }\n",
              "\n",
              "    [theme=dark] .colab-df-convert:hover {\n",
              "      background-color: #434B5C;\n",
              "      box-shadow: 0px 1px 3px 1px rgba(0, 0, 0, 0.15);\n",
              "      filter: drop-shadow(0px 1px 2px rgba(0, 0, 0, 0.3));\n",
              "      fill: #FFFFFF;\n",
              "    }\n",
              "  </style>\n",
              "\n",
              "      <script>\n",
              "        const buttonEl =\n",
              "          document.querySelector('#df-53b73330-3eb6-416c-aaa6-bea3bd295fe7 button.colab-df-convert');\n",
              "        buttonEl.style.display =\n",
              "          google.colab.kernel.accessAllowed ? 'block' : 'none';\n",
              "\n",
              "        async function convertToInteractive(key) {\n",
              "          const element = document.querySelector('#df-53b73330-3eb6-416c-aaa6-bea3bd295fe7');\n",
              "          const dataTable =\n",
              "            await google.colab.kernel.invokeFunction('convertToInteractive',\n",
              "                                                     [key], {});\n",
              "          if (!dataTable) return;\n",
              "\n",
              "          const docLinkHtml = 'Like what you see? Visit the ' +\n",
              "            '<a target=\"_blank\" href=https://colab.research.google.com/notebooks/data_table.ipynb>data table notebook</a>'\n",
              "            + ' to learn more about interactive tables.';\n",
              "          element.innerHTML = '';\n",
              "          dataTable['output_type'] = 'display_data';\n",
              "          await google.colab.output.renderOutput(dataTable, element);\n",
              "          const docLink = document.createElement('div');\n",
              "          docLink.innerHTML = docLinkHtml;\n",
              "          element.appendChild(docLink);\n",
              "        }\n",
              "      </script>\n",
              "    </div>\n",
              "  </div>\n",
              "  "
            ],
            "text/plain": [
              "            v2  v3  v4  v5  v6  v7  v8  v9  v10  v11\n",
              "timestamp                                           \n",
              "2022-02-10   0   0   3   8   7   9   4   6    1    5\n",
              "2022-02-10   2   8   8   5   8   9   9   2    9    1"
            ]
          },
          "metadata": {},
          "execution_count": 135
        }
      ]
    },
    {
      "cell_type": "code",
      "source": [
        "Predict_a_block(block-of-data):\n",
        "\n",
        "current_activity = nil\n",
        "\n",
        "\n",
        "\n",
        "from = starttime (from the data)\n",
        "\n",
        "timewindow array = [ from, to, activity]\n",
        "\n",
        "\n",
        "\n",
        "for: how many sliding windows of 35 in the block-of-data -- len(b)\n",
        "\n",
        "slice = window\n",
        "\n",
        "prediction = model_m.predict(slice)\n",
        "\n",
        "if (prediction != current_activity):\n",
        "\n",
        "if (current_activity != nil):\n",
        "\n",
        "add to the timewindow array (from , currentime, current_activity)\n",
        "\n",
        "set current_activity = prediction\n",
        "\n",
        "set from: currenttime\n",
        "\n",
        "\n",
        "\n",
        "return the window array\n",
        "\n",
        "[\n",
        "\n",
        "    {from , to , sit},\n",
        "\n",
        "{from, to, walk},\n",
        "\n",
        "{....}\n",
        "\n",
        "]"
      ],
      "metadata": {
        "id": "eho72VIEe4P9"
      },
      "execution_count": null,
      "outputs": []
    }
  ],
  "metadata": {
    "kernelspec": {
      "display_name": "Python 3",
      "language": "python",
      "name": "python3"
    },
    "language_info": {
      "codemirror_mode": {
        "name": "ipython",
        "version": 2
      },
      "file_extension": ".py",
      "mimetype": "text/x-python",
      "name": "python",
      "nbconvert_exporter": "python",
      "pygments_lexer": "ipython2",
      "version": "2.7.6"
    },
    "colab": {
      "name": "prediction_SORD.ipynb",
      "provenance": [],
      "include_colab_link": true
    }
  },
  "nbformat": 4,
  "nbformat_minor": 0
}