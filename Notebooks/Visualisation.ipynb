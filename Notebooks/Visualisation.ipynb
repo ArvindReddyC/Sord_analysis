{
  "nbformat": 4,
  "nbformat_minor": 0,
  "metadata": {
    "colab": {
      "name": "Visualisation.ipynb",
      "provenance": [],
      "mount_file_id": "1AKcLy11Q9OGlaP3jidVPfGLsScofedDg",
      "authorship_tag": "ABX9TyOnG+93NkFwJOxT1z56TWaX",
      "include_colab_link": true
    },
    "kernelspec": {
      "name": "python3",
      "display_name": "Python 3"
    },
    "language_info": {
      "name": "python"
    }
  },
  "cells": [
    {
      "cell_type": "markdown",
      "metadata": {
        "id": "view-in-github",
        "colab_type": "text"
      },
      "source": [
        "<a href=\"https://colab.research.google.com/github/ArvindReddyC/Sord_analysis/blob/main/Notebooks/Visualisation.ipynb\" target=\"_parent\"><img src=\"https://colab.research.google.com/assets/colab-badge.svg\" alt=\"Open In Colab\"/></a>"
      ]
    },
    {
      "cell_type": "markdown",
      "source": [
        "# Visualisation \n"
      ],
      "metadata": {
        "id": "qG0axqnqQDWn"
      }
    },
    {
      "cell_type": "code",
      "execution_count": 17,
      "metadata": {
        "colab": {
          "base_uri": "https://localhost:8080/"
        },
        "id": "DIrw4UkIQB64",
        "outputId": "b76c5c55-9856-4ec9-c9a8-c0cdfd77a5c4"
      },
      "outputs": [
        {
          "output_type": "stream",
          "name": "stdout",
          "text": [
            "Collecting kaleido\n",
            "  Downloading kaleido-0.2.1-py2.py3-none-manylinux1_x86_64.whl (79.9 MB)\n",
            "\u001b[K     |████████████████████████████████| 79.9 MB 114 kB/s \n",
            "\u001b[?25hInstalling collected packages: kaleido\n",
            "Successfully installed kaleido-0.2.1\n"
          ]
        }
      ],
      "source": [
        "import pandas as pd\n",
        "import plotly.express as px \n",
        "!pip install kaleido"
      ]
    },
    {
      "cell_type": "code",
      "source": [
        "df = pd.read_csv( '/content/drive/MyDrive/sord_data/raw_training_df.csv' , index_col = 0 )"
      ],
      "metadata": {
        "id": "6o73_hqyQOye"
      },
      "execution_count": 18,
      "outputs": []
    },
    {
      "cell_type": "code",
      "source": [
        "sorted_df = df.sort_values( ['User_Id' , 'Time'] )"
      ],
      "metadata": {
        "id": "KRdQ7JI6QiaO"
      },
      "execution_count": 19,
      "outputs": []
    },
    {
      "cell_type": "code",
      "source": [
        "#Plotting Hist for whole dat\n",
        "# f = px.histogram( sorted_df , x = 'Angle' , color = 'Activity' )\n",
        "# f.show()\n",
        "# f.update_layout( title = 'Hist of Angle for raw training data' )\n",
        "# f.write_image(\"fig.png\")\n",
        "# person1 = sorted_df[ sorted_df.User_Id == 1 ]\n",
        "\n",
        "list_cols = [ 'Angle', 'ax','ay','az','gx','gy','gz','mx','my','mzx' ]\n",
        "figs = []\n",
        "for each,i in zip(sorted_df.columns[1:-2],list_cols):\n",
        "    f =  px.histogram( sorted_df , x = each , color = 'Activity' , title = 'Hist for '+ i ) \n",
        "    f.write_image( '/content/drive/MyDrive/sord_data/Images/raw_hists_all/'+i+'.png'  )\n",
        "\n",
        "#Scatter_plot_for_whole \n",
        "figs = []\n",
        "for each,i in zip(sorted_df.columns[1:-2],list_cols):\n",
        "    f =  px.scatter( sorted_df , x = 'Time' , y =  each ,  color = 'Activity' , title = 'Scatter plot for ' + i  ) \n",
        "    f.write_image( '/content/drive/MyDrive/sord_data/Images/raw_scatters/'+i+'.png'  )"
      ],
      "metadata": {
        "id": "TjWJN2ytRChp"
      },
      "execution_count": 40,
      "outputs": []
    },
    {
      "cell_type": "code",
      "source": [
        "#Plotting Hist for each person\n",
        "person1 = sorted_df[ sorted_df.User_Id == 1 ]\n",
        "figs = []\n",
        "for each in person1.columns[1:-2]:\n",
        "    f =  px.histogram( person1 , x = each , color = 'Activity' , title = each ) \n",
        "    f.write_image( '/content/drive/MyDrive/sord_data/Images/person1'+each+'.png'  )"
      ],
      "metadata": {
        "id": "HiABHGTqRcfP"
      },
      "execution_count": 30,
      "outputs": []
    },
    {
      "cell_type": "code",
      "source": [
        "#Plotting Scater plot for each person\n",
        "#person1 = sorted_df[ sorted_df.User_Id == 1 ]\n",
        "figs = []\n",
        "for each in person1.columns[1:-2]:\n",
        "    f =  px.scatter( person1 , x = 'Time' , y =  each ,  color = 'Activity' , title = 'Scatter plot for ' + each  ) \n",
        "    f.write_image( '/content/drive/MyDrive/sord_data/Images/person1Scatter/'+each+'.png'  )"
      ],
      "metadata": {
        "colab": {
          "base_uri": "https://localhost:8080/"
        },
        "id": "Mu0A0pKsXBAE",
        "outputId": "49f50714-dd97-4073-c742-ebe3206f7b22"
      },
      "execution_count": 35,
      "outputs": [
        {
          "output_type": "execute_result",
          "data": {
            "text/plain": [
              "Index(['Angle', 'X', 'Y', 'Z', 'Unnamed: 5', 'Unnamed: 6', 'Unnamed: 7',\n",
              "       'Unnamed: 8', 'Unnamed: 9', 'Unnamed: 10'],\n",
              "      dtype='object')"
            ]
          },
          "metadata": {},
          "execution_count": 35
        }
      ]
    },
    {
      "cell_type": "code",
      "source": [
        "sorted_raw_training_df =  raw_training_df.sort_values(['User_Id','Time'])\n",
        "\n",
        "#To Visualise how the user 1 is behaving.\n",
        "person_of_intrest =  sorted_raw_training_df [sorted_raw_training_df.User_Id == 1 ]\n",
        "fig = px.scatter(person_of_intrest, x=\"Time\", y=\"Angle\", color='Activity')\n",
        "fig.show()\n",
        "\n",
        "#Let us visualise the raw data \n",
        "raw_sheet_one =  raw_sheet_one.fillna(method='ffill')\n",
        "raw_sheet_one.drop( ['SORD', 'AP time' , 'AP classification'] , axis = 1 , inplace = True )\n",
        "raw_sheet_one = only_activities( sheet_one , ['Standing', 'Sitting' , 'Walking', 'Sitting (outsrtetched legs)'] )\n",
        "raw_sheet_one\n",
        "figs = []\n",
        "for each in raw_sheet_one.columns[1:3]:\n",
        "  fig = px.scatter(raw_sheet_one, x=\"Time\", y=each, color='Activity', title = each)\n",
        "  figs.append(fig)\n",
        "\n",
        "figs[1].write_image(\"fig.png\")\n",
        "\n",
        "raw_sheet_one.dropna( how = 'any' , inplace = True )"
      ],
      "metadata": {
        "id": "1MgsHOq1QNli"
      },
      "execution_count": null,
      "outputs": []
    }
  ]
}