{
  "cells": [
    {
      "cell_type": "code",
      "execution_count": 62,
      "outputs": [],
      "source": [
        "import pandas as pd\n",
        "from scipy import stats\n",
        "import numpy as np\n",
        "import warnings\n",
        "warnings.filterwarnings(\"ignore\")\n",
        "from tensorflow import keras\n",
        "from tensorflow import keras\n",
        "from scipy import stats\n",
        "from tqdm import tqdm"
      ],
      "metadata": {
        "pycharm": {
          "name": "#%%\n"
        },
        "id": "-VaH6cGnVyME"
      }
    },
    {
      "cell_type": "code",
      "source": [
        "!touch test.py"
      ],
      "metadata": {
        "id": "C5-223ll_Fmi"
      },
      "execution_count": 117,
      "outputs": []
    },
    {
      "cell_type": "code",
      "execution_count": 2,
      "outputs": [],
      "source": [
        "def encapsule(df):\n",
        "    display(df.head(5))\n",
        "    print( f'shape of df = {df.shape}' )\n",
        "    return df"
      ],
      "metadata": {
        "pycharm": {
          "name": "#%%\n"
        },
        "id": "86ED1woPVyMG"
      }
    },
    {
      "cell_type": "code",
      "execution_count": 3,
      "outputs": [],
      "source": [
        "def tran(x):\n",
        "    y = x[1:-1]\n",
        "    return y.split(',')\n",
        "\n",
        "def data_wrangle( df ):\n",
        "    sample = df[['timestamp','raw_sensor_data']];\n",
        "    sample['parameters'] = sample.raw_sensor_data.apply(tran);\n",
        "    main = pd.DataFrame( sample.parameters.to_list() , columns = ['v1','v2','v3','v4','v5','v6','v7','v8','v9','v10','v11'] );\n",
        "    main['timestamp'] = sample['timestamp'];\n",
        "    main.drop( 'v1' , axis = 1 , inplace = True );\n",
        "    main.set_index('timestamp' , inplace=True);\n",
        "    return main;"
      ],
      "metadata": {
        "pycharm": {
          "name": "#%%\n"
        },
        "id": "X72KHeJxVyMH"
      }
    },
    {
      "cell_type": "code",
      "execution_count": 81,
      "outputs": [],
      "source": [
        "def create_segments_and_labels(df, time_steps, step):\n",
        "\n",
        "    # x, y, z acceleration as features\n",
        "    N_FEATURES = 10\n",
        "    # Number of steps to advance in each iteration (for me, it should always\n",
        "    # be equal to the time_steps in order to have no overlap between segments)\n",
        "    # step = time_steps\n",
        "    segments = []\n",
        "    labels = []\n",
        "    for i in range(0, len(df) - time_steps, step):\n",
        "        xs = df['v3'].values[i: i + time_steps]\n",
        "        ys = df['v4'].values[i: i + time_steps]\n",
        "        zs = df['v5'].values[i: i + time_steps]\n",
        "        angle = df['v2'].values[i: i + time_steps]\n",
        "        u5 = df['v6'].values[i: i + time_steps]\n",
        "        u6= df['v7'].values[i: i + time_steps]\n",
        "        u7= df['v8'].values[i: i + time_steps]\n",
        "        u8= df['v9'].values[i: i + time_steps]\n",
        "        u9= df['v10'].values[i: i + time_steps]\n",
        "        u10= df['v11'].values[i: i + time_steps]\n",
        "        # Retrieve the most often used label in this segment\n",
        "        segments.append([xs, ys, zs,angle,u5,u6,u7,u8,u9,u10 ])\n",
        "\n",
        "    # Bring the segments into a better shape\n",
        "    reshaped_segments = np.asarray(segments, dtype= np.float32).reshape(-1, time_steps, N_FEATURES)\n",
        "    reshaped = reshaped_segments.reshape(-1,350)\n",
        "    return reshaped"
      ],
      "metadata": {
        "pycharm": {
          "name": "#%%\n"
        },
        "id": "-_OPRU1AVyMI"
      }
    },
    {
      "cell_type": "code",
      "execution_count": 5,
      "outputs": [
        {
          "output_type": "display_data",
          "data": {
            "text/html": [
              "\n",
              "  <div id=\"df-a60e85b1-c4be-4b1a-a6dd-7d3c967e38f1\">\n",
              "    <div class=\"colab-df-container\">\n",
              "      <div>\n",
              "<style scoped>\n",
              "    .dataframe tbody tr th:only-of-type {\n",
              "        vertical-align: middle;\n",
              "    }\n",
              "\n",
              "    .dataframe tbody tr th {\n",
              "        vertical-align: top;\n",
              "    }\n",
              "\n",
              "    .dataframe thead th {\n",
              "        text-align: right;\n",
              "    }\n",
              "</style>\n",
              "<table border=\"1\" class=\"dataframe\">\n",
              "  <thead>\n",
              "    <tr style=\"text-align: right;\">\n",
              "      <th></th>\n",
              "      <th>id</th>\n",
              "      <th>user_id</th>\n",
              "      <th>email_id</th>\n",
              "      <th>raw_sensor_data</th>\n",
              "      <th>predicted_activity</th>\n",
              "      <th>actual_activity</th>\n",
              "      <th>timestamp</th>\n",
              "      <th>createdAt</th>\n",
              "      <th>updatedAt</th>\n",
              "    </tr>\n",
              "  </thead>\n",
              "  <tbody>\n",
              "    <tr>\n",
              "      <th>0</th>\n",
              "      <td>27967</td>\n",
              "      <td>61f87f357d6217b5ed17047d</td>\n",
              "      <td>imove.mrt@gmail.com</td>\n",
              "      <td>[4866.386144,14.911036744980214,2.48,0.28,-9.5...</td>\n",
              "      <td>sit</td>\n",
              "      <td>NaN</td>\n",
              "      <td>2022-02-02T16:13:39.218Z</td>\n",
              "      <td>2022-02-03T03:14:27.006Z</td>\n",
              "      <td>2022-02-03T03:14:27.006Z</td>\n",
              "    </tr>\n",
              "    <tr>\n",
              "      <th>1</th>\n",
              "      <td>27968</td>\n",
              "      <td>61f87f357d6217b5ed17047d</td>\n",
              "      <td>imove.mrt@gmail.com</td>\n",
              "      <td>[4867.311019,14.911036744980214,2.47,0.27,-9.5...</td>\n",
              "      <td>sit</td>\n",
              "      <td>NaN</td>\n",
              "      <td>2022-02-02T16:13:40.143Z</td>\n",
              "      <td>2022-02-03T03:14:27.006Z</td>\n",
              "      <td>2022-02-03T03:14:27.006Z</td>\n",
              "    </tr>\n",
              "    <tr>\n",
              "      <th>2</th>\n",
              "      <td>27969</td>\n",
              "      <td>61f87f357d6217b5ed17047d</td>\n",
              "      <td>imove.mrt@gmail.com</td>\n",
              "      <td>[4867.897186,14.911036744980214,2.5,0.24,-9.52...</td>\n",
              "      <td>sit</td>\n",
              "      <td>NaN</td>\n",
              "      <td>2022-02-02T16:13:40.729Z</td>\n",
              "      <td>2022-02-03T03:14:27.006Z</td>\n",
              "      <td>2022-02-03T03:14:27.006Z</td>\n",
              "    </tr>\n",
              "    <tr>\n",
              "      <th>3</th>\n",
              "      <td>27970</td>\n",
              "      <td>61f87f357d6217b5ed17047d</td>\n",
              "      <td>imove.mrt@gmail.com</td>\n",
              "      <td>[4868.430045,14.911036744980214,2.48,0.26,-9.5...</td>\n",
              "      <td>sit</td>\n",
              "      <td>NaN</td>\n",
              "      <td>2022-02-02T16:13:41.262Z</td>\n",
              "      <td>2022-02-03T03:14:27.006Z</td>\n",
              "      <td>2022-02-03T03:14:27.006Z</td>\n",
              "    </tr>\n",
              "    <tr>\n",
              "      <th>4</th>\n",
              "      <td>27971</td>\n",
              "      <td>61f87f357d6217b5ed17047d</td>\n",
              "      <td>imove.mrt@gmail.com</td>\n",
              "      <td>[4869.016053,14.911036744980214,2.46,0.26,-9.5...</td>\n",
              "      <td>sit</td>\n",
              "      <td>NaN</td>\n",
              "      <td>2022-02-02T16:13:41.848Z</td>\n",
              "      <td>2022-02-03T03:14:27.006Z</td>\n",
              "      <td>2022-02-03T03:14:27.006Z</td>\n",
              "    </tr>\n",
              "  </tbody>\n",
              "</table>\n",
              "</div>\n",
              "      <button class=\"colab-df-convert\" onclick=\"convertToInteractive('df-a60e85b1-c4be-4b1a-a6dd-7d3c967e38f1')\"\n",
              "              title=\"Convert this dataframe to an interactive table.\"\n",
              "              style=\"display:none;\">\n",
              "        \n",
              "  <svg xmlns=\"http://www.w3.org/2000/svg\" height=\"24px\"viewBox=\"0 0 24 24\"\n",
              "       width=\"24px\">\n",
              "    <path d=\"M0 0h24v24H0V0z\" fill=\"none\"/>\n",
              "    <path d=\"M18.56 5.44l.94 2.06.94-2.06 2.06-.94-2.06-.94-.94-2.06-.94 2.06-2.06.94zm-11 1L8.5 8.5l.94-2.06 2.06-.94-2.06-.94L8.5 2.5l-.94 2.06-2.06.94zm10 10l.94 2.06.94-2.06 2.06-.94-2.06-.94-.94-2.06-.94 2.06-2.06.94z\"/><path d=\"M17.41 7.96l-1.37-1.37c-.4-.4-.92-.59-1.43-.59-.52 0-1.04.2-1.43.59L10.3 9.45l-7.72 7.72c-.78.78-.78 2.05 0 2.83L4 21.41c.39.39.9.59 1.41.59.51 0 1.02-.2 1.41-.59l7.78-7.78 2.81-2.81c.8-.78.8-2.07 0-2.86zM5.41 20L4 18.59l7.72-7.72 1.47 1.35L5.41 20z\"/>\n",
              "  </svg>\n",
              "      </button>\n",
              "      \n",
              "  <style>\n",
              "    .colab-df-container {\n",
              "      display:flex;\n",
              "      flex-wrap:wrap;\n",
              "      gap: 12px;\n",
              "    }\n",
              "\n",
              "    .colab-df-convert {\n",
              "      background-color: #E8F0FE;\n",
              "      border: none;\n",
              "      border-radius: 50%;\n",
              "      cursor: pointer;\n",
              "      display: none;\n",
              "      fill: #1967D2;\n",
              "      height: 32px;\n",
              "      padding: 0 0 0 0;\n",
              "      width: 32px;\n",
              "    }\n",
              "\n",
              "    .colab-df-convert:hover {\n",
              "      background-color: #E2EBFA;\n",
              "      box-shadow: 0px 1px 2px rgba(60, 64, 67, 0.3), 0px 1px 3px 1px rgba(60, 64, 67, 0.15);\n",
              "      fill: #174EA6;\n",
              "    }\n",
              "\n",
              "    [theme=dark] .colab-df-convert {\n",
              "      background-color: #3B4455;\n",
              "      fill: #D2E3FC;\n",
              "    }\n",
              "\n",
              "    [theme=dark] .colab-df-convert:hover {\n",
              "      background-color: #434B5C;\n",
              "      box-shadow: 0px 1px 3px 1px rgba(0, 0, 0, 0.15);\n",
              "      filter: drop-shadow(0px 1px 2px rgba(0, 0, 0, 0.3));\n",
              "      fill: #FFFFFF;\n",
              "    }\n",
              "  </style>\n",
              "\n",
              "      <script>\n",
              "        const buttonEl =\n",
              "          document.querySelector('#df-a60e85b1-c4be-4b1a-a6dd-7d3c967e38f1 button.colab-df-convert');\n",
              "        buttonEl.style.display =\n",
              "          google.colab.kernel.accessAllowed ? 'block' : 'none';\n",
              "\n",
              "        async function convertToInteractive(key) {\n",
              "          const element = document.querySelector('#df-a60e85b1-c4be-4b1a-a6dd-7d3c967e38f1');\n",
              "          const dataTable =\n",
              "            await google.colab.kernel.invokeFunction('convertToInteractive',\n",
              "                                                     [key], {});\n",
              "          if (!dataTable) return;\n",
              "\n",
              "          const docLinkHtml = 'Like what you see? Visit the ' +\n",
              "            '<a target=\"_blank\" href=https://colab.research.google.com/notebooks/data_table.ipynb>data table notebook</a>'\n",
              "            + ' to learn more about interactive tables.';\n",
              "          element.innerHTML = '';\n",
              "          dataTable['output_type'] = 'display_data';\n",
              "          await google.colab.output.renderOutput(dataTable, element);\n",
              "          const docLink = document.createElement('div');\n",
              "          docLink.innerHTML = docLinkHtml;\n",
              "          element.appendChild(docLink);\n",
              "        }\n",
              "      </script>\n",
              "    </div>\n",
              "  </div>\n",
              "  "
            ],
            "text/plain": [
              "      id  ...                 updatedAt\n",
              "0  27967  ...  2022-02-03T03:14:27.006Z\n",
              "1  27968  ...  2022-02-03T03:14:27.006Z\n",
              "2  27969  ...  2022-02-03T03:14:27.006Z\n",
              "3  27970  ...  2022-02-03T03:14:27.006Z\n",
              "4  27971  ...  2022-02-03T03:14:27.006Z\n",
              "\n",
              "[5 rows x 9 columns]"
            ]
          },
          "metadata": {}
        },
        {
          "output_type": "stream",
          "name": "stdout",
          "text": [
            "shape of df = (5000, 9)\n"
          ]
        }
      ],
      "source": [
        "  sample = encapsule(pd.read_csv('sord.csv'))\n"
      ],
      "metadata": {
        "pycharm": {
          "name": "#%%\n"
        },
        "colab": {
          "base_uri": "https://localhost:8080/",
          "height": 374
        },
        "id": "9wjiAwLlVyMI",
        "outputId": "ffd13a42-b921-40dc-db71-6368256766dc"
      }
    },
    {
      "cell_type": "code",
      "execution_count": 76,
      "outputs": [
        {
          "output_type": "display_data",
          "data": {
            "text/html": [
              "\n",
              "  <div id=\"df-f3a91ad8-6f0e-4d48-851f-a2713e529df3\">\n",
              "    <div class=\"colab-df-container\">\n",
              "      <div>\n",
              "<style scoped>\n",
              "    .dataframe tbody tr th:only-of-type {\n",
              "        vertical-align: middle;\n",
              "    }\n",
              "\n",
              "    .dataframe tbody tr th {\n",
              "        vertical-align: top;\n",
              "    }\n",
              "\n",
              "    .dataframe thead th {\n",
              "        text-align: right;\n",
              "    }\n",
              "</style>\n",
              "<table border=\"1\" class=\"dataframe\">\n",
              "  <thead>\n",
              "    <tr style=\"text-align: right;\">\n",
              "      <th></th>\n",
              "      <th>v2</th>\n",
              "      <th>v3</th>\n",
              "      <th>v4</th>\n",
              "      <th>v5</th>\n",
              "      <th>v6</th>\n",
              "      <th>v7</th>\n",
              "      <th>v8</th>\n",
              "      <th>v9</th>\n",
              "      <th>v10</th>\n",
              "      <th>v11</th>\n",
              "    </tr>\n",
              "    <tr>\n",
              "      <th>timestamp</th>\n",
              "      <th></th>\n",
              "      <th></th>\n",
              "      <th></th>\n",
              "      <th></th>\n",
              "      <th></th>\n",
              "      <th></th>\n",
              "      <th></th>\n",
              "      <th></th>\n",
              "      <th></th>\n",
              "      <th></th>\n",
              "    </tr>\n",
              "  </thead>\n",
              "  <tbody>\n",
              "    <tr>\n",
              "      <th>2022-02-02T16:13:39.218Z</th>\n",
              "      <td>14.911036744980214</td>\n",
              "      <td>2.48</td>\n",
              "      <td>0.28</td>\n",
              "      <td>-9.52</td>\n",
              "      <td>-0.0625</td>\n",
              "      <td>-0.0625</td>\n",
              "      <td>-0.125</td>\n",
              "      <td>21.0625</td>\n",
              "      <td>22.375</td>\n",
              "      <td>-40.6875</td>\n",
              "    </tr>\n",
              "    <tr>\n",
              "      <th>2022-02-02T16:13:40.143Z</th>\n",
              "      <td>14.911036744980214</td>\n",
              "      <td>2.47</td>\n",
              "      <td>0.27</td>\n",
              "      <td>-9.51</td>\n",
              "      <td>0.125</td>\n",
              "      <td>-0.125</td>\n",
              "      <td>0.125</td>\n",
              "      <td>20.6875</td>\n",
              "      <td>22</td>\n",
              "      <td>-39.375</td>\n",
              "    </tr>\n",
              "    <tr>\n",
              "      <th>2022-02-02T16:13:40.729Z</th>\n",
              "      <td>14.911036744980214</td>\n",
              "      <td>2.5</td>\n",
              "      <td>0.24</td>\n",
              "      <td>-9.52</td>\n",
              "      <td>-0.1875</td>\n",
              "      <td>-0.1875</td>\n",
              "      <td>0.125</td>\n",
              "      <td>20.375</td>\n",
              "      <td>21.5625</td>\n",
              "      <td>-40.1875</td>\n",
              "    </tr>\n",
              "    <tr>\n",
              "      <th>2022-02-02T16:13:41.262Z</th>\n",
              "      <td>14.911036744980214</td>\n",
              "      <td>2.48</td>\n",
              "      <td>0.26</td>\n",
              "      <td>-9.52</td>\n",
              "      <td>0</td>\n",
              "      <td>0.125</td>\n",
              "      <td>-0.125</td>\n",
              "      <td>21.0625</td>\n",
              "      <td>22.6875</td>\n",
              "      <td>-40.5625</td>\n",
              "    </tr>\n",
              "    <tr>\n",
              "      <th>2022-02-02T16:13:41.848Z</th>\n",
              "      <td>14.911036744980214</td>\n",
              "      <td>2.46</td>\n",
              "      <td>0.26</td>\n",
              "      <td>-9.55</td>\n",
              "      <td>-0.1875</td>\n",
              "      <td>-0.1875</td>\n",
              "      <td>-0.25</td>\n",
              "      <td>20.6875</td>\n",
              "      <td>22.375</td>\n",
              "      <td>-40.1875</td>\n",
              "    </tr>\n",
              "  </tbody>\n",
              "</table>\n",
              "</div>\n",
              "      <button class=\"colab-df-convert\" onclick=\"convertToInteractive('df-f3a91ad8-6f0e-4d48-851f-a2713e529df3')\"\n",
              "              title=\"Convert this dataframe to an interactive table.\"\n",
              "              style=\"display:none;\">\n",
              "        \n",
              "  <svg xmlns=\"http://www.w3.org/2000/svg\" height=\"24px\"viewBox=\"0 0 24 24\"\n",
              "       width=\"24px\">\n",
              "    <path d=\"M0 0h24v24H0V0z\" fill=\"none\"/>\n",
              "    <path d=\"M18.56 5.44l.94 2.06.94-2.06 2.06-.94-2.06-.94-.94-2.06-.94 2.06-2.06.94zm-11 1L8.5 8.5l.94-2.06 2.06-.94-2.06-.94L8.5 2.5l-.94 2.06-2.06.94zm10 10l.94 2.06.94-2.06 2.06-.94-2.06-.94-.94-2.06-.94 2.06-2.06.94z\"/><path d=\"M17.41 7.96l-1.37-1.37c-.4-.4-.92-.59-1.43-.59-.52 0-1.04.2-1.43.59L10.3 9.45l-7.72 7.72c-.78.78-.78 2.05 0 2.83L4 21.41c.39.39.9.59 1.41.59.51 0 1.02-.2 1.41-.59l7.78-7.78 2.81-2.81c.8-.78.8-2.07 0-2.86zM5.41 20L4 18.59l7.72-7.72 1.47 1.35L5.41 20z\"/>\n",
              "  </svg>\n",
              "      </button>\n",
              "      \n",
              "  <style>\n",
              "    .colab-df-container {\n",
              "      display:flex;\n",
              "      flex-wrap:wrap;\n",
              "      gap: 12px;\n",
              "    }\n",
              "\n",
              "    .colab-df-convert {\n",
              "      background-color: #E8F0FE;\n",
              "      border: none;\n",
              "      border-radius: 50%;\n",
              "      cursor: pointer;\n",
              "      display: none;\n",
              "      fill: #1967D2;\n",
              "      height: 32px;\n",
              "      padding: 0 0 0 0;\n",
              "      width: 32px;\n",
              "    }\n",
              "\n",
              "    .colab-df-convert:hover {\n",
              "      background-color: #E2EBFA;\n",
              "      box-shadow: 0px 1px 2px rgba(60, 64, 67, 0.3), 0px 1px 3px 1px rgba(60, 64, 67, 0.15);\n",
              "      fill: #174EA6;\n",
              "    }\n",
              "\n",
              "    [theme=dark] .colab-df-convert {\n",
              "      background-color: #3B4455;\n",
              "      fill: #D2E3FC;\n",
              "    }\n",
              "\n",
              "    [theme=dark] .colab-df-convert:hover {\n",
              "      background-color: #434B5C;\n",
              "      box-shadow: 0px 1px 3px 1px rgba(0, 0, 0, 0.15);\n",
              "      filter: drop-shadow(0px 1px 2px rgba(0, 0, 0, 0.3));\n",
              "      fill: #FFFFFF;\n",
              "    }\n",
              "  </style>\n",
              "\n",
              "      <script>\n",
              "        const buttonEl =\n",
              "          document.querySelector('#df-f3a91ad8-6f0e-4d48-851f-a2713e529df3 button.colab-df-convert');\n",
              "        buttonEl.style.display =\n",
              "          google.colab.kernel.accessAllowed ? 'block' : 'none';\n",
              "\n",
              "        async function convertToInteractive(key) {\n",
              "          const element = document.querySelector('#df-f3a91ad8-6f0e-4d48-851f-a2713e529df3');\n",
              "          const dataTable =\n",
              "            await google.colab.kernel.invokeFunction('convertToInteractive',\n",
              "                                                     [key], {});\n",
              "          if (!dataTable) return;\n",
              "\n",
              "          const docLinkHtml = 'Like what you see? Visit the ' +\n",
              "            '<a target=\"_blank\" href=https://colab.research.google.com/notebooks/data_table.ipynb>data table notebook</a>'\n",
              "            + ' to learn more about interactive tables.';\n",
              "          element.innerHTML = '';\n",
              "          dataTable['output_type'] = 'display_data';\n",
              "          await google.colab.output.renderOutput(dataTable, element);\n",
              "          const docLink = document.createElement('div');\n",
              "          docLink.innerHTML = docLinkHtml;\n",
              "          element.appendChild(docLink);\n",
              "        }\n",
              "      </script>\n",
              "    </div>\n",
              "  </div>\n",
              "  "
            ],
            "text/plain": [
              "                                          v2    v3  ...      v10       v11\n",
              "timestamp                                           ...                   \n",
              "2022-02-02T16:13:39.218Z  14.911036744980214  2.48  ...   22.375  -40.6875\n",
              "2022-02-02T16:13:40.143Z  14.911036744980214  2.47  ...       22   -39.375\n",
              "2022-02-02T16:13:40.729Z  14.911036744980214   2.5  ...  21.5625  -40.1875\n",
              "2022-02-02T16:13:41.262Z  14.911036744980214  2.48  ...  22.6875  -40.5625\n",
              "2022-02-02T16:13:41.848Z  14.911036744980214  2.46  ...   22.375  -40.1875\n",
              "\n",
              "[5 rows x 10 columns]"
            ]
          },
          "metadata": {}
        },
        {
          "output_type": "stream",
          "name": "stdout",
          "text": [
            "shape of df = (5000, 10)\n"
          ]
        }
      ],
      "source": [
        "main = encapsule(data_wrangle(sample));\n"
      ],
      "metadata": {
        "pycharm": {
          "name": "#%%\n"
        },
        "colab": {
          "base_uri": "https://localhost:8080/",
          "height": 255
        },
        "id": "bunsDwulVyMJ",
        "outputId": "664558c8-d907-4ca0-af67-4af2607b58a8"
      }
    },
    {
      "cell_type": "code",
      "source": [
        "def main():\n",
        "  sample = pd.read_csv('sord.csv')\n",
        "  main = data_wrangle(sample);\n",
        "  reshaped = create_segments_and_labels(main,35,1)\n",
        "  model = keras.models.load_model('/content/saved_model/my_model_2')\n",
        "  currently_activity = ''\n",
        "  number_of_windoews = len(sample) - 35\n",
        "  from_ = sample.loc[0,'timestamp']\n",
        "  Clsses = ['sit', 'std', 'wlk']\n",
        "  final_list = []\n",
        "  for each in tqdm(range(number_of_windoews)):\n",
        "    y_hat =  model.predict(reshaped[each].reshape(-1,350))\n",
        "    y_hat  = np.argmax(y_hat)\n",
        "    y_hat = Clsses[y_hat]\n",
        "    if((y_hat != currently_activity) & (y_hat != '') ):\n",
        "      final_list.append( { 'start_time': from_ , 'end_time':sample.loc[each,'timestamp'] , 'activity': y_hat  } )\n",
        "      currently_activity = y_hat\n",
        "      from_ = sample.loc[each,'timestamp']\n",
        "\n",
        "\n"
      ],
      "metadata": {
        "id": "twW7nhv4uVKL"
      },
      "execution_count": null,
      "outputs": []
    },
    {
      "cell_type": "code",
      "source": [
        "!tar -xvzf model_2.tar.gz"
      ],
      "metadata": {
        "colab": {
          "base_uri": "https://localhost:8080/"
        },
        "id": "7Clg4W53XCEx",
        "outputId": "e7ea574b-f983-4722-95b4-bb25d31e50f3"
      },
      "execution_count": 10,
      "outputs": [
        {
          "output_type": "stream",
          "name": "stdout",
          "text": [
            "saved_model/my_model_2/\n",
            "saved_model/my_model_2/saved_model.pb\n",
            "saved_model/my_model_2/keras_metadata.pb\n",
            "saved_model/my_model_2/assets/\n",
            "saved_model/my_model_2/variables/\n",
            "saved_model/my_model_2/variables/variables.index\n",
            "saved_model/my_model_2/variables/variables.data-00000-of-00001\n"
          ]
        }
      ]
    },
    {
      "cell_type": "code",
      "source": [
        "reshaped = create_segments_and_labels(main,35,1)"
      ],
      "metadata": {
        "id": "IsDV8Bb3uFUJ"
      },
      "execution_count": 82,
      "outputs": []
    },
    {
      "cell_type": "code",
      "source": [
        "model = keras.models.load_model('/content/saved_model/my_model_2')"
      ],
      "metadata": {
        "id": "jTgQMvgtvc9A"
      },
      "execution_count": null,
      "outputs": []
    },
    {
      "cell_type": "code",
      "source": [
        "currently_activity = ''\n",
        "number_of_windoews = len(sample) - 35\n",
        "from_ = sample.loc[0,'timestamp']\n",
        "Clsses = ['sit', 'std', 'wlk']\n",
        "final_list = []\n",
        "for each in tqdm(range(number_of_windoews)):\n",
        "  y_hat =  model.predict(reshaped[each].reshape(-1,350))\n",
        "  y_hat  = np.argmax(y_hat)\n",
        "  y_hat = Clsses[y_hat]\n",
        "  if((y_hat != currently_activity) & (y_hat != '') ):\n",
        "    final_list.append( { 'start_time': from_ , 'end_time':sample.loc[each,'timestamp'] , 'activity': y_hat  } )\n",
        "    currently_activity = y_hat\n",
        "    from_ = sample.loc[each,'timestamp']\n"
      ],
      "metadata": {
        "colab": {
          "base_uri": "https://localhost:8080/"
        },
        "id": "ZRmeSLRTXprM",
        "outputId": "6da2ecb6-061d-43aa-ee68-da89e7402f89"
      },
      "execution_count": 101,
      "outputs": [
        {
          "output_type": "stream",
          "name": "stderr",
          "text": [
            "100%|██████████| 4965/4965 [04:52<00:00, 16.97it/s]\n"
          ]
        }
      ]
    },
    {
      "cell_type": "code",
      "source": [
        "repr(final_list)"
      ],
      "metadata": {
        "id": "58a22hTlw58A",
        "outputId": "73b80e9a-92be-48d6-b87c-1abebdafc14d",
        "colab": {
          "base_uri": "https://localhost:8080/",
          "height": 162
        }
      },
      "execution_count": 115,
      "outputs": [
        {
          "output_type": "execute_result",
          "data": {
            "application/vnd.google.colaboratory.intrinsic+json": {
              "type": "string"
            },
            "text/plain": [
              "\"[{'start_time': '2022-02-02T16:13:39.218Z', 'end_time': '2022-02-02T16:13:39.218Z', 'activity': 'std'}, {'start_time': '2022-02-02T16:13:39.218Z', 'end_time': '2022-02-02T16:23:55.463Z', 'activity': 'wlk'}, {'start_time': '2022-02-02T16:23:55.463Z', 'end_time': '2022-02-02T16:23:56.437Z', 'activity': 'std'}, {'start_time': '2022-02-02T16:23:56.437Z', 'end_time': '2022-02-02T16:23:57.412Z', 'activity': 'wlk'}, {'start_time': '2022-02-02T16:23:57.412Z', 'end_time': '2022-02-02T16:23:57.900Z', 'activity': 'std'}, {'start_time': '2022-02-02T16:23:57.900Z', 'end_time': '2022-02-02T16:37:40.067Z', 'activity': 'wlk'}, {'start_time': '2022-02-02T16:37:40.067Z', 'end_time': '2022-02-02T16:37:41.042Z', 'activity': 'std'}, {'start_time': '2022-02-02T16:37:41.042Z', 'end_time': '2022-02-02T16:37:41.530Z', 'activity': 'wlk'}, {'start_time': '2022-02-02T16:37:41.530Z', 'end_time': '2022-02-02T16:37:42.991Z', 'activity': 'std'}, {'start_time': '2022-02-02T16:37:42.991Z', 'end_time': '2022-02-02T16:37:44.942Z', 'activity': 'wlk'}, {'start_time': '2022-02-02T16:37:44.942Z', 'end_time': '2022-02-02T16:37:45.430Z', 'activity': 'std'}, {'start_time': '2022-02-02T16:37:45.430Z', 'end_time': '2022-02-02T16:37:46.892Z', 'activity': 'wlk'}, {'start_time': '2022-02-02T16:37:46.892Z', 'end_time': '2022-02-02T16:37:47.379Z', 'activity': 'std'}, {'start_time': '2022-02-02T16:37:47.379Z', 'end_time': '2022-02-02T16:37:49.865Z', 'activity': 'wlk'}, {'start_time': '2022-02-02T16:37:49.865Z', 'end_time': '2022-02-02T16:37:52.839Z', 'activity': 'std'}, {'start_time': '2022-02-02T16:37:52.839Z', 'end_time': '2022-02-02T16:39:07.330Z', 'activity': 'wlk'}, {'start_time': '2022-02-02T16:39:07.330Z', 'end_time': '2022-02-02T16:39:13.180Z', 'activity': 'std'}, {'start_time': '2022-02-02T16:39:13.180Z', 'end_time': '2022-02-02T16:39:13.667Z', 'activity': 'wlk'}, {'start_time': '2022-02-02T16:39:13.667Z', 'end_time': '2022-02-02T16:39:18.055Z', 'activity': 'std'}, {'start_time': '2022-02-02T16:39:18.055Z', 'end_time': '2022-02-02T16:39:18.542Z', 'activity': 'wlk'}, {'start_time': '2022-02-02T16:39:18.542Z', 'end_time': '2022-02-02T16:39:22.977Z', 'activity': 'std'}, {'start_time': '2022-02-02T16:39:22.977Z', 'end_time': '2022-02-02T16:39:23.953Z', 'activity': 'wlk'}, {'start_time': '2022-02-02T16:39:23.953Z', 'end_time': '2022-02-02T16:39:24.441Z', 'activity': 'std'}, {'start_time': '2022-02-02T16:39:24.441Z', 'end_time': '2022-02-02T16:39:24.976Z', 'activity': 'wlk'}, {'start_time': '2022-02-02T16:39:24.976Z', 'end_time': '2022-02-02T16:39:25.464Z', 'activity': 'std'}, {'start_time': '2022-02-02T16:39:25.464Z', 'end_time': '2022-02-02T16:52:44.530Z', 'activity': 'wlk'}, {'start_time': '2022-02-02T16:52:44.530Z', 'end_time': '2022-02-02T16:52:45.018Z', 'activity': 'std'}, {'start_time': '2022-02-02T16:52:45.018Z', 'end_time': '2022-02-02T16:52:45.503Z', 'activity': 'wlk'}, {'start_time': '2022-02-02T16:52:45.503Z', 'end_time': '2022-02-02T16:53:15.821Z', 'activity': 'std'}, {'start_time': '2022-02-02T16:53:15.821Z', 'end_time': '2022-02-02T16:55:40.368Z', 'activity': 'wlk'}, {'start_time': '2022-02-02T16:55:40.368Z', 'end_time': '2022-02-02T16:55:41.829Z', 'activity': 'std'}, {'start_time': '2022-02-02T16:55:41.829Z', 'end_time': '2022-02-02T16:55:42.805Z', 'activity': 'wlk'}, {'start_time': '2022-02-02T16:55:42.805Z', 'end_time': '2022-02-02T16:55:43.292Z', 'activity': 'std'}, {'start_time': '2022-02-02T16:55:43.292Z', 'end_time': '2022-02-02T16:55:46.221Z', 'activity': 'wlk'}, {'start_time': '2022-02-02T16:55:46.221Z', 'end_time': '2022-02-02T16:55:46.709Z', 'activity': 'std'}, {'start_time': '2022-02-02T16:55:46.709Z', 'end_time': '2022-02-02T16:55:48.656Z', 'activity': 'wlk'}, {'start_time': '2022-02-02T16:55:48.656Z', 'end_time': '2022-02-02T16:55:49.143Z', 'activity': 'std'}, {'start_time': '2022-02-02T16:55:49.143Z', 'end_time': '2022-02-02T16:55:50.608Z', 'activity': 'wlk'}, {'start_time': '2022-02-02T16:55:50.608Z', 'end_time': '2022-02-02T16:55:51.580Z', 'activity': 'std'}, {'start_time': '2022-02-02T16:55:51.580Z', 'end_time': '2022-02-02T16:59:09.411Z', 'activity': 'wlk'}, {'start_time': '2022-02-02T16:59:09.411Z', 'end_time': '2022-02-02T17:06:22.941Z', 'activity': 'std'}]\""
            ]
          },
          "metadata": {},
          "execution_count": 115
        }
      ]
    },
    {
      "cell_type": "code",
      "source": [
        "preds = []\n",
        "for each in max_y_pred_test:\n",
        " preds.append(Clsses[each])\n"
      ],
      "metadata": {
        "id": "pTQA8RFWZxCR"
      },
      "execution_count": 43,
      "outputs": []
    },
    {
      "cell_type": "code",
      "source": [
        "stats.mode(preds)"
      ],
      "metadata": {
        "id": "BhNjtqHv2E-E",
        "outputId": "b96e2bab-86e3-4ee4-8bd6-39e0b5108042",
        "colab": {
          "base_uri": "https://localhost:8080/"
        }
      },
      "execution_count": 111,
      "outputs": [
        {
          "output_type": "execute_result",
          "data": {
            "text/plain": [
              "ModeResult(mode=array(['std'], dtype='<U3'), count=array([4726]))"
            ]
          },
          "metadata": {},
          "execution_count": 111
        }
      ]
    },
    {
      "cell_type": "code",
      "source": [
        "sample.loc[np.where(np.roll(preds,1)!=preds)[0]]['timestamp']"
      ],
      "metadata": {
        "id": "gS_0Bg19y7ZD",
        "outputId": "c76c1b79-c85e-43f8-aac1-a22af9697c63",
        "colab": {
          "base_uri": "https://localhost:8080/"
        }
      },
      "execution_count": 104,
      "outputs": [
        {
          "output_type": "execute_result",
          "data": {
            "text/plain": [
              "1148    2022-02-02T16:23:55.463Z\n",
              "1150    2022-02-02T16:23:56.437Z\n",
              "1152    2022-02-02T16:23:57.412Z\n",
              "1153    2022-02-02T16:23:57.900Z\n",
              "2690    2022-02-02T16:37:40.067Z\n",
              "2692    2022-02-02T16:37:41.042Z\n",
              "2693    2022-02-02T16:37:41.530Z\n",
              "2696    2022-02-02T16:37:42.991Z\n",
              "2700    2022-02-02T16:37:44.942Z\n",
              "2701    2022-02-02T16:37:45.430Z\n",
              "2704    2022-02-02T16:37:46.892Z\n",
              "2705    2022-02-02T16:37:47.379Z\n",
              "2710    2022-02-02T16:37:49.865Z\n",
              "2716    2022-02-02T16:37:52.839Z\n",
              "2868    2022-02-02T16:39:07.330Z\n",
              "2880    2022-02-02T16:39:13.180Z\n",
              "2881    2022-02-02T16:39:13.667Z\n",
              "2890    2022-02-02T16:39:18.055Z\n",
              "2891    2022-02-02T16:39:18.542Z\n",
              "2900    2022-02-02T16:39:22.977Z\n",
              "2902    2022-02-02T16:39:23.953Z\n",
              "2903    2022-02-02T16:39:24.441Z\n",
              "2904    2022-02-02T16:39:24.976Z\n",
              "2905    2022-02-02T16:39:25.464Z\n",
              "3606    2022-02-02T16:52:44.530Z\n",
              "3607    2022-02-02T16:52:45.018Z\n",
              "3608    2022-02-02T16:52:45.503Z\n",
              "3649    2022-02-02T16:53:15.821Z\n",
              "3709    2022-02-02T16:55:40.368Z\n",
              "3712    2022-02-02T16:55:41.829Z\n",
              "3714    2022-02-02T16:55:42.805Z\n",
              "3715    2022-02-02T16:55:43.292Z\n",
              "3721    2022-02-02T16:55:46.221Z\n",
              "3722    2022-02-02T16:55:46.709Z\n",
              "3726    2022-02-02T16:55:48.656Z\n",
              "3727    2022-02-02T16:55:49.143Z\n",
              "3730    2022-02-02T16:55:50.608Z\n",
              "3732    2022-02-02T16:55:51.580Z\n",
              "4135    2022-02-02T16:59:09.411Z\n",
              "4276    2022-02-02T17:06:22.941Z\n",
              "Name: timestamp, dtype: object"
            ]
          },
          "metadata": {},
          "execution_count": 104
        }
      ]
    },
    {
      "cell_type": "code",
      "source": [
        "print('='*50 , 'From the Rule based' ,'='*50  )\n",
        "print(repr(sample.predicted_activity.value_counts()))\n",
        "print('='*50 , 'From the Model' ,'='*50  )\n",
        "print(repr(Counter(preds)))"
      ],
      "metadata": {
        "colab": {
          "base_uri": "https://localhost:8080/"
        },
        "id": "A4HVyXHvb0Gk",
        "outputId": "0f5fb42d-d1e4-4e00-cfaf-a401c055a90b"
      },
      "execution_count": 113,
      "outputs": [
        {
          "output_type": "stream",
          "name": "stdout",
          "text": [
            "================================================== From the Rule based ==================================================\n",
            "sit    4357\n",
            "std     513\n",
            "wlk     130\n",
            "Name: predicted_activity, dtype: int64\n",
            "================================================== From the Model ==================================================\n",
            "Counter({'std': 4726, 'wlk': 239})\n"
          ]
        }
      ]
    },
    {
      "cell_type": "code",
      "source": [
        "Predict_a_block(block-of-data):\n",
        "\n",
        "current_activity = nil\n",
        "\n",
        "\n",
        "\n",
        "from = starttime (from the data)\n",
        "\n",
        "timewindow array = [ from, to, activity]\n",
        "\n",
        "\n",
        "\n",
        "for: how many sliding windows of 35 in the block-of-data -- len(b)\n",
        "\n",
        "slice = window\n",
        "\n",
        "prediction = model_m.predict(slice)\n",
        "\n",
        "if (prediction != current_activity):\n",
        "\n",
        "if (current_activity != nil):\n",
        "\n",
        "add to the timewindow array (from , currentime, current_activity)\n",
        "\n",
        "set current_activity = prediction\n",
        "\n",
        "set from: currenttime\n",
        "\n",
        "\n",
        "\n",
        "return the window array\n",
        "\n",
        "[\n",
        "\n",
        "    {from , to , sit},\n",
        "\n",
        "{from, to, walk},\n",
        "\n",
        "{....}\n",
        "\n",
        "]"
      ],
      "metadata": {
        "id": "eho72VIEe4P9"
      },
      "execution_count": null,
      "outputs": []
    }
  ],
  "metadata": {
    "kernelspec": {
      "display_name": "Python 3",
      "language": "python",
      "name": "python3"
    },
    "language_info": {
      "codemirror_mode": {
        "name": "ipython",
        "version": 2
      },
      "file_extension": ".py",
      "mimetype": "text/x-python",
      "name": "python",
      "nbconvert_exporter": "python",
      "pygments_lexer": "ipython2",
      "version": "2.7.6"
    },
    "colab": {
      "name": "prediction_SORD.ipynb",
      "provenance": []
    }
  },
  "nbformat": 4,
  "nbformat_minor": 0
}