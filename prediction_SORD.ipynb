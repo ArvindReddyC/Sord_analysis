{
 "cells": [
  {
   "cell_type": "raw",
   "metadata": {
    "collapsed": true,
    "pycharm": {
     "name": "#%% raw\n"
    }
   },
   "source": [
    "global model_m = .load(file)\n",
    "\n",
    "\n",
    "\n",
    "\n",
    "Predict_a_block(block-of-data):\n",
    "\n",
    "current_activity = nil\n",
    "\n",
    "from os import nice\n",
    "\n",
    "from = starttime (from the data)\n",
    "\n",
    "timewindow array = [ from, to, activity]\n",
    "\n",
    "\n",
    "\n",
    "for: how many sliding windows of 35 in the block-of-data -- len(b)\n",
    "\n",
    "slice = window\n",
    "\n",
    "prediction = model_m.predict(slice)\n",
    "\n",
    "if (prediction != current_activity):\n",
    "\n",
    "if (current_activity != nil):\n",
    "\n",
    "add to the timewindow array (from , currentime, current_activity)\n",
    "\n",
    "set current_activity = prediction\n",
    "\n",
    "set from: currenttime\n",
    "\n",
    "\n",
    "\n",
    "return the window array\n",
    "\n",
    "[\n",
    "\n",
    "    {from , to , sit},\n",
    "\n",
    "{from, to, walk},\n",
    "\n",
    "{....}\n",
    "\n",
    "]"
   ]
  },
  {
   "cell_type": "code",
   "execution_count": 103,
   "outputs": [
    {
     "ename": "ModuleNotFoundError",
     "evalue": "No module named 'tensorflow'",
     "output_type": "error",
     "traceback": [
      "\u001B[0;31m---------------------------------------------------------------------------\u001B[0m",
      "\u001B[0;31mModuleNotFoundError\u001B[0m                       Traceback (most recent call last)",
      "\u001B[0;32m/var/folders/12/y5vs86r91n98w8k_k0z7drn00000gn/T/ipykernel_984/3313079456.py\u001B[0m in \u001B[0;36m<module>\u001B[0;34m\u001B[0m\n\u001B[1;32m      4\u001B[0m \u001B[0;32mimport\u001B[0m \u001B[0mwarnings\u001B[0m\u001B[0;34m\u001B[0m\u001B[0;34m\u001B[0m\u001B[0m\n\u001B[1;32m      5\u001B[0m \u001B[0mwarnings\u001B[0m\u001B[0;34m.\u001B[0m\u001B[0mfilterwarnings\u001B[0m\u001B[0;34m(\u001B[0m\u001B[0;34m\"ignore\"\u001B[0m\u001B[0;34m)\u001B[0m\u001B[0;34m\u001B[0m\u001B[0;34m\u001B[0m\u001B[0m\n\u001B[0;32m----> 6\u001B[0;31m \u001B[0;32mfrom\u001B[0m \u001B[0mtensorflow\u001B[0m \u001B[0;32mimport\u001B[0m \u001B[0mkeras\u001B[0m\u001B[0;34m\u001B[0m\u001B[0;34m\u001B[0m\u001B[0m\n\u001B[0m\u001B[1;32m      7\u001B[0m \u001B[0;34m\u001B[0m\u001B[0m\n",
      "\u001B[0;31mModuleNotFoundError\u001B[0m: No module named 'tensorflow'"
     ]
    }
   ],
   "source": [
    "import pandas as pd\n",
    "from scipy import stats\n",
    "import numpy as np\n",
    "import warnings\n",
    "warnings.filterwarnings(\"ignore\")\n",
    "from tensorflow import keras\n"
   ],
   "metadata": {
    "collapsed": false,
    "pycharm": {
     "name": "#%%\n"
    }
   }
  },
  {
   "cell_type": "code",
   "execution_count": 104,
   "outputs": [
    {
     "name": "stdout",
     "output_type": "stream",
     "text": [
      "Collecting tensorflow\r\n",
      "  Downloading tensorflow-2.8.0-cp37-cp37m-macosx_10_14_x86_64.whl (217.4 MB)\r\n",
      "\u001B[K     |████████████████████████████████| 217.4 MB 848 bytes/s a 0:00:01  |█▎                              | 8.6 MB 5.7 MB/s eta 0:00:37     |██▋                             | 18.0 MB 6.1 MB/s eta 0:00:33     |███                             | 19.8 MB 6.1 MB/s eta 0:00:33     |██████████▍                     | 70.8 MB 6.5 MB/s eta 0:00:23ta 0:00:23     |████████████                    | 81.0 MB 6.1 MB/s eta 0:00:23     |████████████                    | 81.3 MB 6.1 MB/s eta 0:00:23��████████▊                  | 93.3 MB 25.2 MB/s eta 0:00:05     |██████████████                  | 95.1 MB 25.2 MB/s eta 0:00:05     |███████████████████████████▏    | 184.8 MB 9.1 MB/s eta 0:00:04 0:00:04     |████████████████████████████▎   | 192.1 MB 668 kB/s eta 0:00:38     |█████████████████████████████   | 197.6 MB 454 kB/s eta 0:00:44     |█████████████████████████████▋  | 201.5 MB 6.5 MB/s eta 0:00:03     |███████████████████████████████▏| 211.8 MB 4.1 MB/s eta 0:00:02�███████████▏| 211.9 MB 4.1 MB/s eta 0:00:02\r\n",
      "\u001B[?25hCollecting absl-py>=0.4.0\r\n",
      "  Downloading absl_py-1.0.0-py3-none-any.whl (126 kB)\r\n",
      "\u001B[K     |████████████████████████████████| 126 kB 7.4 MB/s eta 0:00:01\r\n",
      "\u001B[?25hRequirement already satisfied: typing-extensions>=3.6.6 in /Users/arvindchandrasekarreddy/opt/anaconda3/lib/python3.7/site-packages (from tensorflow) (3.10.0.0)\r\n",
      "Collecting protobuf>=3.9.2\r\n",
      "  Downloading protobuf-3.19.4-cp37-cp37m-macosx_10_9_x86_64.whl (960 kB)\r\n",
      "\u001B[K     |████████████████████████████████| 960 kB 7.3 MB/s eta 0:00:01\r\n",
      "\u001B[?25hCollecting opt-einsum>=2.3.2\r\n",
      "  Downloading opt_einsum-3.3.0-py3-none-any.whl (65 kB)\r\n",
      "\u001B[K     |████████████████████████████████| 65 kB 4.2 MB/s eta 0:00:011\r\n",
      "\u001B[?25hCollecting libclang>=9.0.1\r\n",
      "  Downloading libclang-13.0.0-py2.py3-none-macosx_10_9_x86_64.whl (13.0 MB)\r\n",
      "\u001B[K     |████████████████████████████████| 13.0 MB 690 kB/s eta 0:00:01\r\n",
      "\u001B[?25hCollecting termcolor>=1.1.0\r\n",
      "  Downloading termcolor-1.1.0.tar.gz (3.9 kB)\r\n",
      "Collecting numpy>=1.20\r\n",
      "  Downloading numpy-1.21.5-cp37-cp37m-macosx_10_9_x86_64.whl (16.9 MB)\r\n",
      "\u001B[K     |████████████████████████████████| 16.9 MB 8.0 MB/s eta 0:00:01\r\n",
      "\u001B[?25hCollecting keras<2.9,>=2.8.0rc0\r\n",
      "  Downloading keras-2.8.0-py2.py3-none-any.whl (1.4 MB)\r\n",
      "\u001B[K     |████████████████████████████████| 1.4 MB 7.4 MB/s eta 0:00:01\r\n",
      "\u001B[?25hCollecting tensorflow-io-gcs-filesystem>=0.23.1\r\n",
      "  Downloading tensorflow_io_gcs_filesystem-0.24.0-cp37-cp37m-macosx_10_14_x86_64.whl (1.6 MB)\r\n",
      "\u001B[K     |████████████████████████████████| 1.6 MB 6.6 MB/s eta 0:00:01\r\n",
      "\u001B[?25hCollecting grpcio<2.0,>=1.24.3\r\n",
      "  Downloading grpcio-1.43.0-cp37-cp37m-macosx_10_10_x86_64.whl (4.1 MB)\r\n",
      "\u001B[K     |████████████████████████████████| 4.1 MB 4.7 MB/s eta 0:00:01\r\n",
      "\u001B[?25hRequirement already satisfied: setuptools in /Users/arvindchandrasekarreddy/opt/anaconda3/lib/python3.7/site-packages (from tensorflow) (41.0.1)\r\n",
      "Requirement already satisfied: six>=1.12.0 in /Users/arvindchandrasekarreddy/opt/anaconda3/lib/python3.7/site-packages (from tensorflow) (1.15.0)\r\n",
      "Collecting gast>=0.2.1\r\n",
      "  Downloading gast-0.5.3-py3-none-any.whl (19 kB)\r\n",
      "Requirement already satisfied: wrapt>=1.11.0 in /Users/arvindchandrasekarreddy/opt/anaconda3/lib/python3.7/site-packages (from tensorflow) (1.11.2)\r\n",
      "Collecting astunparse>=1.6.0\r\n",
      "  Downloading astunparse-1.6.3-py2.py3-none-any.whl (12 kB)\r\n",
      "Collecting flatbuffers>=1.12\r\n",
      "  Downloading flatbuffers-2.0-py2.py3-none-any.whl (26 kB)\r\n",
      "Collecting google-pasta>=0.1.1\r\n",
      "  Downloading google_pasta-0.2.0-py3-none-any.whl (57 kB)\r\n",
      "\u001B[K     |████████████████████████████████| 57 kB 4.9 MB/s eta 0:00:011\r\n",
      "\u001B[?25hRequirement already satisfied: h5py>=2.9.0 in /Users/arvindchandrasekarreddy/opt/anaconda3/lib/python3.7/site-packages (from tensorflow) (2.10.0)\r\n",
      "Collecting tf-estimator-nightly==2.8.0.dev2021122109\r\n",
      "  Downloading tf_estimator_nightly-2.8.0.dev2021122109-py2.py3-none-any.whl (462 kB)\r\n",
      "\u001B[K     |████████████████████████████████| 462 kB 6.2 MB/s eta 0:00:01\r\n",
      "\u001B[?25hCollecting keras-preprocessing>=1.1.1\r\n",
      "  Downloading Keras_Preprocessing-1.1.2-py2.py3-none-any.whl (42 kB)\r\n",
      "\u001B[K     |████████████████████████████████| 42 kB 595 kB/s eta 0:00:01\r\n",
      "\u001B[?25hCollecting tensorboard<2.9,>=2.8\r\n",
      "  Downloading tensorboard-2.8.0-py3-none-any.whl (5.8 MB)\r\n",
      "\u001B[K     |████████████████████████████████| 5.8 MB 8.3 MB/s eta 0:00:01\r\n",
      "\u001B[?25hRequirement already satisfied: wheel<1.0,>=0.23.0 in /Users/arvindchandrasekarreddy/opt/anaconda3/lib/python3.7/site-packages (from astunparse>=1.6.0->tensorflow) (0.34.2)\r\n",
      "Collecting tensorboard-data-server<0.7.0,>=0.6.0\r\n",
      "  Downloading tensorboard_data_server-0.6.1-py3-none-macosx_10_9_x86_64.whl (3.5 MB)\r\n",
      "\u001B[K     |████████████████████████████████| 3.5 MB 6.0 MB/s eta 0:00:01\r\n",
      "\u001B[?25hCollecting google-auth<3,>=1.6.3\r\n",
      "  Downloading google_auth-2.6.0-py2.py3-none-any.whl (156 kB)\r\n",
      "\u001B[K     |████████████████████████████████| 156 kB 6.3 MB/s eta 0:00:01\r\n",
      "\u001B[?25hCollecting tensorboard-plugin-wit>=1.6.0\r\n",
      "  Downloading tensorboard_plugin_wit-1.8.1-py3-none-any.whl (781 kB)\r\n",
      "\u001B[K     |████████████████████████████████| 781 kB 5.5 MB/s eta 0:00:01\r\n",
      "\u001B[?25hRequirement already satisfied: requests<3,>=2.21.0 in /Users/arvindchandrasekarreddy/opt/anaconda3/lib/python3.7/site-packages (from tensorboard<2.9,>=2.8->tensorflow) (2.25.1)\r\n",
      "Collecting google-auth-oauthlib<0.5,>=0.4.1\r\n",
      "  Downloading google_auth_oauthlib-0.4.6-py2.py3-none-any.whl (18 kB)\r\n",
      "Collecting markdown>=2.6.8\r\n",
      "  Downloading Markdown-3.3.6-py3-none-any.whl (97 kB)\r\n",
      "\u001B[K     |████████████████████████████████| 97 kB 5.3 MB/s eta 0:00:01\r\n",
      "\u001B[?25hRequirement already satisfied: werkzeug>=0.11.15 in /Users/arvindchandrasekarreddy/opt/anaconda3/lib/python3.7/site-packages (from tensorboard<2.9,>=2.8->tensorflow) (1.0.0)\r\n",
      "Collecting cachetools<6.0,>=2.0.0\r\n",
      "  Downloading cachetools-5.0.0-py3-none-any.whl (9.1 kB)\r\n",
      "Collecting rsa<5,>=3.1.4; python_version >= \"3.6\"\r\n",
      "  Downloading rsa-4.8-py3-none-any.whl (39 kB)\r\n",
      "Collecting pyasn1-modules>=0.2.1\r\n",
      "  Downloading pyasn1_modules-0.2.8-py2.py3-none-any.whl (155 kB)\r\n",
      "\u001B[K     |████████████████████████████████| 155 kB 8.0 MB/s eta 0:00:01\r\n",
      "\u001B[?25hRequirement already satisfied: certifi>=2017.4.17 in /Users/arvindchandrasekarreddy/opt/anaconda3/lib/python3.7/site-packages (from requests<3,>=2.21.0->tensorboard<2.9,>=2.8->tensorflow) (2019.11.28)\r\n",
      "Requirement already satisfied: urllib3<1.27,>=1.21.1 in /Users/arvindchandrasekarreddy/opt/anaconda3/lib/python3.7/site-packages (from requests<3,>=2.21.0->tensorboard<2.9,>=2.8->tensorflow) (1.25.8)\r\n",
      "Requirement already satisfied: chardet<5,>=3.0.2 in /Users/arvindchandrasekarreddy/opt/anaconda3/lib/python3.7/site-packages (from requests<3,>=2.21.0->tensorboard<2.9,>=2.8->tensorflow) (3.0.4)\r\n",
      "Requirement already satisfied: idna<3,>=2.5 in /Users/arvindchandrasekarreddy/opt/anaconda3/lib/python3.7/site-packages (from requests<3,>=2.21.0->tensorboard<2.9,>=2.8->tensorflow) (2.8)\r\n",
      "Collecting requests-oauthlib>=0.7.0\r\n",
      "  Downloading requests_oauthlib-1.3.1-py2.py3-none-any.whl (23 kB)\r\n",
      "Collecting importlib-metadata>=4.4; python_version < \"3.10\"\r\n",
      "  Downloading importlib_metadata-4.10.1-py3-none-any.whl (17 kB)\r\n",
      "Collecting pyasn1>=0.1.3\r\n",
      "  Downloading pyasn1-0.4.8-py2.py3-none-any.whl (77 kB)\r\n",
      "\u001B[K     |████████████████████████████████| 77 kB 3.9 MB/s eta 0:00:01\r\n",
      "\u001B[?25hCollecting oauthlib>=3.0.0\r\n",
      "  Downloading oauthlib-3.2.0-py3-none-any.whl (151 kB)\r\n",
      "\u001B[K     |████████████████████████████████| 151 kB 6.8 MB/s eta 0:00:01\r\n",
      "\u001B[?25hRequirement already satisfied: zipp>=0.5 in /Users/arvindchandrasekarreddy/opt/anaconda3/lib/python3.7/site-packages (from importlib-metadata>=4.4; python_version < \"3.10\"->markdown>=2.6.8->tensorboard<2.9,>=2.8->tensorflow) (2.2.0)\r\n",
      "Building wheels for collected packages: termcolor\r\n",
      "  Building wheel for termcolor (setup.py) ... \u001B[?25ldone\r\n",
      "\u001B[?25h  Created wheel for termcolor: filename=termcolor-1.1.0-py3-none-any.whl size=4830 sha256=4a6fe0cdcd7497233a1ee5b47b373e3fdd2f295e219b9c4e7f74919769edea0c\r\n",
      "  Stored in directory: /Users/arvindchandrasekarreddy/Library/Caches/pip/wheels/3f/e3/ec/8a8336ff196023622fbcb36de0c5a5c218cbb24111d1d4c7f2\r\n",
      "Successfully built termcolor\r\n",
      "\u001B[31mERROR: pytest-astropy 0.8.0 requires pytest-cov>=2.0, which is not installed.\u001B[0m\r\n",
      "\u001B[31mERROR: pytest-astropy 0.8.0 requires pytest-filter-subpackage>=0.1, which is not installed.\u001B[0m\r\n",
      "Installing collected packages: absl-py, protobuf, numpy, opt-einsum, libclang, termcolor, keras, tensorflow-io-gcs-filesystem, grpcio, gast, astunparse, flatbuffers, google-pasta, tf-estimator-nightly, keras-preprocessing, tensorboard-data-server, cachetools, pyasn1, rsa, pyasn1-modules, google-auth, tensorboard-plugin-wit, oauthlib, requests-oauthlib, google-auth-oauthlib, importlib-metadata, markdown, tensorboard, tensorflow\r\n",
      "  Attempting uninstall: numpy\r\n",
      "    Found existing installation: numpy 1.19.1\r\n",
      "    Uninstalling numpy-1.19.1:\r\n",
      "      Successfully uninstalled numpy-1.19.1\r\n",
      "  Attempting uninstall: importlib-metadata\r\n",
      "    Found existing installation: importlib-metadata 1.5.0\r\n",
      "    Uninstalling importlib-metadata-1.5.0:\r\n",
      "      Successfully uninstalled importlib-metadata-1.5.0\r\n",
      "Successfully installed absl-py-1.0.0 astunparse-1.6.3 cachetools-5.0.0 flatbuffers-2.0 gast-0.5.3 google-auth-2.6.0 google-auth-oauthlib-0.4.6 google-pasta-0.2.0 grpcio-1.43.0 importlib-metadata-4.10.1 keras-2.8.0 keras-preprocessing-1.1.2 libclang-13.0.0 markdown-3.3.6 numpy-1.21.5 oauthlib-3.2.0 opt-einsum-3.3.0 protobuf-3.19.4 pyasn1-0.4.8 pyasn1-modules-0.2.8 requests-oauthlib-1.3.1 rsa-4.8 tensorboard-2.8.0 tensorboard-data-server-0.6.1 tensorboard-plugin-wit-1.8.1 tensorflow-2.8.0 tensorflow-io-gcs-filesystem-0.24.0 termcolor-1.1.0 tf-estimator-nightly-2.8.0.dev2021122109\r\n"
     ]
    }
   ],
   "source": [
    "!pip install tensorflow"
   ],
   "metadata": {
    "collapsed": false,
    "pycharm": {
     "name": "#%%\n"
    }
   }
  },
  {
   "cell_type": "code",
   "execution_count": 2,
   "outputs": [],
   "source": [
    "def encapsule(df):\n",
    "    display(df.head(5))\n",
    "    print( f'shape of df = {df.shape}' )\n",
    "    return df"
   ],
   "metadata": {
    "collapsed": false,
    "pycharm": {
     "name": "#%%\n"
    }
   }
  },
  {
   "cell_type": "code",
   "execution_count": 98,
   "outputs": [],
   "source": [
    "def tran(x):\n",
    "    y = x[1:-1]\n",
    "    return y.split(',')\n",
    "\n",
    "def data_wrangle( df ):\n",
    "    sample = df[['timestamp','raw_sensor_data']];\n",
    "    sample['parameters'] = sample.raw_sensor_data.apply(tran);\n",
    "    main = pd.DataFrame( sample.parameters.to_list() , columns = ['v1','v2','v3','v4','v5','v6','v7','v8','v9','v10','v11'] );\n",
    "    main['timestamp'] = sample['timestamp'];\n",
    "    main.drop( 'v1' , axis = 1 , inplace = True );\n",
    "    main.set_index('timestamp' , inplace=True);\n",
    "    return main;\n",
    "\n",
    "\n",
    "\n"
   ],
   "metadata": {
    "collapsed": false,
    "pycharm": {
     "name": "#%%\n"
    }
   }
  },
  {
   "cell_type": "code",
   "execution_count": 100,
   "outputs": [],
   "source": [
    "def create_segments_and_labels(df, time_steps, step):\n",
    "\n",
    "    # x, y, z acceleration as features\n",
    "    N_FEATURES = 10\n",
    "    # Number of steps to advance in each iteration (for me, it should always\n",
    "    # be equal to the time_steps in order to have no overlap between segments)\n",
    "    # step = time_steps\n",
    "    segments = []\n",
    "    labels = []\n",
    "    for i in range(0, len(df) - time_steps, step):\n",
    "        xs = df['v3'].values[i: i + time_steps]\n",
    "        ys = df['v4'].values[i: i + time_steps]\n",
    "        zs = df['v5'].values[i: i + time_steps]\n",
    "        angle = df['v2'].values[i: i + time_steps]\n",
    "        u5 = df['v6'].values[i: i + time_steps]\n",
    "        u6= df['v7'].values[i: i + time_steps]\n",
    "        u7= df['v8'].values[i: i + time_steps]\n",
    "        u8= df['v9'].values[i: i + time_steps]\n",
    "        u9= df['v10'].values[i: i + time_steps]\n",
    "        u10= df['v11'].values[i: i + time_steps]\n",
    "        # Retrieve the most often used label in this segment\n",
    "        segments.append([xs, ys, zs,angle,u5,u6,u7,u8,u9,u10 ])\n",
    "\n",
    "    # Bring the segments into a better shape\n",
    "    reshaped_segments = np.asarray(segments, dtype= np.float32).reshape(-1, time_steps, N_FEATURES)\n",
    "\n",
    "    return reshaped_segments"
   ],
   "metadata": {
    "collapsed": false,
    "pycharm": {
     "name": "#%%\n"
    }
   }
  },
  {
   "cell_type": "code",
   "execution_count": 91,
   "outputs": [
    {
     "data": {
      "text/plain": "      id                   user_id             email_id  \\\n0  27967  61f87f357d6217b5ed17047d  imove.mrt@gmail.com   \n1  27968  61f87f357d6217b5ed17047d  imove.mrt@gmail.com   \n2  27969  61f87f357d6217b5ed17047d  imove.mrt@gmail.com   \n3  27970  61f87f357d6217b5ed17047d  imove.mrt@gmail.com   \n4  27971  61f87f357d6217b5ed17047d  imove.mrt@gmail.com   \n\n                                     raw_sensor_data predicted_activity  \\\n0  [4866.386144,14.911036744980214,2.48,0.28,-9.5...                sit   \n1  [4867.311019,14.911036744980214,2.47,0.27,-9.5...                sit   \n2  [4867.897186,14.911036744980214,2.5,0.24,-9.52...                sit   \n3  [4868.430045,14.911036744980214,2.48,0.26,-9.5...                sit   \n4  [4869.016053,14.911036744980214,2.46,0.26,-9.5...                sit   \n\n   actual_activity                 timestamp                 createdAt  \\\n0              NaN  2022-02-02T16:13:39.218Z  2022-02-03T03:14:27.006Z   \n1              NaN  2022-02-02T16:13:40.143Z  2022-02-03T03:14:27.006Z   \n2              NaN  2022-02-02T16:13:40.729Z  2022-02-03T03:14:27.006Z   \n3              NaN  2022-02-02T16:13:41.262Z  2022-02-03T03:14:27.006Z   \n4              NaN  2022-02-02T16:13:41.848Z  2022-02-03T03:14:27.006Z   \n\n                  updatedAt  \n0  2022-02-03T03:14:27.006Z  \n1  2022-02-03T03:14:27.006Z  \n2  2022-02-03T03:14:27.006Z  \n3  2022-02-03T03:14:27.006Z  \n4  2022-02-03T03:14:27.006Z  ",
      "text/html": "<div>\n<style scoped>\n    .dataframe tbody tr th:only-of-type {\n        vertical-align: middle;\n    }\n\n    .dataframe tbody tr th {\n        vertical-align: top;\n    }\n\n    .dataframe thead th {\n        text-align: right;\n    }\n</style>\n<table border=\"1\" class=\"dataframe\">\n  <thead>\n    <tr style=\"text-align: right;\">\n      <th></th>\n      <th>id</th>\n      <th>user_id</th>\n      <th>email_id</th>\n      <th>raw_sensor_data</th>\n      <th>predicted_activity</th>\n      <th>actual_activity</th>\n      <th>timestamp</th>\n      <th>createdAt</th>\n      <th>updatedAt</th>\n    </tr>\n  </thead>\n  <tbody>\n    <tr>\n      <th>0</th>\n      <td>27967</td>\n      <td>61f87f357d6217b5ed17047d</td>\n      <td>imove.mrt@gmail.com</td>\n      <td>[4866.386144,14.911036744980214,2.48,0.28,-9.5...</td>\n      <td>sit</td>\n      <td>NaN</td>\n      <td>2022-02-02T16:13:39.218Z</td>\n      <td>2022-02-03T03:14:27.006Z</td>\n      <td>2022-02-03T03:14:27.006Z</td>\n    </tr>\n    <tr>\n      <th>1</th>\n      <td>27968</td>\n      <td>61f87f357d6217b5ed17047d</td>\n      <td>imove.mrt@gmail.com</td>\n      <td>[4867.311019,14.911036744980214,2.47,0.27,-9.5...</td>\n      <td>sit</td>\n      <td>NaN</td>\n      <td>2022-02-02T16:13:40.143Z</td>\n      <td>2022-02-03T03:14:27.006Z</td>\n      <td>2022-02-03T03:14:27.006Z</td>\n    </tr>\n    <tr>\n      <th>2</th>\n      <td>27969</td>\n      <td>61f87f357d6217b5ed17047d</td>\n      <td>imove.mrt@gmail.com</td>\n      <td>[4867.897186,14.911036744980214,2.5,0.24,-9.52...</td>\n      <td>sit</td>\n      <td>NaN</td>\n      <td>2022-02-02T16:13:40.729Z</td>\n      <td>2022-02-03T03:14:27.006Z</td>\n      <td>2022-02-03T03:14:27.006Z</td>\n    </tr>\n    <tr>\n      <th>3</th>\n      <td>27970</td>\n      <td>61f87f357d6217b5ed17047d</td>\n      <td>imove.mrt@gmail.com</td>\n      <td>[4868.430045,14.911036744980214,2.48,0.26,-9.5...</td>\n      <td>sit</td>\n      <td>NaN</td>\n      <td>2022-02-02T16:13:41.262Z</td>\n      <td>2022-02-03T03:14:27.006Z</td>\n      <td>2022-02-03T03:14:27.006Z</td>\n    </tr>\n    <tr>\n      <th>4</th>\n      <td>27971</td>\n      <td>61f87f357d6217b5ed17047d</td>\n      <td>imove.mrt@gmail.com</td>\n      <td>[4869.016053,14.911036744980214,2.46,0.26,-9.5...</td>\n      <td>sit</td>\n      <td>NaN</td>\n      <td>2022-02-02T16:13:41.848Z</td>\n      <td>2022-02-03T03:14:27.006Z</td>\n      <td>2022-02-03T03:14:27.006Z</td>\n    </tr>\n  </tbody>\n</table>\n</div>"
     },
     "metadata": {},
     "output_type": "display_data"
    },
    {
     "name": "stdout",
     "output_type": "stream",
     "text": [
      "shape of df = (5000, 9)\n"
     ]
    }
   ],
   "source": [
    "sample = encapsule(pd.read_csv('/Users/arvindchandrasekarreddy/Desktop/PythonProjects/Sord_analysis/csv_vrLLZ7HWebhLTWbGEf0R.csv'))"
   ],
   "metadata": {
    "collapsed": false,
    "pycharm": {
     "name": "#%%\n"
    }
   }
  },
  {
   "cell_type": "code",
   "execution_count": 99,
   "outputs": [
    {
     "data": {
      "text/plain": "                                          v2    v3    v4     v5       v6  \\\ntimestamp                                                                  \n2022-02-02T16:13:39.218Z  14.911036744980214  2.48  0.28  -9.52  -0.0625   \n2022-02-02T16:13:40.143Z  14.911036744980214  2.47  0.27  -9.51    0.125   \n2022-02-02T16:13:40.729Z  14.911036744980214   2.5  0.24  -9.52  -0.1875   \n2022-02-02T16:13:41.262Z  14.911036744980214  2.48  0.26  -9.52        0   \n2022-02-02T16:13:41.848Z  14.911036744980214  2.46  0.26  -9.55  -0.1875   \n\n                               v7      v8       v9      v10       v11  \ntimestamp                                                              \n2022-02-02T16:13:39.218Z  -0.0625  -0.125  21.0625   22.375  -40.6875  \n2022-02-02T16:13:40.143Z   -0.125   0.125  20.6875       22   -39.375  \n2022-02-02T16:13:40.729Z  -0.1875   0.125   20.375  21.5625  -40.1875  \n2022-02-02T16:13:41.262Z    0.125  -0.125  21.0625  22.6875  -40.5625  \n2022-02-02T16:13:41.848Z  -0.1875   -0.25  20.6875   22.375  -40.1875  ",
      "text/html": "<div>\n<style scoped>\n    .dataframe tbody tr th:only-of-type {\n        vertical-align: middle;\n    }\n\n    .dataframe tbody tr th {\n        vertical-align: top;\n    }\n\n    .dataframe thead th {\n        text-align: right;\n    }\n</style>\n<table border=\"1\" class=\"dataframe\">\n  <thead>\n    <tr style=\"text-align: right;\">\n      <th></th>\n      <th>v2</th>\n      <th>v3</th>\n      <th>v4</th>\n      <th>v5</th>\n      <th>v6</th>\n      <th>v7</th>\n      <th>v8</th>\n      <th>v9</th>\n      <th>v10</th>\n      <th>v11</th>\n    </tr>\n    <tr>\n      <th>timestamp</th>\n      <th></th>\n      <th></th>\n      <th></th>\n      <th></th>\n      <th></th>\n      <th></th>\n      <th></th>\n      <th></th>\n      <th></th>\n      <th></th>\n    </tr>\n  </thead>\n  <tbody>\n    <tr>\n      <th>2022-02-02T16:13:39.218Z</th>\n      <td>14.911036744980214</td>\n      <td>2.48</td>\n      <td>0.28</td>\n      <td>-9.52</td>\n      <td>-0.0625</td>\n      <td>-0.0625</td>\n      <td>-0.125</td>\n      <td>21.0625</td>\n      <td>22.375</td>\n      <td>-40.6875</td>\n    </tr>\n    <tr>\n      <th>2022-02-02T16:13:40.143Z</th>\n      <td>14.911036744980214</td>\n      <td>2.47</td>\n      <td>0.27</td>\n      <td>-9.51</td>\n      <td>0.125</td>\n      <td>-0.125</td>\n      <td>0.125</td>\n      <td>20.6875</td>\n      <td>22</td>\n      <td>-39.375</td>\n    </tr>\n    <tr>\n      <th>2022-02-02T16:13:40.729Z</th>\n      <td>14.911036744980214</td>\n      <td>2.5</td>\n      <td>0.24</td>\n      <td>-9.52</td>\n      <td>-0.1875</td>\n      <td>-0.1875</td>\n      <td>0.125</td>\n      <td>20.375</td>\n      <td>21.5625</td>\n      <td>-40.1875</td>\n    </tr>\n    <tr>\n      <th>2022-02-02T16:13:41.262Z</th>\n      <td>14.911036744980214</td>\n      <td>2.48</td>\n      <td>0.26</td>\n      <td>-9.52</td>\n      <td>0</td>\n      <td>0.125</td>\n      <td>-0.125</td>\n      <td>21.0625</td>\n      <td>22.6875</td>\n      <td>-40.5625</td>\n    </tr>\n    <tr>\n      <th>2022-02-02T16:13:41.848Z</th>\n      <td>14.911036744980214</td>\n      <td>2.46</td>\n      <td>0.26</td>\n      <td>-9.55</td>\n      <td>-0.1875</td>\n      <td>-0.1875</td>\n      <td>-0.25</td>\n      <td>20.6875</td>\n      <td>22.375</td>\n      <td>-40.1875</td>\n    </tr>\n  </tbody>\n</table>\n</div>"
     },
     "metadata": {},
     "output_type": "display_data"
    },
    {
     "name": "stdout",
     "output_type": "stream",
     "text": [
      "shape of df = (5000, 10)\n"
     ]
    }
   ],
   "source": [
    "main = encapsule(data_wrangle(sample));\n"
   ],
   "metadata": {
    "collapsed": false,
    "pycharm": {
     "name": "#%%\n"
    }
   }
  },
  {
   "cell_type": "markdown",
   "source": [],
   "metadata": {
    "collapsed": false
   }
  },
  {
   "cell_type": "markdown",
   "source": [],
   "metadata": {
    "collapsed": false,
    "pycharm": {
     "name": "#%% md\n"
    }
   }
  },
  {
   "cell_type": "code",
   "execution_count": 101,
   "outputs": [
    {
     "data": {
      "text/plain": "array([[[  2.48  ,   2.47  ,   2.5   , ...,   2.35  ,   2.48  ,\n           2.49  ],\n        [  2.45  ,   2.41  ,   2.34  , ...,   2.35  ,   2.38  ,\n           2.36  ],\n        [  2.38  ,   2.34  ,   2.36  , ...,   2.41  ,   2.36  ,\n           2.37  ],\n        ...,\n        [-40.6875, -40.6875, -39.375 , ..., -41.    , -41.5   ,\n         -41.    ],\n        [-41.5   , -41.875 , -40.1875, ..., -40.6875, -41.5   ,\n         -40.6875],\n        [-41.5   , -41.    , -40.1875, ..., -40.6875, -40.1875,\n         -40.1875]],\n\n       [[  2.47  ,   2.5   ,   2.48  , ...,   2.48  ,   2.49  ,\n           2.45  ],\n        [  2.41  ,   2.34  ,   2.39  , ...,   2.38  ,   2.36  ,\n           2.38  ],\n        [  2.34  ,   2.36  ,   2.4   , ...,   2.36  ,   2.37  ,\n           2.37  ],\n        ...,\n        [-40.6875, -39.375 , -41.5   , ..., -41.5   , -41.    ,\n         -41.5   ],\n        [-41.875 , -40.1875, -40.6875, ..., -41.5   , -40.6875,\n         -41.5   ],\n        [-41.    , -40.1875, -40.5625, ..., -40.1875, -40.1875,\n         -40.6875]],\n\n       [[  2.5   ,   2.48  ,   2.46  , ...,   2.49  ,   2.45  ,\n           2.41  ],\n        [  2.34  ,   2.39  ,   2.37  , ...,   2.36  ,   2.38  ,\n           2.34  ],\n        [  2.36  ,   2.4   ,   2.37  , ...,   2.37  ,   2.37  ,\n           2.39  ],\n        ...,\n        [-39.375 , -41.5   , -41.    , ..., -41.    , -41.5   ,\n         -41.875 ],\n        [-40.1875, -40.6875, -41.5   , ..., -40.6875, -41.5   ,\n         -41.    ],\n        [-40.1875, -40.5625, -41.    , ..., -40.1875, -40.6875,\n         -40.1875]],\n\n       ...,\n\n       [[ -0.92  ,  -0.91  ,  -0.91  , ...,  -0.9   ,  -0.91  ,\n          -0.91  ],\n        [ -0.91  ,  -0.9   ,  -0.91  , ...,  -0.91  ,  -0.89  ,\n          -0.9   ],\n        [ -0.91  ,  -0.92  ,  -0.9   , ...,  -0.91  ,  -0.95  ,\n          -0.92  ],\n        ...,\n        [-40.5   , -40.    , -42.0625, ..., -41.6875, -41.25  ,\n         -42.5   ],\n        [-40.875 , -40.875 , -41.25  , ..., -40.875 , -41.25  ,\n         -41.25  ],\n        [-40.875 , -40.875 , -40.875 , ..., -40.    , -39.6875,\n         -41.25  ]],\n\n       [[ -0.91  ,  -0.91  ,  -0.91  , ...,  -0.91  ,  -0.91  ,\n          -0.91  ],\n        [ -0.9   ,  -0.91  ,  -0.93  , ...,  -0.89  ,  -0.9   ,\n          -0.91  ],\n        [ -0.92  ,  -0.9   ,  -0.9   , ...,  -0.95  ,  -0.92  ,\n          -1.01  ],\n        ...,\n        [-40.    , -42.0625, -42.0625, ..., -41.25  , -42.5   ,\n         -40.875 ],\n        [-40.875 , -41.25  , -40.875 , ..., -41.25  , -41.25  ,\n         -40.875 ],\n        [-40.875 , -40.875 , -41.6875, ..., -39.6875, -41.25  ,\n         -41.25  ]],\n\n       [[ -0.91  ,  -0.91  ,  -0.92  , ...,  -0.91  ,  -0.91  ,\n          -0.9   ],\n        [ -0.91  ,  -0.93  ,  -0.9   , ...,  -0.9   ,  -0.91  ,\n          -0.92  ],\n        [ -0.9   ,  -0.9   ,  -0.91  , ...,  -0.92  ,  -1.01  ,\n          -0.74  ],\n        ...,\n        [-42.0625, -42.0625, -41.25  , ..., -42.5   , -40.875 ,\n         -40.875 ],\n        [-41.25  , -40.875 , -40.5   , ..., -41.25  , -40.875 ,\n         -40.875 ],\n        [-40.875 , -41.6875, -41.25  , ..., -41.25  , -41.25  ,\n         -40.    ]]], dtype=float32)"
     },
     "execution_count": 101,
     "metadata": {},
     "output_type": "execute_result"
    }
   ],
   "source": [
    "create_segments_and_labels(main,35,1)"
   ],
   "metadata": {
    "collapsed": false,
    "pycharm": {
     "name": "#%%\n"
    }
   }
  },
  {
   "cell_type": "code",
   "execution_count": null,
   "outputs": [],
   "source": [],
   "metadata": {
    "collapsed": false,
    "pycharm": {
     "name": "#%%\n"
    }
   }
  }
 ],
 "metadata": {
  "kernelspec": {
   "display_name": "Python 3",
   "language": "python",
   "name": "python3"
  },
  "language_info": {
   "codemirror_mode": {
    "name": "ipython",
    "version": 2
   },
   "file_extension": ".py",
   "mimetype": "text/x-python",
   "name": "python",
   "nbconvert_exporter": "python",
   "pygments_lexer": "ipython2",
   "version": "2.7.6"
  }
 },
 "nbformat": 4,
 "nbformat_minor": 0
}