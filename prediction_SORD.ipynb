{
 "cells": [
  {
   "cell_type": "raw",
   "metadata": {
    "collapsed": true,
    "pycharm": {
     "name": "#%% raw\n"
    }
   },
   "source": [
    "global model_m = .load(file)\n",
    "\n",
    "\n",
    "\n",
    "\n",
    "Predict_a_block(block-of-data):\n",
    "\n",
    "current_activity = nil\n",
    "\n",
    "from os import nice\n",
    "\n",
    "from = starttime (from the data)\n",
    "\n",
    "timewindow array = [ from, to, activity]\n",
    "\n",
    "\n",
    "\n",
    "for: how many sliding windows of 35 in the block-of-data -- len(b)\n",
    "\n",
    "slice = window\n",
    "\n",
    "prediction = model_m.predict(slice)\n",
    "\n",
    "if (prediction != current_activity):\n",
    "\n",
    "if (current_activity != nil):\n",
    "\n",
    "add to the timewindow array (from , currentime, current_activity)\n",
    "\n",
    "set current_activity = prediction\n",
    "\n",
    "set from: currenttime\n",
    "\n",
    "\n",
    "\n",
    "return the window array\n",
    "\n",
    "[\n",
    "\n",
    "    {from , to , sit},\n",
    "\n",
    "{from, to, walk},\n",
    "\n",
    "{....}\n",
    "\n",
    "]"
   ]
  },
  {
   "cell_type": "code",
   "execution_count": 106,
   "outputs": [],
   "source": [
    "import pandas as pd\n",
    "from scipy import stats\n",
    "import numpy as np\n",
    "import warnings\n",
    "warnings.filterwarnings(\"ignore\")\n",
    "\n"
   ],
   "metadata": {
    "collapsed": false,
    "pycharm": {
     "name": "#%%\n"
    }
   }
  },
  {
   "cell_type": "code",
   "execution_count": 104,
   "outputs": [
    {
     "name": "stdout",
     "output_type": "stream",
     "text": [
      "Collecting tensorflow\r\n",
      "  Downloading tensorflow-2.8.0-cp37-cp37m-macosx_10_14_x86_64.whl (217.4 MB)\r\n",
      "\u001B[K     |████████████████████████████████| 217.4 MB 848 bytes/s a 0:00:01  |█▎                              | 8.6 MB 5.7 MB/s eta 0:00:37     |██▋                             | 18.0 MB 6.1 MB/s eta 0:00:33     |███                             | 19.8 MB 6.1 MB/s eta 0:00:33     |██████████▍                     | 70.8 MB 6.5 MB/s eta 0:00:23ta 0:00:23     |████████████                    | 81.0 MB 6.1 MB/s eta 0:00:23     |████████████                    | 81.3 MB 6.1 MB/s eta 0:00:23��████████▊                  | 93.3 MB 25.2 MB/s eta 0:00:05     |██████████████                  | 95.1 MB 25.2 MB/s eta 0:00:05     |███████████████████████████▏    | 184.8 MB 9.1 MB/s eta 0:00:04 0:00:04     |████████████████████████████▎   | 192.1 MB 668 kB/s eta 0:00:38     |█████████████████████████████   | 197.6 MB 454 kB/s eta 0:00:44     |█████████████████████████████▋  | 201.5 MB 6.5 MB/s eta 0:00:03     |███████████████████████████████▏| 211.8 MB 4.1 MB/s eta 0:00:02�███████████▏| 211.9 MB 4.1 MB/s eta 0:00:02\r\n",
      "\u001B[?25hCollecting absl-py>=0.4.0\r\n",
      "  Downloading absl_py-1.0.0-py3-none-any.whl (126 kB)\r\n",
      "\u001B[K     |████████████████████████████████| 126 kB 7.4 MB/s eta 0:00:01\r\n",
      "\u001B[?25hRequirement already satisfied: typing-extensions>=3.6.6 in /Users/arvindchandrasekarreddy/opt/anaconda3/lib/python3.7/site-packages (from tensorflow) (3.10.0.0)\r\n",
      "Collecting protobuf>=3.9.2\r\n",
      "  Downloading protobuf-3.19.4-cp37-cp37m-macosx_10_9_x86_64.whl (960 kB)\r\n",
      "\u001B[K     |████████████████████████████████| 960 kB 7.3 MB/s eta 0:00:01\r\n",
      "\u001B[?25hCollecting opt-einsum>=2.3.2\r\n",
      "  Downloading opt_einsum-3.3.0-py3-none-any.whl (65 kB)\r\n",
      "\u001B[K     |████████████████████████████████| 65 kB 4.2 MB/s eta 0:00:011\r\n",
      "\u001B[?25hCollecting libclang>=9.0.1\r\n",
      "  Downloading libclang-13.0.0-py2.py3-none-macosx_10_9_x86_64.whl (13.0 MB)\r\n",
      "\u001B[K     |████████████████████████████████| 13.0 MB 690 kB/s eta 0:00:01\r\n",
      "\u001B[?25hCollecting termcolor>=1.1.0\r\n",
      "  Downloading termcolor-1.1.0.tar.gz (3.9 kB)\r\n",
      "Collecting numpy>=1.20\r\n",
      "  Downloading numpy-1.21.5-cp37-cp37m-macosx_10_9_x86_64.whl (16.9 MB)\r\n",
      "\u001B[K     |████████████████████████████████| 16.9 MB 8.0 MB/s eta 0:00:01\r\n",
      "\u001B[?25hCollecting keras<2.9,>=2.8.0rc0\r\n",
      "  Downloading keras-2.8.0-py2.py3-none-any.whl (1.4 MB)\r\n",
      "\u001B[K     |████████████████████████████████| 1.4 MB 7.4 MB/s eta 0:00:01\r\n",
      "\u001B[?25hCollecting tensorflow-io-gcs-filesystem>=0.23.1\r\n",
      "  Downloading tensorflow_io_gcs_filesystem-0.24.0-cp37-cp37m-macosx_10_14_x86_64.whl (1.6 MB)\r\n",
      "\u001B[K     |████████████████████████████████| 1.6 MB 6.6 MB/s eta 0:00:01\r\n",
      "\u001B[?25hCollecting grpcio<2.0,>=1.24.3\r\n",
      "  Downloading grpcio-1.43.0-cp37-cp37m-macosx_10_10_x86_64.whl (4.1 MB)\r\n",
      "\u001B[K     |████████████████████████████████| 4.1 MB 4.7 MB/s eta 0:00:01\r\n",
      "\u001B[?25hRequirement already satisfied: setuptools in /Users/arvindchandrasekarreddy/opt/anaconda3/lib/python3.7/site-packages (from tensorflow) (41.0.1)\r\n",
      "Requirement already satisfied: six>=1.12.0 in /Users/arvindchandrasekarreddy/opt/anaconda3/lib/python3.7/site-packages (from tensorflow) (1.15.0)\r\n",
      "Collecting gast>=0.2.1\r\n",
      "  Downloading gast-0.5.3-py3-none-any.whl (19 kB)\r\n",
      "Requirement already satisfied: wrapt>=1.11.0 in /Users/arvindchandrasekarreddy/opt/anaconda3/lib/python3.7/site-packages (from tensorflow) (1.11.2)\r\n",
      "Collecting astunparse>=1.6.0\r\n",
      "  Downloading astunparse-1.6.3-py2.py3-none-any.whl (12 kB)\r\n",
      "Collecting flatbuffers>=1.12\r\n",
      "  Downloading flatbuffers-2.0-py2.py3-none-any.whl (26 kB)\r\n",
      "Collecting google-pasta>=0.1.1\r\n",
      "  Downloading google_pasta-0.2.0-py3-none-any.whl (57 kB)\r\n",
      "\u001B[K     |████████████████████████████████| 57 kB 4.9 MB/s eta 0:00:011\r\n",
      "\u001B[?25hRequirement already satisfied: h5py>=2.9.0 in /Users/arvindchandrasekarreddy/opt/anaconda3/lib/python3.7/site-packages (from tensorflow) (2.10.0)\r\n",
      "Collecting tf-estimator-nightly==2.8.0.dev2021122109\r\n",
      "  Downloading tf_estimator_nightly-2.8.0.dev2021122109-py2.py3-none-any.whl (462 kB)\r\n",
      "\u001B[K     |████████████████████████████████| 462 kB 6.2 MB/s eta 0:00:01\r\n",
      "\u001B[?25hCollecting keras-preprocessing>=1.1.1\r\n",
      "  Downloading Keras_Preprocessing-1.1.2-py2.py3-none-any.whl (42 kB)\r\n",
      "\u001B[K     |████████████████████████████████| 42 kB 595 kB/s eta 0:00:01\r\n",
      "\u001B[?25hCollecting tensorboard<2.9,>=2.8\r\n",
      "  Downloading tensorboard-2.8.0-py3-none-any.whl (5.8 MB)\r\n",
      "\u001B[K     |████████████████████████████████| 5.8 MB 8.3 MB/s eta 0:00:01\r\n",
      "\u001B[?25hRequirement already satisfied: wheel<1.0,>=0.23.0 in /Users/arvindchandrasekarreddy/opt/anaconda3/lib/python3.7/site-packages (from astunparse>=1.6.0->tensorflow) (0.34.2)\r\n",
      "Collecting tensorboard-data-server<0.7.0,>=0.6.0\r\n",
      "  Downloading tensorboard_data_server-0.6.1-py3-none-macosx_10_9_x86_64.whl (3.5 MB)\r\n",
      "\u001B[K     |████████████████████████████████| 3.5 MB 6.0 MB/s eta 0:00:01\r\n",
      "\u001B[?25hCollecting google-auth<3,>=1.6.3\r\n",
      "  Downloading google_auth-2.6.0-py2.py3-none-any.whl (156 kB)\r\n",
      "\u001B[K     |████████████████████████████████| 156 kB 6.3 MB/s eta 0:00:01\r\n",
      "\u001B[?25hCollecting tensorboard-plugin-wit>=1.6.0\r\n",
      "  Downloading tensorboard_plugin_wit-1.8.1-py3-none-any.whl (781 kB)\r\n",
      "\u001B[K     |████████████████████████████████| 781 kB 5.5 MB/s eta 0:00:01\r\n",
      "\u001B[?25hRequirement already satisfied: requests<3,>=2.21.0 in /Users/arvindchandrasekarreddy/opt/anaconda3/lib/python3.7/site-packages (from tensorboard<2.9,>=2.8->tensorflow) (2.25.1)\r\n",
      "Collecting google-auth-oauthlib<0.5,>=0.4.1\r\n",
      "  Downloading google_auth_oauthlib-0.4.6-py2.py3-none-any.whl (18 kB)\r\n",
      "Collecting markdown>=2.6.8\r\n",
      "  Downloading Markdown-3.3.6-py3-none-any.whl (97 kB)\r\n",
      "\u001B[K     |████████████████████████████████| 97 kB 5.3 MB/s eta 0:00:01\r\n",
      "\u001B[?25hRequirement already satisfied: werkzeug>=0.11.15 in /Users/arvindchandrasekarreddy/opt/anaconda3/lib/python3.7/site-packages (from tensorboard<2.9,>=2.8->tensorflow) (1.0.0)\r\n",
      "Collecting cachetools<6.0,>=2.0.0\r\n",
      "  Downloading cachetools-5.0.0-py3-none-any.whl (9.1 kB)\r\n",
      "Collecting rsa<5,>=3.1.4; python_version >= \"3.6\"\r\n",
      "  Downloading rsa-4.8-py3-none-any.whl (39 kB)\r\n",
      "Collecting pyasn1-modules>=0.2.1\r\n",
      "  Downloading pyasn1_modules-0.2.8-py2.py3-none-any.whl (155 kB)\r\n",
      "\u001B[K     |████████████████████████████████| 155 kB 8.0 MB/s eta 0:00:01\r\n",
      "\u001B[?25hRequirement already satisfied: certifi>=2017.4.17 in /Users/arvindchandrasekarreddy/opt/anaconda3/lib/python3.7/site-packages (from requests<3,>=2.21.0->tensorboard<2.9,>=2.8->tensorflow) (2019.11.28)\r\n",
      "Requirement already satisfied: urllib3<1.27,>=1.21.1 in /Users/arvindchandrasekarreddy/opt/anaconda3/lib/python3.7/site-packages (from requests<3,>=2.21.0->tensorboard<2.9,>=2.8->tensorflow) (1.25.8)\r\n",
      "Requirement already satisfied: chardet<5,>=3.0.2 in /Users/arvindchandrasekarreddy/opt/anaconda3/lib/python3.7/site-packages (from requests<3,>=2.21.0->tensorboard<2.9,>=2.8->tensorflow) (3.0.4)\r\n",
      "Requirement already satisfied: idna<3,>=2.5 in /Users/arvindchandrasekarreddy/opt/anaconda3/lib/python3.7/site-packages (from requests<3,>=2.21.0->tensorboard<2.9,>=2.8->tensorflow) (2.8)\r\n",
      "Collecting requests-oauthlib>=0.7.0\r\n",
      "  Downloading requests_oauthlib-1.3.1-py2.py3-none-any.whl (23 kB)\r\n",
      "Collecting importlib-metadata>=4.4; python_version < \"3.10\"\r\n",
      "  Downloading importlib_metadata-4.10.1-py3-none-any.whl (17 kB)\r\n",
      "Collecting pyasn1>=0.1.3\r\n",
      "  Downloading pyasn1-0.4.8-py2.py3-none-any.whl (77 kB)\r\n",
      "\u001B[K     |████████████████████████████████| 77 kB 3.9 MB/s eta 0:00:01\r\n",
      "\u001B[?25hCollecting oauthlib>=3.0.0\r\n",
      "  Downloading oauthlib-3.2.0-py3-none-any.whl (151 kB)\r\n",
      "\u001B[K     |████████████████████████████████| 151 kB 6.8 MB/s eta 0:00:01\r\n",
      "\u001B[?25hRequirement already satisfied: zipp>=0.5 in /Users/arvindchandrasekarreddy/opt/anaconda3/lib/python3.7/site-packages (from importlib-metadata>=4.4; python_version < \"3.10\"->markdown>=2.6.8->tensorboard<2.9,>=2.8->tensorflow) (2.2.0)\r\n",
      "Building wheels for collected packages: termcolor\r\n",
      "  Building wheel for termcolor (setup.py) ... \u001B[?25ldone\r\n",
      "\u001B[?25h  Created wheel for termcolor: filename=termcolor-1.1.0-py3-none-any.whl size=4830 sha256=4a6fe0cdcd7497233a1ee5b47b373e3fdd2f295e219b9c4e7f74919769edea0c\r\n",
      "  Stored in directory: /Users/arvindchandrasekarreddy/Library/Caches/pip/wheels/3f/e3/ec/8a8336ff196023622fbcb36de0c5a5c218cbb24111d1d4c7f2\r\n",
      "Successfully built termcolor\r\n",
      "\u001B[31mERROR: pytest-astropy 0.8.0 requires pytest-cov>=2.0, which is not installed.\u001B[0m\r\n",
      "\u001B[31mERROR: pytest-astropy 0.8.0 requires pytest-filter-subpackage>=0.1, which is not installed.\u001B[0m\r\n",
      "Installing collected packages: absl-py, protobuf, numpy, opt-einsum, libclang, termcolor, keras, tensorflow-io-gcs-filesystem, grpcio, gast, astunparse, flatbuffers, google-pasta, tf-estimator-nightly, keras-preprocessing, tensorboard-data-server, cachetools, pyasn1, rsa, pyasn1-modules, google-auth, tensorboard-plugin-wit, oauthlib, requests-oauthlib, google-auth-oauthlib, importlib-metadata, markdown, tensorboard, tensorflow\r\n",
      "  Attempting uninstall: numpy\r\n",
      "    Found existing installation: numpy 1.19.1\r\n",
      "    Uninstalling numpy-1.19.1:\r\n",
      "      Successfully uninstalled numpy-1.19.1\r\n",
      "  Attempting uninstall: importlib-metadata\r\n",
      "    Found existing installation: importlib-metadata 1.5.0\r\n",
      "    Uninstalling importlib-metadata-1.5.0:\r\n",
      "      Successfully uninstalled importlib-metadata-1.5.0\r\n",
      "Successfully installed absl-py-1.0.0 astunparse-1.6.3 cachetools-5.0.0 flatbuffers-2.0 gast-0.5.3 google-auth-2.6.0 google-auth-oauthlib-0.4.6 google-pasta-0.2.0 grpcio-1.43.0 importlib-metadata-4.10.1 keras-2.8.0 keras-preprocessing-1.1.2 libclang-13.0.0 markdown-3.3.6 numpy-1.21.5 oauthlib-3.2.0 opt-einsum-3.3.0 protobuf-3.19.4 pyasn1-0.4.8 pyasn1-modules-0.2.8 requests-oauthlib-1.3.1 rsa-4.8 tensorboard-2.8.0 tensorboard-data-server-0.6.1 tensorboard-plugin-wit-1.8.1 tensorflow-2.8.0 tensorflow-io-gcs-filesystem-0.24.0 termcolor-1.1.0 tf-estimator-nightly-2.8.0.dev2021122109\r\n"
     ]
    }
   ],
   "source": [
    "!pip install tensorflow"
   ],
   "metadata": {
    "collapsed": false,
    "pycharm": {
     "name": "#%%\n"
    }
   }
  },
  {
   "cell_type": "code",
   "execution_count": 2,
   "outputs": [],
   "source": [
    "def encapsule(df):\n",
    "    display(df.head(5))\n",
    "    print( f'shape of df = {df.shape}' )\n",
    "    return df"
   ],
   "metadata": {
    "collapsed": false,
    "pycharm": {
     "name": "#%%\n"
    }
   }
  },
  {
   "cell_type": "code",
   "execution_count": 98,
   "outputs": [],
   "source": [
    "def tran(x):\n",
    "    y = x[1:-1]\n",
    "    return y.split(',')\n",
    "\n",
    "def data_wrangle( df ):\n",
    "    sample = df[['timestamp','raw_sensor_data']];\n",
    "    sample['parameters'] = sample.raw_sensor_data.apply(tran);\n",
    "    main = pd.DataFrame( sample.parameters.to_list() , columns = ['v1','v2','v3','v4','v5','v6','v7','v8','v9','v10','v11'] );\n",
    "    main['timestamp'] = sample['timestamp'];\n",
    "    main.drop( 'v1' , axis = 1 , inplace = True );\n",
    "    main.set_index('timestamp' , inplace=True);\n",
    "    return main;\n",
    "\n",
    "\n",
    "\n"
   ],
   "metadata": {
    "collapsed": false,
    "pycharm": {
     "name": "#%%\n"
    }
   }
  },
  {
   "cell_type": "code",
   "execution_count": 100,
   "outputs": [],
   "source": [
    "def create_segments_and_labels(df, time_steps, step):\n",
    "\n",
    "    # x, y, z acceleration as features\n",
    "    N_FEATURES = 10\n",
    "    # Number of steps to advance in each iteration (for me, it should always\n",
    "    # be equal to the time_steps in order to have no overlap between segments)\n",
    "    # step = time_steps\n",
    "    segments = []\n",
    "    labels = []\n",
    "    for i in range(0, len(df) - time_steps, step):\n",
    "        xs = df['v3'].values[i: i + time_steps]\n",
    "        ys = df['v4'].values[i: i + time_steps]\n",
    "        zs = df['v5'].values[i: i + time_steps]\n",
    "        angle = df['v2'].values[i: i + time_steps]\n",
    "        u5 = df['v6'].values[i: i + time_steps]\n",
    "        u6= df['v7'].values[i: i + time_steps]\n",
    "        u7= df['v8'].values[i: i + time_steps]\n",
    "        u8= df['v9'].values[i: i + time_steps]\n",
    "        u9= df['v10'].values[i: i + time_steps]\n",
    "        u10= df['v11'].values[i: i + time_steps]\n",
    "        # Retrieve the most often used label in this segment\n",
    "        segments.append([xs, ys, zs,angle,u5,u6,u7,u8,u9,u10 ])\n",
    "\n",
    "    # Bring the segments into a better shape\n",
    "    reshaped_segments = np.asarray(segments, dtype= np.float32).reshape(-1, time_steps, N_FEATURES)\n",
    "\n",
    "    return reshaped_segments"
   ],
   "metadata": {
    "collapsed": false,
    "pycharm": {
     "name": "#%%\n"
    }
   }
  },
  {
   "cell_type": "code",
   "execution_count": 91,
   "outputs": [
    {
     "data": {
      "text/plain": "      id                   user_id             email_id  \\\n0  27967  61f87f357d6217b5ed17047d  imove.mrt@gmail.com   \n1  27968  61f87f357d6217b5ed17047d  imove.mrt@gmail.com   \n2  27969  61f87f357d6217b5ed17047d  imove.mrt@gmail.com   \n3  27970  61f87f357d6217b5ed17047d  imove.mrt@gmail.com   \n4  27971  61f87f357d6217b5ed17047d  imove.mrt@gmail.com   \n\n                                     raw_sensor_data predicted_activity  \\\n0  [4866.386144,14.911036744980214,2.48,0.28,-9.5...                sit   \n1  [4867.311019,14.911036744980214,2.47,0.27,-9.5...                sit   \n2  [4867.897186,14.911036744980214,2.5,0.24,-9.52...                sit   \n3  [4868.430045,14.911036744980214,2.48,0.26,-9.5...                sit   \n4  [4869.016053,14.911036744980214,2.46,0.26,-9.5...                sit   \n\n   actual_activity                 timestamp                 createdAt  \\\n0              NaN  2022-02-02T16:13:39.218Z  2022-02-03T03:14:27.006Z   \n1              NaN  2022-02-02T16:13:40.143Z  2022-02-03T03:14:27.006Z   \n2              NaN  2022-02-02T16:13:40.729Z  2022-02-03T03:14:27.006Z   \n3              NaN  2022-02-02T16:13:41.262Z  2022-02-03T03:14:27.006Z   \n4              NaN  2022-02-02T16:13:41.848Z  2022-02-03T03:14:27.006Z   \n\n                  updatedAt  \n0  2022-02-03T03:14:27.006Z  \n1  2022-02-03T03:14:27.006Z  \n2  2022-02-03T03:14:27.006Z  \n3  2022-02-03T03:14:27.006Z  \n4  2022-02-03T03:14:27.006Z  ",
      "text/html": "<div>\n<style scoped>\n    .dataframe tbody tr th:only-of-type {\n        vertical-align: middle;\n    }\n\n    .dataframe tbody tr th {\n        vertical-align: top;\n    }\n\n    .dataframe thead th {\n        text-align: right;\n    }\n</style>\n<table border=\"1\" class=\"dataframe\">\n  <thead>\n    <tr style=\"text-align: right;\">\n      <th></th>\n      <th>id</th>\n      <th>user_id</th>\n      <th>email_id</th>\n      <th>raw_sensor_data</th>\n      <th>predicted_activity</th>\n      <th>actual_activity</th>\n      <th>timestamp</th>\n      <th>createdAt</th>\n      <th>updatedAt</th>\n    </tr>\n  </thead>\n  <tbody>\n    <tr>\n      <th>0</th>\n      <td>27967</td>\n      <td>61f87f357d6217b5ed17047d</td>\n      <td>imove.mrt@gmail.com</td>\n      <td>[4866.386144,14.911036744980214,2.48,0.28,-9.5...</td>\n      <td>sit</td>\n      <td>NaN</td>\n      <td>2022-02-02T16:13:39.218Z</td>\n      <td>2022-02-03T03:14:27.006Z</td>\n      <td>2022-02-03T03:14:27.006Z</td>\n    </tr>\n    <tr>\n      <th>1</th>\n      <td>27968</td>\n      <td>61f87f357d6217b5ed17047d</td>\n      <td>imove.mrt@gmail.com</td>\n      <td>[4867.311019,14.911036744980214,2.47,0.27,-9.5...</td>\n      <td>sit</td>\n      <td>NaN</td>\n      <td>2022-02-02T16:13:40.143Z</td>\n      <td>2022-02-03T03:14:27.006Z</td>\n      <td>2022-02-03T03:14:27.006Z</td>\n    </tr>\n    <tr>\n      <th>2</th>\n      <td>27969</td>\n      <td>61f87f357d6217b5ed17047d</td>\n      <td>imove.mrt@gmail.com</td>\n      <td>[4867.897186,14.911036744980214,2.5,0.24,-9.52...</td>\n      <td>sit</td>\n      <td>NaN</td>\n      <td>2022-02-02T16:13:40.729Z</td>\n      <td>2022-02-03T03:14:27.006Z</td>\n      <td>2022-02-03T03:14:27.006Z</td>\n    </tr>\n    <tr>\n      <th>3</th>\n      <td>27970</td>\n      <td>61f87f357d6217b5ed17047d</td>\n      <td>imove.mrt@gmail.com</td>\n      <td>[4868.430045,14.911036744980214,2.48,0.26,-9.5...</td>\n      <td>sit</td>\n      <td>NaN</td>\n      <td>2022-02-02T16:13:41.262Z</td>\n      <td>2022-02-03T03:14:27.006Z</td>\n      <td>2022-02-03T03:14:27.006Z</td>\n    </tr>\n    <tr>\n      <th>4</th>\n      <td>27971</td>\n      <td>61f87f357d6217b5ed17047d</td>\n      <td>imove.mrt@gmail.com</td>\n      <td>[4869.016053,14.911036744980214,2.46,0.26,-9.5...</td>\n      <td>sit</td>\n      <td>NaN</td>\n      <td>2022-02-02T16:13:41.848Z</td>\n      <td>2022-02-03T03:14:27.006Z</td>\n      <td>2022-02-03T03:14:27.006Z</td>\n    </tr>\n  </tbody>\n</table>\n</div>"
     },
     "metadata": {},
     "output_type": "display_data"
    },
    {
     "name": "stdout",
     "output_type": "stream",
     "text": [
      "shape of df = (5000, 9)\n"
     ]
    }
   ],
   "source": [
    "sample = encapsule(pd.read_csv('/Users/arvindchandrasekarreddy/Desktop/PythonProjects/Sord_analysis/csv_vrLLZ7HWebhLTWbGEf0R.csv'))"
   ],
   "metadata": {
    "collapsed": false,
    "pycharm": {
     "name": "#%%\n"
    }
   }
  },
  {
   "cell_type": "code",
   "execution_count": 99,
   "outputs": [
    {
     "data": {
      "text/plain": "                                          v2    v3    v4     v5       v6  \\\ntimestamp                                                                  \n2022-02-02T16:13:39.218Z  14.911036744980214  2.48  0.28  -9.52  -0.0625   \n2022-02-02T16:13:40.143Z  14.911036744980214  2.47  0.27  -9.51    0.125   \n2022-02-02T16:13:40.729Z  14.911036744980214   2.5  0.24  -9.52  -0.1875   \n2022-02-02T16:13:41.262Z  14.911036744980214  2.48  0.26  -9.52        0   \n2022-02-02T16:13:41.848Z  14.911036744980214  2.46  0.26  -9.55  -0.1875   \n\n                               v7      v8       v9      v10       v11  \ntimestamp                                                              \n2022-02-02T16:13:39.218Z  -0.0625  -0.125  21.0625   22.375  -40.6875  \n2022-02-02T16:13:40.143Z   -0.125   0.125  20.6875       22   -39.375  \n2022-02-02T16:13:40.729Z  -0.1875   0.125   20.375  21.5625  -40.1875  \n2022-02-02T16:13:41.262Z    0.125  -0.125  21.0625  22.6875  -40.5625  \n2022-02-02T16:13:41.848Z  -0.1875   -0.25  20.6875   22.375  -40.1875  ",
      "text/html": "<div>\n<style scoped>\n    .dataframe tbody tr th:only-of-type {\n        vertical-align: middle;\n    }\n\n    .dataframe tbody tr th {\n        vertical-align: top;\n    }\n\n    .dataframe thead th {\n        text-align: right;\n    }\n</style>\n<table border=\"1\" class=\"dataframe\">\n  <thead>\n    <tr style=\"text-align: right;\">\n      <th></th>\n      <th>v2</th>\n      <th>v3</th>\n      <th>v4</th>\n      <th>v5</th>\n      <th>v6</th>\n      <th>v7</th>\n      <th>v8</th>\n      <th>v9</th>\n      <th>v10</th>\n      <th>v11</th>\n    </tr>\n    <tr>\n      <th>timestamp</th>\n      <th></th>\n      <th></th>\n      <th></th>\n      <th></th>\n      <th></th>\n      <th></th>\n      <th></th>\n      <th></th>\n      <th></th>\n      <th></th>\n    </tr>\n  </thead>\n  <tbody>\n    <tr>\n      <th>2022-02-02T16:13:39.218Z</th>\n      <td>14.911036744980214</td>\n      <td>2.48</td>\n      <td>0.28</td>\n      <td>-9.52</td>\n      <td>-0.0625</td>\n      <td>-0.0625</td>\n      <td>-0.125</td>\n      <td>21.0625</td>\n      <td>22.375</td>\n      <td>-40.6875</td>\n    </tr>\n    <tr>\n      <th>2022-02-02T16:13:40.143Z</th>\n      <td>14.911036744980214</td>\n      <td>2.47</td>\n      <td>0.27</td>\n      <td>-9.51</td>\n      <td>0.125</td>\n      <td>-0.125</td>\n      <td>0.125</td>\n      <td>20.6875</td>\n      <td>22</td>\n      <td>-39.375</td>\n    </tr>\n    <tr>\n      <th>2022-02-02T16:13:40.729Z</th>\n      <td>14.911036744980214</td>\n      <td>2.5</td>\n      <td>0.24</td>\n      <td>-9.52</td>\n      <td>-0.1875</td>\n      <td>-0.1875</td>\n      <td>0.125</td>\n      <td>20.375</td>\n      <td>21.5625</td>\n      <td>-40.1875</td>\n    </tr>\n    <tr>\n      <th>2022-02-02T16:13:41.262Z</th>\n      <td>14.911036744980214</td>\n      <td>2.48</td>\n      <td>0.26</td>\n      <td>-9.52</td>\n      <td>0</td>\n      <td>0.125</td>\n      <td>-0.125</td>\n      <td>21.0625</td>\n      <td>22.6875</td>\n      <td>-40.5625</td>\n    </tr>\n    <tr>\n      <th>2022-02-02T16:13:41.848Z</th>\n      <td>14.911036744980214</td>\n      <td>2.46</td>\n      <td>0.26</td>\n      <td>-9.55</td>\n      <td>-0.1875</td>\n      <td>-0.1875</td>\n      <td>-0.25</td>\n      <td>20.6875</td>\n      <td>22.375</td>\n      <td>-40.1875</td>\n    </tr>\n  </tbody>\n</table>\n</div>"
     },
     "metadata": {},
     "output_type": "display_data"
    },
    {
     "name": "stdout",
     "output_type": "stream",
     "text": [
      "shape of df = (5000, 10)\n"
     ]
    }
   ],
   "source": [
    "main = encapsule(data_wrangle(sample));\n"
   ],
   "metadata": {
    "collapsed": false,
    "pycharm": {
     "name": "#%%\n"
    }
   }
  },
  {
   "cell_type": "markdown",
   "source": [],
   "metadata": {
    "collapsed": false
   }
  },
  {
   "cell_type": "markdown",
   "source": [],
   "metadata": {
    "collapsed": false,
    "pycharm": {
     "name": "#%% md\n"
    }
   }
  },
  {
   "cell_type": "code",
   "execution_count": 101,
   "outputs": [
    {
     "data": {
      "text/plain": "array([[[  2.48  ,   2.47  ,   2.5   , ...,   2.35  ,   2.48  ,\n           2.49  ],\n        [  2.45  ,   2.41  ,   2.34  , ...,   2.35  ,   2.38  ,\n           2.36  ],\n        [  2.38  ,   2.34  ,   2.36  , ...,   2.41  ,   2.36  ,\n           2.37  ],\n        ...,\n        [-40.6875, -40.6875, -39.375 , ..., -41.    , -41.5   ,\n         -41.    ],\n        [-41.5   , -41.875 , -40.1875, ..., -40.6875, -41.5   ,\n         -40.6875],\n        [-41.5   , -41.    , -40.1875, ..., -40.6875, -40.1875,\n         -40.1875]],\n\n       [[  2.47  ,   2.5   ,   2.48  , ...,   2.48  ,   2.49  ,\n           2.45  ],\n        [  2.41  ,   2.34  ,   2.39  , ...,   2.38  ,   2.36  ,\n           2.38  ],\n        [  2.34  ,   2.36  ,   2.4   , ...,   2.36  ,   2.37  ,\n           2.37  ],\n        ...,\n        [-40.6875, -39.375 , -41.5   , ..., -41.5   , -41.    ,\n         -41.5   ],\n        [-41.875 , -40.1875, -40.6875, ..., -41.5   , -40.6875,\n         -41.5   ],\n        [-41.    , -40.1875, -40.5625, ..., -40.1875, -40.1875,\n         -40.6875]],\n\n       [[  2.5   ,   2.48  ,   2.46  , ...,   2.49  ,   2.45  ,\n           2.41  ],\n        [  2.34  ,   2.39  ,   2.37  , ...,   2.36  ,   2.38  ,\n           2.34  ],\n        [  2.36  ,   2.4   ,   2.37  , ...,   2.37  ,   2.37  ,\n           2.39  ],\n        ...,\n        [-39.375 , -41.5   , -41.    , ..., -41.    , -41.5   ,\n         -41.875 ],\n        [-40.1875, -40.6875, -41.5   , ..., -40.6875, -41.5   ,\n         -41.    ],\n        [-40.1875, -40.5625, -41.    , ..., -40.1875, -40.6875,\n         -40.1875]],\n\n       ...,\n\n       [[ -0.92  ,  -0.91  ,  -0.91  , ...,  -0.9   ,  -0.91  ,\n          -0.91  ],\n        [ -0.91  ,  -0.9   ,  -0.91  , ...,  -0.91  ,  -0.89  ,\n          -0.9   ],\n        [ -0.91  ,  -0.92  ,  -0.9   , ...,  -0.91  ,  -0.95  ,\n          -0.92  ],\n        ...,\n        [-40.5   , -40.    , -42.0625, ..., -41.6875, -41.25  ,\n         -42.5   ],\n        [-40.875 , -40.875 , -41.25  , ..., -40.875 , -41.25  ,\n         -41.25  ],\n        [-40.875 , -40.875 , -40.875 , ..., -40.    , -39.6875,\n         -41.25  ]],\n\n       [[ -0.91  ,  -0.91  ,  -0.91  , ...,  -0.91  ,  -0.91  ,\n          -0.91  ],\n        [ -0.9   ,  -0.91  ,  -0.93  , ...,  -0.89  ,  -0.9   ,\n          -0.91  ],\n        [ -0.92  ,  -0.9   ,  -0.9   , ...,  -0.95  ,  -0.92  ,\n          -1.01  ],\n        ...,\n        [-40.    , -42.0625, -42.0625, ..., -41.25  , -42.5   ,\n         -40.875 ],\n        [-40.875 , -41.25  , -40.875 , ..., -41.25  , -41.25  ,\n         -40.875 ],\n        [-40.875 , -40.875 , -41.6875, ..., -39.6875, -41.25  ,\n         -41.25  ]],\n\n       [[ -0.91  ,  -0.91  ,  -0.92  , ...,  -0.91  ,  -0.91  ,\n          -0.9   ],\n        [ -0.91  ,  -0.93  ,  -0.9   , ...,  -0.9   ,  -0.91  ,\n          -0.92  ],\n        [ -0.9   ,  -0.9   ,  -0.91  , ...,  -0.92  ,  -1.01  ,\n          -0.74  ],\n        ...,\n        [-42.0625, -42.0625, -41.25  , ..., -42.5   , -40.875 ,\n         -40.875 ],\n        [-41.25  , -40.875 , -40.5   , ..., -41.25  , -40.875 ,\n         -40.875 ],\n        [-40.875 , -41.6875, -41.25  , ..., -41.25  , -41.25  ,\n         -40.    ]]], dtype=float32)"
     },
     "execution_count": 101,
     "metadata": {},
     "output_type": "execute_result"
    }
   ],
   "source": [
    "create_segments_and_labels(main,35,1)"
   ],
   "metadata": {
    "collapsed": false,
    "pycharm": {
     "name": "#%%\n"
    }
   }
  },
  {
   "cell_type": "code",
   "execution_count": 3,
   "outputs": [
    {
     "name": "stdout",
     "output_type": "stream",
     "text": [
      "hello\n"
     ]
    }
   ],
   "source": [
    "print('hello')\n",
    "import pandas as pd"
   ],
   "metadata": {
    "collapsed": false,
    "pycharm": {
     "name": "#%%\n"
    }
   }
  },
  {
   "cell_type": "code",
   "execution_count": 66,
   "outputs": [
    {
     "data": {
      "text/plain": "                                access_level  age  buy_now_clicked_date  \\\nbuy_now_clicked chosen_package                                            \n1               Bronze                     1    0                     1   \n                Gold                       1    0                     1   \n                Silver                     2    0                     2   \n                bronze                   157    8                   157   \n                gold                      62    8                    62   \n                silver                   238   30                   238   \n\n                                degree  gender  last_login  oauth_provider  \\\nbuy_now_clicked chosen_package                                               \n1               Bronze               0       1           0               1   \n                Gold                 0       1           1               0   \n                Silver               0       1           1               0   \n                bronze               6      59          98              31   \n                gold                 7      32          50               8   \n                silver              23     107         188              38   \n\n                                registration_date  status  user_id  user_type  \nbuy_now_clicked chosen_package                                                 \n1               Bronze                          1       1        1          1  \n                Gold                            1       1        1          1  \n                Silver                          2       2        2          2  \n                bronze                        157     157      157        157  \n                gold                           62      62       62         62  \n                silver                        238     238      238        238  ",
      "text/html": "<div>\n<style scoped>\n    .dataframe tbody tr th:only-of-type {\n        vertical-align: middle;\n    }\n\n    .dataframe tbody tr th {\n        vertical-align: top;\n    }\n\n    .dataframe thead th {\n        text-align: right;\n    }\n</style>\n<table border=\"1\" class=\"dataframe\">\n  <thead>\n    <tr style=\"text-align: right;\">\n      <th></th>\n      <th></th>\n      <th>access_level</th>\n      <th>age</th>\n      <th>buy_now_clicked_date</th>\n      <th>degree</th>\n      <th>gender</th>\n      <th>last_login</th>\n      <th>oauth_provider</th>\n      <th>registration_date</th>\n      <th>status</th>\n      <th>user_id</th>\n      <th>user_type</th>\n    </tr>\n    <tr>\n      <th>buy_now_clicked</th>\n      <th>chosen_package</th>\n      <th></th>\n      <th></th>\n      <th></th>\n      <th></th>\n      <th></th>\n      <th></th>\n      <th></th>\n      <th></th>\n      <th></th>\n      <th></th>\n      <th></th>\n    </tr>\n  </thead>\n  <tbody>\n    <tr>\n      <th rowspan=\"6\" valign=\"top\">1</th>\n      <th>Bronze</th>\n      <td>1</td>\n      <td>0</td>\n      <td>1</td>\n      <td>0</td>\n      <td>1</td>\n      <td>0</td>\n      <td>1</td>\n      <td>1</td>\n      <td>1</td>\n      <td>1</td>\n      <td>1</td>\n    </tr>\n    <tr>\n      <th>Gold</th>\n      <td>1</td>\n      <td>0</td>\n      <td>1</td>\n      <td>0</td>\n      <td>1</td>\n      <td>1</td>\n      <td>0</td>\n      <td>1</td>\n      <td>1</td>\n      <td>1</td>\n      <td>1</td>\n    </tr>\n    <tr>\n      <th>Silver</th>\n      <td>2</td>\n      <td>0</td>\n      <td>2</td>\n      <td>0</td>\n      <td>1</td>\n      <td>1</td>\n      <td>0</td>\n      <td>2</td>\n      <td>2</td>\n      <td>2</td>\n      <td>2</td>\n    </tr>\n    <tr>\n      <th>bronze</th>\n      <td>157</td>\n      <td>8</td>\n      <td>157</td>\n      <td>6</td>\n      <td>59</td>\n      <td>98</td>\n      <td>31</td>\n      <td>157</td>\n      <td>157</td>\n      <td>157</td>\n      <td>157</td>\n    </tr>\n    <tr>\n      <th>gold</th>\n      <td>62</td>\n      <td>8</td>\n      <td>62</td>\n      <td>7</td>\n      <td>32</td>\n      <td>50</td>\n      <td>8</td>\n      <td>62</td>\n      <td>62</td>\n      <td>62</td>\n      <td>62</td>\n    </tr>\n    <tr>\n      <th>silver</th>\n      <td>238</td>\n      <td>30</td>\n      <td>238</td>\n      <td>23</td>\n      <td>107</td>\n      <td>188</td>\n      <td>38</td>\n      <td>238</td>\n      <td>238</td>\n      <td>238</td>\n      <td>238</td>\n    </tr>\n  </tbody>\n</table>\n</div>"
     },
     "execution_count": 66,
     "metadata": {},
     "output_type": "execute_result"
    }
   ],
   "source": [
    "ielts_users.groupby(['buy_now_clicked' , 'chosen_package' ]).count()"
   ],
   "metadata": {
    "collapsed": false,
    "pycharm": {
     "name": "#%%\n"
    }
   }
  },
  {
   "cell_type": "code",
   "execution_count": 67,
   "outputs": [
    {
     "data": {
      "text/plain": "19570"
     },
     "execution_count": 67,
     "metadata": {},
     "output_type": "execute_result"
    }
   ],
   "source": [
    "(158 * 20 ) + ( 63 * 70 ) + ( 240 * 50 )"
   ],
   "metadata": {
    "collapsed": false,
    "pycharm": {
     "name": "#%%\n"
    }
   }
  },
  {
   "cell_type": "code",
   "execution_count": 4,
   "outputs": [],
   "source": [
    "ielts_users = pd.read_csv('/Users/arvindchandrasekarreddy/Downloads/ielts_users.csv')\n",
    "ielts_notifications = pd.read_csv('/Users/arvindchandrasekarreddy/Downloads/ielts_notifications.csv')"
   ],
   "metadata": {
    "collapsed": false,
    "pycharm": {
     "name": "#%%\n"
    }
   }
  },
  {
   "cell_type": "code",
   "execution_count": 18,
   "outputs": [
    {
     "data": {
      "text/plain": "                access_level  age  buy_now_clicked  buy_now_clicked_date  \\\noauth_provider                                                             \nfacebook                3006   34             3006                  3006   \ngoogle                  1291    6             1291                  1291   \n\n                chosen_package  degree  gender  last_login  registration_date  \\\noauth_provider                                                                  \nfacebook                    58      24    2316          38               3006   \ngoogle                      20       7     751          15               1291   \n\n                status  user_id  user_type  \noauth_provider                              \nfacebook          3006     3006       3006  \ngoogle            1291     1291       1291  ",
      "text/html": "<div>\n<style scoped>\n    .dataframe tbody tr th:only-of-type {\n        vertical-align: middle;\n    }\n\n    .dataframe tbody tr th {\n        vertical-align: top;\n    }\n\n    .dataframe thead th {\n        text-align: right;\n    }\n</style>\n<table border=\"1\" class=\"dataframe\">\n  <thead>\n    <tr style=\"text-align: right;\">\n      <th></th>\n      <th>access_level</th>\n      <th>age</th>\n      <th>buy_now_clicked</th>\n      <th>buy_now_clicked_date</th>\n      <th>chosen_package</th>\n      <th>degree</th>\n      <th>gender</th>\n      <th>last_login</th>\n      <th>registration_date</th>\n      <th>status</th>\n      <th>user_id</th>\n      <th>user_type</th>\n    </tr>\n    <tr>\n      <th>oauth_provider</th>\n      <th></th>\n      <th></th>\n      <th></th>\n      <th></th>\n      <th></th>\n      <th></th>\n      <th></th>\n      <th></th>\n      <th></th>\n      <th></th>\n      <th></th>\n      <th></th>\n    </tr>\n  </thead>\n  <tbody>\n    <tr>\n      <th>facebook</th>\n      <td>3006</td>\n      <td>34</td>\n      <td>3006</td>\n      <td>3006</td>\n      <td>58</td>\n      <td>24</td>\n      <td>2316</td>\n      <td>38</td>\n      <td>3006</td>\n      <td>3006</td>\n      <td>3006</td>\n      <td>3006</td>\n    </tr>\n    <tr>\n      <th>google</th>\n      <td>1291</td>\n      <td>6</td>\n      <td>1291</td>\n      <td>1291</td>\n      <td>20</td>\n      <td>7</td>\n      <td>751</td>\n      <td>15</td>\n      <td>1291</td>\n      <td>1291</td>\n      <td>1291</td>\n      <td>1291</td>\n    </tr>\n  </tbody>\n</table>\n</div>"
     },
     "execution_count": 18,
     "metadata": {},
     "output_type": "execute_result"
    }
   ],
   "source": [
    "ielts_users[''].groupby('oauth_provider').count()"
   ],
   "metadata": {
    "collapsed": false,
    "pycharm": {
     "name": "#%%\n"
    }
   }
  },
  {
   "cell_type": "code",
   "execution_count": 50,
   "outputs": [],
   "source": [
    "ielts_users[ 'registration_date' ] = pd.DatetimeIndex(ielts_users.registration_date).year"
   ],
   "metadata": {
    "collapsed": false,
    "pycharm": {
     "name": "#%%\n"
    }
   }
  },
  {
   "cell_type": "code",
   "execution_count": 72,
   "outputs": [
    {
     "data": {
      "text/plain": "       access_level  age  buy_now_clicked buy_now_clicked_date chosen_package  \\\n6651              0  NaN                0  0000-00-00 00:00:00            NaN   \n6655              0  NaN                0  0000-00-00 00:00:00            NaN   \n6659              0  NaN                0  0000-00-00 00:00:00            NaN   \n6662              0  NaN                0  0000-00-00 00:00:00            NaN   \n6665              0  NaN                0  0000-00-00 00:00:00            NaN   \n...             ...  ...              ...                  ...            ...   \n14421             0  NaN                0  0000-00-00 00:00:00            NaN   \n14424             0  NaN                0  0000-00-00 00:00:00            NaN   \n14425             0  NaN                0  0000-00-00 00:00:00            NaN   \n14430             0  NaN                0  0000-00-00 00:00:00            NaN   \n14436             0  NaN                0  0000-00-00 00:00:00            NaN   \n\n      degree  gender  last_login oauth_provider  registration_date  status  \\\n6651     NaN    Male         NaN       facebook               2018       1   \n6655     NaN    Male         NaN       facebook               2018       1   \n6659     NaN  Female         NaN       facebook               2018       1   \n6662     NaN    Male         NaN       facebook               2018       1   \n6665     NaN    Male         NaN       facebook               2018       1   \n...      ...     ...         ...            ...                ...     ...   \n14421    NaN     NaN         NaN       facebook               2018       1   \n14424    NaN     NaN         NaN       facebook               2018       1   \n14425    NaN     NaN         NaN       facebook               2018       1   \n14430    NaN     NaN         NaN       facebook               2018       1   \n14436    NaN     NaN         NaN       facebook               2018       1   \n\n       user_id  user_type  \n6651     47074          1  \n6655     47096          1  \n6659     47116          1  \n6662     47126          1  \n6665     47144          1  \n...        ...        ...  \n14421    78042          1  \n14424    78079          1  \n14425    78081          1  \n14430    78099          1  \n14436    78130          1  \n\n[1450 rows x 13 columns]",
      "text/html": "<div>\n<style scoped>\n    .dataframe tbody tr th:only-of-type {\n        vertical-align: middle;\n    }\n\n    .dataframe tbody tr th {\n        vertical-align: top;\n    }\n\n    .dataframe thead th {\n        text-align: right;\n    }\n</style>\n<table border=\"1\" class=\"dataframe\">\n  <thead>\n    <tr style=\"text-align: right;\">\n      <th></th>\n      <th>access_level</th>\n      <th>age</th>\n      <th>buy_now_clicked</th>\n      <th>buy_now_clicked_date</th>\n      <th>chosen_package</th>\n      <th>degree</th>\n      <th>gender</th>\n      <th>last_login</th>\n      <th>oauth_provider</th>\n      <th>registration_date</th>\n      <th>status</th>\n      <th>user_id</th>\n      <th>user_type</th>\n    </tr>\n  </thead>\n  <tbody>\n    <tr>\n      <th>6651</th>\n      <td>0</td>\n      <td>NaN</td>\n      <td>0</td>\n      <td>0000-00-00 00:00:00</td>\n      <td>NaN</td>\n      <td>NaN</td>\n      <td>Male</td>\n      <td>NaN</td>\n      <td>facebook</td>\n      <td>2018</td>\n      <td>1</td>\n      <td>47074</td>\n      <td>1</td>\n    </tr>\n    <tr>\n      <th>6655</th>\n      <td>0</td>\n      <td>NaN</td>\n      <td>0</td>\n      <td>0000-00-00 00:00:00</td>\n      <td>NaN</td>\n      <td>NaN</td>\n      <td>Male</td>\n      <td>NaN</td>\n      <td>facebook</td>\n      <td>2018</td>\n      <td>1</td>\n      <td>47096</td>\n      <td>1</td>\n    </tr>\n    <tr>\n      <th>6659</th>\n      <td>0</td>\n      <td>NaN</td>\n      <td>0</td>\n      <td>0000-00-00 00:00:00</td>\n      <td>NaN</td>\n      <td>NaN</td>\n      <td>Female</td>\n      <td>NaN</td>\n      <td>facebook</td>\n      <td>2018</td>\n      <td>1</td>\n      <td>47116</td>\n      <td>1</td>\n    </tr>\n    <tr>\n      <th>6662</th>\n      <td>0</td>\n      <td>NaN</td>\n      <td>0</td>\n      <td>0000-00-00 00:00:00</td>\n      <td>NaN</td>\n      <td>NaN</td>\n      <td>Male</td>\n      <td>NaN</td>\n      <td>facebook</td>\n      <td>2018</td>\n      <td>1</td>\n      <td>47126</td>\n      <td>1</td>\n    </tr>\n    <tr>\n      <th>6665</th>\n      <td>0</td>\n      <td>NaN</td>\n      <td>0</td>\n      <td>0000-00-00 00:00:00</td>\n      <td>NaN</td>\n      <td>NaN</td>\n      <td>Male</td>\n      <td>NaN</td>\n      <td>facebook</td>\n      <td>2018</td>\n      <td>1</td>\n      <td>47144</td>\n      <td>1</td>\n    </tr>\n    <tr>\n      <th>...</th>\n      <td>...</td>\n      <td>...</td>\n      <td>...</td>\n      <td>...</td>\n      <td>...</td>\n      <td>...</td>\n      <td>...</td>\n      <td>...</td>\n      <td>...</td>\n      <td>...</td>\n      <td>...</td>\n      <td>...</td>\n      <td>...</td>\n    </tr>\n    <tr>\n      <th>14421</th>\n      <td>0</td>\n      <td>NaN</td>\n      <td>0</td>\n      <td>0000-00-00 00:00:00</td>\n      <td>NaN</td>\n      <td>NaN</td>\n      <td>NaN</td>\n      <td>NaN</td>\n      <td>facebook</td>\n      <td>2018</td>\n      <td>1</td>\n      <td>78042</td>\n      <td>1</td>\n    </tr>\n    <tr>\n      <th>14424</th>\n      <td>0</td>\n      <td>NaN</td>\n      <td>0</td>\n      <td>0000-00-00 00:00:00</td>\n      <td>NaN</td>\n      <td>NaN</td>\n      <td>NaN</td>\n      <td>NaN</td>\n      <td>facebook</td>\n      <td>2018</td>\n      <td>1</td>\n      <td>78079</td>\n      <td>1</td>\n    </tr>\n    <tr>\n      <th>14425</th>\n      <td>0</td>\n      <td>NaN</td>\n      <td>0</td>\n      <td>0000-00-00 00:00:00</td>\n      <td>NaN</td>\n      <td>NaN</td>\n      <td>NaN</td>\n      <td>NaN</td>\n      <td>facebook</td>\n      <td>2018</td>\n      <td>1</td>\n      <td>78081</td>\n      <td>1</td>\n    </tr>\n    <tr>\n      <th>14430</th>\n      <td>0</td>\n      <td>NaN</td>\n      <td>0</td>\n      <td>0000-00-00 00:00:00</td>\n      <td>NaN</td>\n      <td>NaN</td>\n      <td>NaN</td>\n      <td>NaN</td>\n      <td>facebook</td>\n      <td>2018</td>\n      <td>1</td>\n      <td>78099</td>\n      <td>1</td>\n    </tr>\n    <tr>\n      <th>14436</th>\n      <td>0</td>\n      <td>NaN</td>\n      <td>0</td>\n      <td>0000-00-00 00:00:00</td>\n      <td>NaN</td>\n      <td>NaN</td>\n      <td>NaN</td>\n      <td>NaN</td>\n      <td>facebook</td>\n      <td>2018</td>\n      <td>1</td>\n      <td>78130</td>\n      <td>1</td>\n    </tr>\n  </tbody>\n</table>\n<p>1450 rows × 13 columns</p>\n</div>"
     },
     "execution_count": 72,
     "metadata": {},
     "output_type": "execute_result"
    }
   ],
   "source": [
    "ielts_users[ (ielts_users.registration_date == 2018)  & (ielts_users.oauth_provider == 'facebook')  ]"
   ],
   "metadata": {
    "collapsed": false,
    "pycharm": {
     "name": "#%%\n"
    }
   }
  },
  {
   "cell_type": "code",
   "execution_count": 70,
   "outputs": [
    {
     "data": {
      "text/plain": "-1284.8999999999978"
     },
     "execution_count": 70,
     "metadata": {},
     "output_type": "execute_result"
    }
   ],
   "source": [
    "(6651  * 2.5 ) -  (7788 * 2.3)"
   ],
   "metadata": {
    "collapsed": false,
    "pycharm": {
     "name": "#%%\n"
    }
   }
  },
  {
   "cell_type": "code",
   "execution_count": 57,
   "outputs": [
    {
     "data": {
      "text/plain": "555.0000000000005"
     },
     "execution_count": 57,
     "metadata": {},
     "output_type": "execute_result"
    }
   ],
   "source": [
    "(1556 * 2.5) - (1450  * 2.3)"
   ],
   "metadata": {
    "collapsed": false,
    "pycharm": {
     "name": "#%%\n"
    }
   }
  },
  {
   "cell_type": "code",
   "execution_count": 73,
   "outputs": [
    {
     "data": {
      "text/plain": "106"
     },
     "execution_count": 73,
     "metadata": {},
     "output_type": "execute_result"
    }
   ],
   "source": [
    "1556 - 1450"
   ],
   "metadata": {
    "collapsed": false,
    "pycharm": {
     "name": "#%%\n"
    }
   }
  },
  {
   "cell_type": "code",
   "execution_count": 74,
   "outputs": [
    {
     "data": {
      "text/plain": "5.300000000000001"
     },
     "execution_count": 74,
     "metadata": {},
     "output_type": "execute_result"
    }
   ],
   "source": [
    "106 * 0.05"
   ],
   "metadata": {
    "collapsed": false,
    "pycharm": {
     "name": "#%%\n"
    }
   }
  },
  {
   "cell_type": "code",
   "execution_count": 44,
   "outputs": [
    {
     "ename": "ValueError",
     "evalue": "time data 1/01/2017 1:16 doesn't match format specified",
     "output_type": "error",
     "traceback": [
      "\u001B[0;31m---------------------------------------------------------------------------\u001B[0m",
      "\u001B[0;31mTypeError\u001B[0m                                 Traceback (most recent call last)",
      "\u001B[0;32m~/opt/anaconda3/lib/python3.7/site-packages/pandas/core/arrays/datetimes.py\u001B[0m in \u001B[0;36mobjects_to_datetime64ns\u001B[0;34m(data, dayfirst, yearfirst, utc, errors, require_iso8601, allow_object)\u001B[0m\n\u001B[1;32m   2084\u001B[0m         \u001B[0;32mtry\u001B[0m\u001B[0;34m:\u001B[0m\u001B[0;34m\u001B[0m\u001B[0;34m\u001B[0m\u001B[0m\n\u001B[0;32m-> 2085\u001B[0;31m             \u001B[0mvalues\u001B[0m\u001B[0;34m,\u001B[0m \u001B[0mtz_parsed\u001B[0m \u001B[0;34m=\u001B[0m \u001B[0mconversion\u001B[0m\u001B[0;34m.\u001B[0m\u001B[0mdatetime_to_datetime64\u001B[0m\u001B[0;34m(\u001B[0m\u001B[0mdata\u001B[0m\u001B[0;34m)\u001B[0m\u001B[0;34m\u001B[0m\u001B[0;34m\u001B[0m\u001B[0m\n\u001B[0m\u001B[1;32m   2086\u001B[0m             \u001B[0;31m# If tzaware, these values represent unix timestamps, so we\u001B[0m\u001B[0;34m\u001B[0m\u001B[0;34m\u001B[0m\u001B[0;34m\u001B[0m\u001B[0m\n",
      "\u001B[0;32mpandas/_libs/tslibs/conversion.pyx\u001B[0m in \u001B[0;36mpandas._libs.tslibs.conversion.datetime_to_datetime64\u001B[0;34m()\u001B[0m\n",
      "\u001B[0;31mTypeError\u001B[0m: Unrecognized value type: <class 'str'>",
      "\nDuring handling of the above exception, another exception occurred:\n",
      "\u001B[0;31mValueError\u001B[0m                                Traceback (most recent call last)",
      "\u001B[0;32m/var/folders/12/y5vs86r91n98w8k_k0z7drn00000gn/T/ipykernel_22677/1953769162.py\u001B[0m in \u001B[0;36m<module>\u001B[0;34m\u001B[0m\n\u001B[0;32m----> 1\u001B[0;31m \u001B[0mdaate\u001B[0m \u001B[0;34m=\u001B[0m \u001B[0mpd\u001B[0m\u001B[0;34m.\u001B[0m\u001B[0mto_datetime\u001B[0m\u001B[0;34m(\u001B[0m\u001B[0mielts_users\u001B[0m\u001B[0;34m.\u001B[0m\u001B[0mregistration_date\u001B[0m\u001B[0;34m,\u001B[0m\u001B[0mformat\u001B[0m\u001B[0;34m=\u001B[0m\u001B[0;34m'%Y/%m/%d'\u001B[0m\u001B[0;34m)\u001B[0m\u001B[0;34m\u001B[0m\u001B[0;34m\u001B[0m\u001B[0m\n\u001B[0m",
      "\u001B[0;32m~/opt/anaconda3/lib/python3.7/site-packages/pandas/core/tools/datetimes.py\u001B[0m in \u001B[0;36mto_datetime\u001B[0;34m(arg, errors, dayfirst, yearfirst, utc, format, exact, unit, infer_datetime_format, origin, cache)\u001B[0m\n\u001B[1;32m    803\u001B[0m             \u001B[0mresult\u001B[0m \u001B[0;34m=\u001B[0m \u001B[0marg\u001B[0m\u001B[0;34m.\u001B[0m\u001B[0mmap\u001B[0m\u001B[0;34m(\u001B[0m\u001B[0mcache_array\u001B[0m\u001B[0;34m)\u001B[0m\u001B[0;34m\u001B[0m\u001B[0;34m\u001B[0m\u001B[0m\n\u001B[1;32m    804\u001B[0m         \u001B[0;32melse\u001B[0m\u001B[0;34m:\u001B[0m\u001B[0;34m\u001B[0m\u001B[0;34m\u001B[0m\u001B[0m\n\u001B[0;32m--> 805\u001B[0;31m             \u001B[0mvalues\u001B[0m \u001B[0;34m=\u001B[0m \u001B[0mconvert_listlike\u001B[0m\u001B[0;34m(\u001B[0m\u001B[0marg\u001B[0m\u001B[0;34m.\u001B[0m\u001B[0m_values\u001B[0m\u001B[0;34m,\u001B[0m \u001B[0mformat\u001B[0m\u001B[0;34m)\u001B[0m\u001B[0;34m\u001B[0m\u001B[0;34m\u001B[0m\u001B[0m\n\u001B[0m\u001B[1;32m    806\u001B[0m             \u001B[0mresult\u001B[0m \u001B[0;34m=\u001B[0m \u001B[0marg\u001B[0m\u001B[0;34m.\u001B[0m\u001B[0m_constructor\u001B[0m\u001B[0;34m(\u001B[0m\u001B[0mvalues\u001B[0m\u001B[0;34m,\u001B[0m \u001B[0mindex\u001B[0m\u001B[0;34m=\u001B[0m\u001B[0marg\u001B[0m\u001B[0;34m.\u001B[0m\u001B[0mindex\u001B[0m\u001B[0;34m,\u001B[0m \u001B[0mname\u001B[0m\u001B[0;34m=\u001B[0m\u001B[0marg\u001B[0m\u001B[0;34m.\u001B[0m\u001B[0mname\u001B[0m\u001B[0;34m)\u001B[0m\u001B[0;34m\u001B[0m\u001B[0;34m\u001B[0m\u001B[0m\n\u001B[1;32m    807\u001B[0m     \u001B[0;32melif\u001B[0m \u001B[0misinstance\u001B[0m\u001B[0;34m(\u001B[0m\u001B[0marg\u001B[0m\u001B[0;34m,\u001B[0m \u001B[0;34m(\u001B[0m\u001B[0mABCDataFrame\u001B[0m\u001B[0;34m,\u001B[0m \u001B[0mabc\u001B[0m\u001B[0;34m.\u001B[0m\u001B[0mMutableMapping\u001B[0m\u001B[0;34m)\u001B[0m\u001B[0;34m)\u001B[0m\u001B[0;34m:\u001B[0m\u001B[0;34m\u001B[0m\u001B[0;34m\u001B[0m\u001B[0m\n",
      "\u001B[0;32m~/opt/anaconda3/lib/python3.7/site-packages/pandas/core/tools/datetimes.py\u001B[0m in \u001B[0;36m_convert_listlike_datetimes\u001B[0;34m(arg, format, name, tz, unit, errors, infer_datetime_format, dayfirst, yearfirst, exact)\u001B[0m\n\u001B[1;32m    470\u001B[0m             \u001B[0merrors\u001B[0m\u001B[0;34m=\u001B[0m\u001B[0merrors\u001B[0m\u001B[0;34m,\u001B[0m\u001B[0;34m\u001B[0m\u001B[0;34m\u001B[0m\u001B[0m\n\u001B[1;32m    471\u001B[0m             \u001B[0mrequire_iso8601\u001B[0m\u001B[0;34m=\u001B[0m\u001B[0mrequire_iso8601\u001B[0m\u001B[0;34m,\u001B[0m\u001B[0;34m\u001B[0m\u001B[0;34m\u001B[0m\u001B[0m\n\u001B[0;32m--> 472\u001B[0;31m             \u001B[0mallow_object\u001B[0m\u001B[0;34m=\u001B[0m\u001B[0;32mTrue\u001B[0m\u001B[0;34m,\u001B[0m\u001B[0;34m\u001B[0m\u001B[0;34m\u001B[0m\u001B[0m\n\u001B[0m\u001B[1;32m    473\u001B[0m         )\n\u001B[1;32m    474\u001B[0m \u001B[0;34m\u001B[0m\u001B[0m\n",
      "\u001B[0;32m~/opt/anaconda3/lib/python3.7/site-packages/pandas/core/arrays/datetimes.py\u001B[0m in \u001B[0;36mobjects_to_datetime64ns\u001B[0;34m(data, dayfirst, yearfirst, utc, errors, require_iso8601, allow_object)\u001B[0m\n\u001B[1;32m   2088\u001B[0m             \u001B[0;32mreturn\u001B[0m \u001B[0mvalues\u001B[0m\u001B[0;34m.\u001B[0m\u001B[0mview\u001B[0m\u001B[0;34m(\u001B[0m\u001B[0;34m\"i8\"\u001B[0m\u001B[0;34m)\u001B[0m\u001B[0;34m,\u001B[0m \u001B[0mtz_parsed\u001B[0m\u001B[0;34m\u001B[0m\u001B[0;34m\u001B[0m\u001B[0m\n\u001B[1;32m   2089\u001B[0m         \u001B[0;32mexcept\u001B[0m \u001B[0;34m(\u001B[0m\u001B[0mValueError\u001B[0m\u001B[0;34m,\u001B[0m \u001B[0mTypeError\u001B[0m\u001B[0;34m)\u001B[0m\u001B[0;34m:\u001B[0m\u001B[0;34m\u001B[0m\u001B[0;34m\u001B[0m\u001B[0m\n\u001B[0;32m-> 2090\u001B[0;31m             \u001B[0;32mraise\u001B[0m \u001B[0me\u001B[0m\u001B[0;34m\u001B[0m\u001B[0;34m\u001B[0m\u001B[0m\n\u001B[0m\u001B[1;32m   2091\u001B[0m \u001B[0;34m\u001B[0m\u001B[0m\n\u001B[1;32m   2092\u001B[0m     \u001B[0;32mif\u001B[0m \u001B[0mtz_parsed\u001B[0m \u001B[0;32mis\u001B[0m \u001B[0;32mnot\u001B[0m \u001B[0;32mNone\u001B[0m\u001B[0;34m:\u001B[0m\u001B[0;34m\u001B[0m\u001B[0;34m\u001B[0m\u001B[0m\n",
      "\u001B[0;32m~/opt/anaconda3/lib/python3.7/site-packages/pandas/core/arrays/datetimes.py\u001B[0m in \u001B[0;36mobjects_to_datetime64ns\u001B[0;34m(data, dayfirst, yearfirst, utc, errors, require_iso8601, allow_object)\u001B[0m\n\u001B[1;32m   2079\u001B[0m             \u001B[0mdayfirst\u001B[0m\u001B[0;34m=\u001B[0m\u001B[0mdayfirst\u001B[0m\u001B[0;34m,\u001B[0m\u001B[0;34m\u001B[0m\u001B[0;34m\u001B[0m\u001B[0m\n\u001B[1;32m   2080\u001B[0m             \u001B[0myearfirst\u001B[0m\u001B[0;34m=\u001B[0m\u001B[0myearfirst\u001B[0m\u001B[0;34m,\u001B[0m\u001B[0;34m\u001B[0m\u001B[0;34m\u001B[0m\u001B[0m\n\u001B[0;32m-> 2081\u001B[0;31m             \u001B[0mrequire_iso8601\u001B[0m\u001B[0;34m=\u001B[0m\u001B[0mrequire_iso8601\u001B[0m\u001B[0;34m,\u001B[0m\u001B[0;34m\u001B[0m\u001B[0;34m\u001B[0m\u001B[0m\n\u001B[0m\u001B[1;32m   2082\u001B[0m         )\n\u001B[1;32m   2083\u001B[0m     \u001B[0;32mexcept\u001B[0m \u001B[0mValueError\u001B[0m \u001B[0;32mas\u001B[0m \u001B[0me\u001B[0m\u001B[0;34m:\u001B[0m\u001B[0;34m\u001B[0m\u001B[0;34m\u001B[0m\u001B[0m\n",
      "\u001B[0;32mpandas/_libs/tslib.pyx\u001B[0m in \u001B[0;36mpandas._libs.tslib.array_to_datetime\u001B[0;34m()\u001B[0m\n",
      "\u001B[0;32mpandas/_libs/tslib.pyx\u001B[0m in \u001B[0;36mpandas._libs.tslib.array_to_datetime\u001B[0;34m()\u001B[0m\n",
      "\u001B[0;31mValueError\u001B[0m: time data 1/01/2017 1:16 doesn't match format specified"
     ]
    }
   ],
   "source": [
    "daate = pd.DatetimeIndex(ielts_users.registration_date)"
   ],
   "metadata": {
    "collapsed": false,
    "pycharm": {
     "name": "#%%\n"
    }
   }
  },
  {
   "cell_type": "code",
   "execution_count": 46,
   "outputs": [
    {
     "ename": "AttributeError",
     "evalue": "'Series' object has no attribute 'year'",
     "output_type": "error",
     "traceback": [
      "\u001B[0;31m---------------------------------------------------------------------------\u001B[0m",
      "\u001B[0;31mAttributeError\u001B[0m                            Traceback (most recent call last)",
      "\u001B[0;32m/var/folders/12/y5vs86r91n98w8k_k0z7drn00000gn/T/ipykernel_22677/2874051794.py\u001B[0m in \u001B[0;36m<module>\u001B[0;34m\u001B[0m\n\u001B[0;32m----> 1\u001B[0;31m \u001B[0mielts_users\u001B[0m\u001B[0;34m.\u001B[0m\u001B[0mregistration_date\u001B[0m\u001B[0;34m.\u001B[0m\u001B[0mapply\u001B[0m\u001B[0;34m(\u001B[0m\u001B[0mpd\u001B[0m\u001B[0;34m.\u001B[0m\u001B[0mto_datetime\u001B[0m\u001B[0;34m)\u001B[0m\u001B[0;34m.\u001B[0m\u001B[0myear\u001B[0m\u001B[0;34m\u001B[0m\u001B[0;34m\u001B[0m\u001B[0m\n\u001B[0m\u001B[1;32m      2\u001B[0m \u001B[0;34m\u001B[0m\u001B[0m\n",
      "\u001B[0;32m~/opt/anaconda3/lib/python3.7/site-packages/pandas/core/generic.py\u001B[0m in \u001B[0;36m__getattr__\u001B[0;34m(self, name)\u001B[0m\n\u001B[1;32m   5463\u001B[0m             \u001B[0;32mif\u001B[0m \u001B[0mself\u001B[0m\u001B[0;34m.\u001B[0m\u001B[0m_info_axis\u001B[0m\u001B[0;34m.\u001B[0m\u001B[0m_can_hold_identifiers_and_holds_name\u001B[0m\u001B[0;34m(\u001B[0m\u001B[0mname\u001B[0m\u001B[0;34m)\u001B[0m\u001B[0;34m:\u001B[0m\u001B[0;34m\u001B[0m\u001B[0;34m\u001B[0m\u001B[0m\n\u001B[1;32m   5464\u001B[0m                 \u001B[0;32mreturn\u001B[0m \u001B[0mself\u001B[0m\u001B[0;34m[\u001B[0m\u001B[0mname\u001B[0m\u001B[0;34m]\u001B[0m\u001B[0;34m\u001B[0m\u001B[0;34m\u001B[0m\u001B[0m\n\u001B[0;32m-> 5465\u001B[0;31m             \u001B[0;32mreturn\u001B[0m \u001B[0mobject\u001B[0m\u001B[0;34m.\u001B[0m\u001B[0m__getattribute__\u001B[0m\u001B[0;34m(\u001B[0m\u001B[0mself\u001B[0m\u001B[0;34m,\u001B[0m \u001B[0mname\u001B[0m\u001B[0;34m)\u001B[0m\u001B[0;34m\u001B[0m\u001B[0;34m\u001B[0m\u001B[0m\n\u001B[0m\u001B[1;32m   5466\u001B[0m \u001B[0;34m\u001B[0m\u001B[0m\n\u001B[1;32m   5467\u001B[0m     \u001B[0;32mdef\u001B[0m \u001B[0m__setattr__\u001B[0m\u001B[0;34m(\u001B[0m\u001B[0mself\u001B[0m\u001B[0;34m,\u001B[0m \u001B[0mname\u001B[0m\u001B[0;34m:\u001B[0m \u001B[0mstr\u001B[0m\u001B[0;34m,\u001B[0m \u001B[0mvalue\u001B[0m\u001B[0;34m)\u001B[0m \u001B[0;34m->\u001B[0m \u001B[0;32mNone\u001B[0m\u001B[0;34m:\u001B[0m\u001B[0;34m\u001B[0m\u001B[0;34m\u001B[0m\u001B[0m\n",
      "\u001B[0;31mAttributeError\u001B[0m: 'Series' object has no attribute 'year'"
     ]
    }
   ],
   "source": [
    "ielts_users.registration_date.apply(pd.to_datetime).year\n"
   ],
   "metadata": {
    "collapsed": false,
    "pycharm": {
     "name": "#%%\n"
    }
   }
  },
  {
   "cell_type": "code",
   "execution_count": 47,
   "outputs": [
    {
     "data": {
      "text/plain": "access_level                0\nage                     14217\nbuy_now_clicked             0\nbuy_now_clicked_date        0\nchosen_package          13978\ndegree                  14271\ngender                  10906\nlast_login              13247\noauth_provider          10142\nregistration_date           0\nstatus                      0\nuser_id                     0\nuser_type                   0\ndtype: int64"
     },
     "execution_count": 47,
     "metadata": {},
     "output_type": "execute_result"
    }
   ],
   "source": [
    "ielts_users.isna().sum()"
   ],
   "metadata": {
    "collapsed": false,
    "pycharm": {
     "name": "#%%\n"
    }
   }
  },
  {
   "cell_type": "code",
   "execution_count": null,
   "outputs": [],
   "source": [
    "import stats"
   ],
   "metadata": {
    "collapsed": false,
    "pycharm": {
     "name": "#%%\n"
    }
   }
  },
  {
   "cell_type": "code",
   "execution_count": 14,
   "outputs": [
    {
     "data": {
      "text/plain": "user_id\n1468     4\n2612     3\n2618     1\n2688     1\n2787     2\n        ..\n84877    1\n84878    1\n84881    1\n84884    1\n84914    1\nLength: 16172, dtype: int64"
     },
     "execution_count": 14,
     "metadata": {},
     "output_type": "execute_result"
    }
   ],
   "source": [
    "ielts_notifications.groupby('user_id').size()"
   ],
   "metadata": {
    "collapsed": false,
    "pycharm": {
     "name": "#%%\n"
    }
   }
  },
  {
   "cell_type": "code",
   "execution_count": 75,
   "outputs": [
    {
     "data": {
      "text/plain": "           id  message_mode  user_id  read_status        added_date\n0       20363             2    19578            0    1/01/2017 0:15\n1       20368             2    19434            0    1/01/2017 1:15\n2       20374             1    19697            0    1/01/2017 2:39\n3       20375             5    19691            1    1/01/2017 2:45\n4       20377             2    19436            0    1/01/2017 3:15\n...       ...           ...      ...          ...               ...\n50210  223285             2    84175            0  31/03/2019 22:45\n50211  223289             2    84604            0  31/03/2019 23:00\n50212  223295             2    84608            0  31/03/2019 23:15\n50213  223300             2    84180            0  31/03/2019 23:45\n50214  223303             1    84914            0  31/03/2019 23:59\n\n[50215 rows x 5 columns]",
      "text/html": "<div>\n<style scoped>\n    .dataframe tbody tr th:only-of-type {\n        vertical-align: middle;\n    }\n\n    .dataframe tbody tr th {\n        vertical-align: top;\n    }\n\n    .dataframe thead th {\n        text-align: right;\n    }\n</style>\n<table border=\"1\" class=\"dataframe\">\n  <thead>\n    <tr style=\"text-align: right;\">\n      <th></th>\n      <th>id</th>\n      <th>message_mode</th>\n      <th>user_id</th>\n      <th>read_status</th>\n      <th>added_date</th>\n    </tr>\n  </thead>\n  <tbody>\n    <tr>\n      <th>0</th>\n      <td>20363</td>\n      <td>2</td>\n      <td>19578</td>\n      <td>0</td>\n      <td>1/01/2017 0:15</td>\n    </tr>\n    <tr>\n      <th>1</th>\n      <td>20368</td>\n      <td>2</td>\n      <td>19434</td>\n      <td>0</td>\n      <td>1/01/2017 1:15</td>\n    </tr>\n    <tr>\n      <th>2</th>\n      <td>20374</td>\n      <td>1</td>\n      <td>19697</td>\n      <td>0</td>\n      <td>1/01/2017 2:39</td>\n    </tr>\n    <tr>\n      <th>3</th>\n      <td>20375</td>\n      <td>5</td>\n      <td>19691</td>\n      <td>1</td>\n      <td>1/01/2017 2:45</td>\n    </tr>\n    <tr>\n      <th>4</th>\n      <td>20377</td>\n      <td>2</td>\n      <td>19436</td>\n      <td>0</td>\n      <td>1/01/2017 3:15</td>\n    </tr>\n    <tr>\n      <th>...</th>\n      <td>...</td>\n      <td>...</td>\n      <td>...</td>\n      <td>...</td>\n      <td>...</td>\n    </tr>\n    <tr>\n      <th>50210</th>\n      <td>223285</td>\n      <td>2</td>\n      <td>84175</td>\n      <td>0</td>\n      <td>31/03/2019 22:45</td>\n    </tr>\n    <tr>\n      <th>50211</th>\n      <td>223289</td>\n      <td>2</td>\n      <td>84604</td>\n      <td>0</td>\n      <td>31/03/2019 23:00</td>\n    </tr>\n    <tr>\n      <th>50212</th>\n      <td>223295</td>\n      <td>2</td>\n      <td>84608</td>\n      <td>0</td>\n      <td>31/03/2019 23:15</td>\n    </tr>\n    <tr>\n      <th>50213</th>\n      <td>223300</td>\n      <td>2</td>\n      <td>84180</td>\n      <td>0</td>\n      <td>31/03/2019 23:45</td>\n    </tr>\n    <tr>\n      <th>50214</th>\n      <td>223303</td>\n      <td>1</td>\n      <td>84914</td>\n      <td>0</td>\n      <td>31/03/2019 23:59</td>\n    </tr>\n  </tbody>\n</table>\n<p>50215 rows × 5 columns</p>\n</div>"
     },
     "execution_count": 75,
     "metadata": {},
     "output_type": "execute_result"
    }
   ],
   "source": [
    "ielts_notifications"
   ],
   "metadata": {
    "collapsed": false,
    "pycharm": {
     "name": "#%%\n"
    }
   }
  }
 ],
 "metadata": {
  "kernelspec": {
   "display_name": "Python 3",
   "language": "python",
   "name": "python3"
  },
  "language_info": {
   "codemirror_mode": {
    "name": "ipython",
    "version": 2
   },
   "file_extension": ".py",
   "mimetype": "text/x-python",
   "name": "python",
   "nbconvert_exporter": "python",
   "pygments_lexer": "ipython2",
   "version": "2.7.6"
  }
 },
 "nbformat": 4,
 "nbformat_minor": 0
}