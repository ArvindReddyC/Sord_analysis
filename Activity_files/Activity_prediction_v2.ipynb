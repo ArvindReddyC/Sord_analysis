{
  "nbformat": 4,
  "nbformat_minor": 0,
  "metadata": {
    "colab": {
      "name": "Activity_prediction_v2.ipynb",
      "provenance": [],
      "authorship_tag": "ABX9TyOMc5NWRCWi+Y+1wjfY5eVo",
      "include_colab_link": true
    },
    "kernelspec": {
      "name": "python3",
      "display_name": "Python 3"
    },
    "language_info": {
      "name": "python"
    }
  },
  "cells": [
    {
      "cell_type": "markdown",
      "metadata": {
        "id": "view-in-github",
        "colab_type": "text"
      },
      "source": [
        "<a href=\"https://colab.research.google.com/github/ArvindReddyC/Sord_analysis/blob/main/Activity_files/Activity_prediction_v2.ipynb\" target=\"_parent\"><img src=\"https://colab.research.google.com/assets/colab-badge.svg\" alt=\"Open In Colab\"/></a>"
      ]
    },
    {
      "cell_type": "code",
      "execution_count": 1,
      "metadata": {
        "id": "1I_t8wQYaD2U"
      },
      "outputs": [],
      "source": [
        "import pandas as pd\n",
        "import numpy as np\n",
        "import plotly.express as px"
      ]
    },
    {
      "cell_type": "code",
      "source": [
        "!git clone https://github.com/ArvindReddyC/Sord_analysis.git\n"
      ],
      "metadata": {
        "colab": {
          "base_uri": "https://localhost:8080/"
        },
        "id": "mYlTjD41gfP3",
        "outputId": "747e06d8-b295-45b5-da18-c674167372a3"
      },
      "execution_count": 4,
      "outputs": [
        {
          "output_type": "stream",
          "name": "stdout",
          "text": [
            "fatal: destination path 'Sord_analysis' already exists and is not an empty directory.\n"
          ]
        }
      ]
    },
    {
      "cell_type": "markdown",
      "source": [
        "## Visualising for an varition in data"
      ],
      "metadata": {
        "id": "oPK2siE_aV7s"
      }
    },
    {
      "cell_type": "code",
      "source": [
        "def encapsule(df):\n",
        "    display(df.head(5))\n",
        "    print( f'shape of df = {df.shape}' )\n",
        "    return df\n",
        "\n",
        "def tran(x):\n",
        "    y = x[1:-1]\n",
        "    return y.split(',')\n",
        "\n",
        "def only_activities( df , list_of_activities_to_include ): \n",
        "    return df[ df.Activity.isin( list_of_activities_to_include ) ]\n",
        "\n",
        "\n",
        "def data_wrangle( df ):\n",
        "    sample = df[['timestamp','raw_sensor_data']];\n",
        "    sample['parameters'] = sample.raw_sensor_data.apply(tran);\n",
        "    main = pd.DataFrame( sample.parameters.to_list() , columns = ['v1','v2','v3','v4','v5','v6','v7','v8','v9','v10','v11'] );\n",
        "    main['timestamp'] = sample['timestamp'];\n",
        "    main.drop( 'v1' , axis = 1 , inplace = True );\n",
        "    main.set_index('timestamp' , inplace=True);\n",
        "    return main;\n",
        "\n",
        "\n",
        "def removeprocess(x):\n",
        "    try:\n",
        "      main , *_  = x.split(' ')\n",
        "    except (ValueError,AttributeError):\n",
        "      return x\n",
        "    return main\n",
        "\n",
        "def val_counts(df):\n",
        "    return df['Activity'].value_counts()\n",
        "'''\n",
        "Will t\n",
        "'''\n",
        "def groupby_avarage(activity_df):\n",
        "    activity_df['Time'] =  activity_df.Time.astype(int)\n",
        "    means_df = activity_df.groupby('Time').mean()\n",
        "    mode_of_activities = []\n",
        "    for each in activity_df.groupby('Time'):\n",
        "        mode_of_activities.append(each[1]['Activity'].mode()[0])\n",
        "    means_df['Activities'] = mode_of_activities\n",
        "    return means_df\n",
        "\n",
        "\n",
        "def process_sheet(df, number):\n",
        "    df = df.fillna(method='ffill')\n",
        "    df.drop( ['SORD', 'AP time' , 'AP classification'] , axis = 1 , inplace = True )\n",
        "    df = only_activities( df , ['Standing', 'Sitting', 'Reclining' , 'Walking', 'Sitting (outsrtetched legs)'] )\n",
        "    df['User_Id'] = number \n",
        "    df['Activity'] = df.Activity.apply(removeprocess)\n",
        "    df.Activity = df.Activity.replace( 'Reclining' , 'Sitting' )  \n",
        "    display(val_counts(df))\n",
        "    return df\n",
        "\n",
        "\n",
        "def process_sheet_edit(df, number):\n",
        "    df = df.fillna(method='ffill')\n",
        "    display(val_counts(df))\n",
        "    df['Activity'] = df.Activity.apply(removeprocess)\n",
        "    # df.drop( ['SORD', 'AP time' , 'AP classification'] , axis = 1 , inplace = True )\n",
        "    df = only_activities( df , ['Standing', 'Sitting', 'Reclining' , 'Walking', 'Sitting'] )\n",
        "    df['User_Id'] = number \n",
        "    df.Activity = df.Activity.replace( 'Reclining' , 'Sitting' )  \n",
        "    display(val_counts(df))\n",
        "    return df\n",
        "\n",
        "\n",
        "def drop_un(df):\n",
        "  try:\n",
        "    df.drop( ['SORD', 'AP time' , 'AP classification'] , axis = 1 , inplace = True )\n",
        "  except:\n",
        "    return df \n",
        "  return df"
      ],
      "metadata": {
        "id": "6V2szESzacYN"
      },
      "execution_count": 2,
      "outputs": []
    },
    {
      "cell_type": "code",
      "source": [
        ""
      ],
      "metadata": {
        "id": "iE3X2YGrgHcv"
      },
      "execution_count": null,
      "outputs": []
    }
  ]
}